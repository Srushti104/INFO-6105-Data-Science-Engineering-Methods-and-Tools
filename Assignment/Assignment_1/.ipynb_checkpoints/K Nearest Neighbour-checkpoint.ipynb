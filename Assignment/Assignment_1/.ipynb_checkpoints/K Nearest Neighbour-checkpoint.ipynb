{
 "cells": [
  {
   "cell_type": "markdown",
   "metadata": {},
   "source": [
    "<h1 class=\"text-center\">Assignment 1</h1>"
   ]
  },
  {
   "cell_type": "markdown",
   "metadata": {},
   "source": [
    "___"
   ]
  },
  {
   "cell_type": "markdown",
   "metadata": {},
   "source": [
    "# Table of contents\n",
    "1. [Imports](#I.-Imports)\n",
    "2. [Reading data into the notebook](#II.-Reading-data-into-the-notebook)\n",
    "3. [Train-Valid-Test Split](#III.-Train---Valid---Test-Split)\n",
    "4. [Data Pre-processing](#IV.-Data-Pre-processing)\n",
    "5. [Hyperparameter tuning](#V.-Hyperparameter-tuning)\n",
    "6. [Evaluating test set accuracy with the trained model](#VI.-Evaluating-test-set-accuracy-with-the-trained-model)\n",
    "\n",
    "## Assignment Q&A:\n",
    "1. [Question 1 - Answered](#Question-1:)\n",
    "1. [Question 2 - Answered](#Question-2:)"
   ]
  },
  {
   "cell_type": "markdown",
   "metadata": {},
   "source": [
    "___"
   ]
  },
  {
   "cell_type": "markdown",
   "metadata": {},
   "source": [
    "# I. Imports"
   ]
  },
  {
   "cell_type": "code",
   "execution_count": 1,
   "metadata": {},
   "outputs": [
    {
     "name": "stderr",
     "output_type": "stream",
     "text": [
      "C:\\Users\\srush\\Anaconda3\\lib\\site-packages\\sklearn\\externals\\joblib\\__init__.py:15: DeprecationWarning: sklearn.externals.joblib is deprecated in 0.21 and will be removed in 0.23. Please import this functionality directly from joblib, which can be installed with: pip install joblib. If this warning is raised when loading pickled models, you may need to re-serialize those models with scikit-learn 0.21+.\n",
      "  warnings.warn(msg, category=DeprecationWarning)\n"
     ]
    }
   ],
   "source": [
    "import pandas as pd\n",
    "import numpy as np\n",
    "from pandas.api.types import is_string_dtype,is_numeric_dtype\n",
    "from sklearn import preprocessing\n",
    "from sklearn.neighbors import KNeighborsClassifier\n",
    "from sklearn.metrics import confusion_matrix,accuracy_score,matthews_corrcoef,f1_score\n",
    "from sklearn.metrics import classification_report,roc_curve,roc_auc_score\n",
    "from sklearn.externals import joblib\n",
    "from matplotlib import pyplot as plt\n",
    "import seaborn as sns\n",
    "import joblib\n",
    "\n",
    "%matplotlib inline"
   ]
  },
  {
   "cell_type": "code",
   "execution_count": 2,
   "metadata": {},
   "outputs": [
    {
     "data": {
      "text/plain": [
       "'C:\\\\Users\\\\srush\\\\Documents\\\\Srushti NEU\\\\Full Summer 2020\\\\INFO 6105 Data Science Engineering Methods and Tools\\\\Assignment'"
      ]
     },
     "execution_count": 2,
     "metadata": {},
     "output_type": "execute_result"
    }
   ],
   "source": [
    "#Check the path to the directory where you are currently in\n",
    "%pwd"
   ]
  },
  {
   "cell_type": "code",
   "execution_count": 3,
   "metadata": {},
   "outputs": [],
   "source": [
    "'''Define a variable that points to this. This will let you avoid typing the long path everytime you need to use it'''\n",
    "\n",
    "my_path = 'C:\\\\Users\\\\srush\\\\Documents\\\\Srushti NEU\\\\Full Summer 2020\\\\INFO 6105 Data Science Engineering Methods and Tools\\\\Assignment'"
   ]
  },
  {
   "cell_type": "markdown",
   "metadata": {},
   "source": [
    "<a href=\"#Table-of-contents\"><h5 class=\"text-center\">Go to top</h5></a>"
   ]
  },
  {
   "cell_type": "markdown",
   "metadata": {},
   "source": [
    "___"
   ]
  },
  {
   "cell_type": "markdown",
   "metadata": {},
   "source": [
    "# II. Reading data into the notebook"
   ]
  },
  {
   "cell_type": "code",
   "execution_count": 4,
   "metadata": {},
   "outputs": [
    {
     "name": "stdout",
     "output_type": "stream",
     "text": [
      "(1309, 12)\n"
     ]
    },
    {
     "data": {
      "text/html": [
       "<div>\n",
       "<style scoped>\n",
       "    .dataframe tbody tr th:only-of-type {\n",
       "        vertical-align: middle;\n",
       "    }\n",
       "\n",
       "    .dataframe tbody tr th {\n",
       "        vertical-align: top;\n",
       "    }\n",
       "\n",
       "    .dataframe thead th {\n",
       "        text-align: right;\n",
       "    }\n",
       "</style>\n",
       "<table border=\"1\" class=\"dataframe\">\n",
       "  <thead>\n",
       "    <tr style=\"text-align: right;\">\n",
       "      <th></th>\n",
       "      <th>PassengerId</th>\n",
       "      <th>Survived</th>\n",
       "      <th>Pclass</th>\n",
       "      <th>Name</th>\n",
       "      <th>Sex</th>\n",
       "      <th>Age</th>\n",
       "      <th>SibSp</th>\n",
       "      <th>Parch</th>\n",
       "      <th>Ticket</th>\n",
       "      <th>Fare</th>\n",
       "      <th>Cabin</th>\n",
       "      <th>Embarked</th>\n",
       "    </tr>\n",
       "  </thead>\n",
       "  <tbody>\n",
       "    <tr>\n",
       "      <td>0</td>\n",
       "      <td>1</td>\n",
       "      <td>0</td>\n",
       "      <td>3</td>\n",
       "      <td>Braund, Mr. Owen Harris</td>\n",
       "      <td>male</td>\n",
       "      <td>22.0</td>\n",
       "      <td>1</td>\n",
       "      <td>0</td>\n",
       "      <td>A/5 21171</td>\n",
       "      <td>7.2500</td>\n",
       "      <td>NaN</td>\n",
       "      <td>S</td>\n",
       "    </tr>\n",
       "    <tr>\n",
       "      <td>1</td>\n",
       "      <td>2</td>\n",
       "      <td>1</td>\n",
       "      <td>1</td>\n",
       "      <td>Cumings, Mrs. John Bradley (Florence Briggs Th...</td>\n",
       "      <td>female</td>\n",
       "      <td>38.0</td>\n",
       "      <td>1</td>\n",
       "      <td>0</td>\n",
       "      <td>PC 17599</td>\n",
       "      <td>71.2833</td>\n",
       "      <td>C85</td>\n",
       "      <td>C</td>\n",
       "    </tr>\n",
       "    <tr>\n",
       "      <td>2</td>\n",
       "      <td>3</td>\n",
       "      <td>1</td>\n",
       "      <td>3</td>\n",
       "      <td>Heikkinen, Miss. Laina</td>\n",
       "      <td>female</td>\n",
       "      <td>26.0</td>\n",
       "      <td>0</td>\n",
       "      <td>0</td>\n",
       "      <td>STON/O2. 3101282</td>\n",
       "      <td>7.9250</td>\n",
       "      <td>NaN</td>\n",
       "      <td>S</td>\n",
       "    </tr>\n",
       "    <tr>\n",
       "      <td>3</td>\n",
       "      <td>4</td>\n",
       "      <td>1</td>\n",
       "      <td>1</td>\n",
       "      <td>Futrelle, Mrs. Jacques Heath (Lily May Peel)</td>\n",
       "      <td>female</td>\n",
       "      <td>35.0</td>\n",
       "      <td>1</td>\n",
       "      <td>0</td>\n",
       "      <td>113803</td>\n",
       "      <td>53.1000</td>\n",
       "      <td>C123</td>\n",
       "      <td>S</td>\n",
       "    </tr>\n",
       "    <tr>\n",
       "      <td>4</td>\n",
       "      <td>5</td>\n",
       "      <td>0</td>\n",
       "      <td>3</td>\n",
       "      <td>Allen, Mr. William Henry</td>\n",
       "      <td>male</td>\n",
       "      <td>35.0</td>\n",
       "      <td>0</td>\n",
       "      <td>0</td>\n",
       "      <td>373450</td>\n",
       "      <td>8.0500</td>\n",
       "      <td>NaN</td>\n",
       "      <td>S</td>\n",
       "    </tr>\n",
       "  </tbody>\n",
       "</table>\n",
       "</div>"
      ],
      "text/plain": [
       "   PassengerId  Survived  Pclass  \\\n",
       "0            1         0       3   \n",
       "1            2         1       1   \n",
       "2            3         1       3   \n",
       "3            4         1       1   \n",
       "4            5         0       3   \n",
       "\n",
       "                                                Name     Sex   Age  SibSp  \\\n",
       "0                            Braund, Mr. Owen Harris    male  22.0      1   \n",
       "1  Cumings, Mrs. John Bradley (Florence Briggs Th...  female  38.0      1   \n",
       "2                             Heikkinen, Miss. Laina  female  26.0      0   \n",
       "3       Futrelle, Mrs. Jacques Heath (Lily May Peel)  female  35.0      1   \n",
       "4                           Allen, Mr. William Henry    male  35.0      0   \n",
       "\n",
       "   Parch            Ticket     Fare Cabin Embarked  \n",
       "0      0         A/5 21171   7.2500   NaN        S  \n",
       "1      0          PC 17599  71.2833   C85        C  \n",
       "2      0  STON/O2. 3101282   7.9250   NaN        S  \n",
       "3      0            113803  53.1000  C123        S  \n",
       "4      0            373450   8.0500   NaN        S  "
      ]
     },
     "execution_count": 4,
     "metadata": {},
     "output_type": "execute_result"
    }
   ],
   "source": [
    "'''Reading csv file, finding out shape(using shape()) and printing the first 5 rows using head()'''\n",
    "my_df = pd.read_csv(f'{my_path}/Titanic_full.csv')\n",
    "print(my_df.shape)\n",
    "my_df.head(5)"
   ]
  },
  {
   "cell_type": "markdown",
   "metadata": {},
   "source": [
    "<a href=\"#Table-of-contents\"><h5 class=\"text-center\">Go to top</h5></a>"
   ]
  },
  {
   "cell_type": "markdown",
   "metadata": {},
   "source": [
    "___"
   ]
  },
  {
   "cell_type": "markdown",
   "metadata": {},
   "source": [
    "# III. Train - Valid - Test Split"
   ]
  },
  {
   "cell_type": "code",
   "execution_count": 5,
   "metadata": {},
   "outputs": [
    {
     "name": "stdout",
     "output_type": "stream",
     "text": [
      "(1100, 12) (209, 12)\n"
     ]
    }
   ],
   "source": [
    "'''70% is called a training set. 15% of the data goes into evaluating model performance as you manually \n",
    "change or set the modelhyperparameters (e.g. Value of K is a hyperparameter,in K-NN algorithm).\n",
    "Also called the validation set. Finally, the last 15% of the data is the test set.  This dataset is \n",
    "never \"seen\" by the model for model building or hyperparamter tuning.\n",
    "\n",
    "Calculate 15% of 1309. This is about 209 rows of data. So, 1309 - 209 = 1100 rows of data will remain for the\n",
    "train and valid sets which we will separate later. 200 rows of data will go as test set data'''\n",
    "\n",
    "def mydf_splitter(my_df,num_rows):\n",
    "    return my_df[:num_rows].copy(),my_df[num_rows:]\n",
    "\n",
    "\n",
    "mydf_train_valid,mydf_test = mydf_splitter(my_df,1100)\n",
    "\n",
    "print(mydf_train_valid.shape,mydf_test.shape)\n",
    "\n",
    "#We are going to put away the mydf_test for now. \n",
    "#We will return to it later."
   ]
  },
  {
   "cell_type": "markdown",
   "metadata": {},
   "source": [
    "<a href=\"#Table-of-contents\"><h5 class=\"text-center\">Go to top</h5></a>"
   ]
  },
  {
   "cell_type": "markdown",
   "metadata": {},
   "source": [
    "___"
   ]
  },
  {
   "cell_type": "markdown",
   "metadata": {},
   "source": [
    "# IV. Data Pre-processing"
   ]
  },
  {
   "cell_type": "code",
   "execution_count": 6,
   "metadata": {},
   "outputs": [
    {
     "data": {
      "text/plain": [
       "<matplotlib.axes._subplots.AxesSubplot at 0x25ad7738ac8>"
      ]
     },
     "execution_count": 6,
     "metadata": {},
     "output_type": "execute_result"
    },
    {
     "data": {
      "image/png": "[encoded data removed]",
      "text/plain": [
       "<Figure size 576x432 with 1 Axes>"
      ]
     },
     "metadata": {
      "needs_background": "light"
     },
     "output_type": "display_data"
    }
   ],
   "source": [
    "''' Deal with missing values:\n",
    "        First, calculate the percentage of missing values for every column, \n",
    "        and plot them as a bar chart'''\n",
    "\n",
    "null_vals = mydf_train_valid.isnull().sum()/len(mydf_train_valid)*100\n",
    "null_vals = pd.DataFrame(null_vals)\n",
    "null_vals.reset_index(inplace = True)\n",
    "null_vals.columns = [\"Feature\",\"Percent missing\"]\n",
    "plt.figure(figsize = (8,6))\n",
    "plt.xticks(rotation=90)\n",
    "sns.barplot(x = \"Feature\",y =\"Percent missing\",data = null_vals)"
   ]
  },
  {
   "cell_type": "markdown",
   "metadata": {},
   "source": [
    "> From the above plot, it looks like Cabin has ~80%missing values.\n",
    "It would be meaningless to impute or fill in 80% values, so we drop the column.\n",
    "We will impute age (which has ~ 20% missing, but we'll try to impute),\n",
    "Fare, and Embarked column.These have very little missing values.\n",
    ">\n",
    ">We are going to preprocess this dataset in these steps--\n",
    ">1. Convert the entire dataframe to an array of numbers. This itself is going to happen in two steps -- (a) Convert object types and string types to category type (b) map and convert cateogries of numbers.  \n",
    ">  \n",
    ">2. Impute or \"fill in\" missing values or NaNs. Here, continuous (e.g. Fare column) and categorical values are treated separately. For filling up missing continuous values, we use the median value of that column, and filling up missing categorical values, we use 0. Also, we add a separate \"marker\" column for both that notes whether a value has been imputed or not.  \n",
    ">  \n",
    ">3. Finally, for a lot of the algorithms like k-NN, we scale the data to lie between 0 and 1 with mean zero and unit variance.\n"
   ]
  },
  {
   "cell_type": "code",
   "execution_count": 7,
   "metadata": {},
   "outputs": [
    {
     "name": "stdout",
     "output_type": "stream",
     "text": [
      "(1100, 11)\n"
     ]
    },
    {
     "data": {
      "text/html": [
       "<div>\n",
       "<style scoped>\n",
       "    .dataframe tbody tr th:only-of-type {\n",
       "        vertical-align: middle;\n",
       "    }\n",
       "\n",
       "    .dataframe tbody tr th {\n",
       "        vertical-align: top;\n",
       "    }\n",
       "\n",
       "    .dataframe thead th {\n",
       "        text-align: right;\n",
       "    }\n",
       "</style>\n",
       "<table border=\"1\" class=\"dataframe\">\n",
       "  <thead>\n",
       "    <tr style=\"text-align: right;\">\n",
       "      <th></th>\n",
       "      <th>PassengerId</th>\n",
       "      <th>Survived</th>\n",
       "      <th>Pclass</th>\n",
       "      <th>Name</th>\n",
       "      <th>Sex</th>\n",
       "      <th>Age</th>\n",
       "      <th>SibSp</th>\n",
       "      <th>Parch</th>\n",
       "      <th>Ticket</th>\n",
       "      <th>Fare</th>\n",
       "      <th>Embarked</th>\n",
       "    </tr>\n",
       "  </thead>\n",
       "  <tbody>\n",
       "    <tr>\n",
       "      <td>0</td>\n",
       "      <td>1</td>\n",
       "      <td>0</td>\n",
       "      <td>3</td>\n",
       "      <td>Braund, Mr. Owen Harris</td>\n",
       "      <td>male</td>\n",
       "      <td>22.0</td>\n",
       "      <td>1</td>\n",
       "      <td>0</td>\n",
       "      <td>A/5 21171</td>\n",
       "      <td>7.2500</td>\n",
       "      <td>S</td>\n",
       "    </tr>\n",
       "    <tr>\n",
       "      <td>1</td>\n",
       "      <td>2</td>\n",
       "      <td>1</td>\n",
       "      <td>1</td>\n",
       "      <td>Cumings, Mrs. John Bradley (Florence Briggs Th...</td>\n",
       "      <td>female</td>\n",
       "      <td>38.0</td>\n",
       "      <td>1</td>\n",
       "      <td>0</td>\n",
       "      <td>PC 17599</td>\n",
       "      <td>71.2833</td>\n",
       "      <td>C</td>\n",
       "    </tr>\n",
       "  </tbody>\n",
       "</table>\n",
       "</div>"
      ],
      "text/plain": [
       "   PassengerId  Survived  Pclass  \\\n",
       "0            1         0       3   \n",
       "1            2         1       1   \n",
       "\n",
       "                                                Name     Sex   Age  SibSp  \\\n",
       "0                            Braund, Mr. Owen Harris    male  22.0      1   \n",
       "1  Cumings, Mrs. John Bradley (Florence Briggs Th...  female  38.0      1   \n",
       "\n",
       "   Parch     Ticket     Fare Embarked  \n",
       "0      0  A/5 21171   7.2500        S  \n",
       "1      0   PC 17599  71.2833        C  "
      ]
     },
     "execution_count": 7,
     "metadata": {},
     "output_type": "execute_result"
    }
   ],
   "source": [
    "mydf_train_valid_2 = mydf_train_valid.drop(\"Cabin\",axis = 1)\n",
    "print(mydf_train_valid_2.shape)\n",
    "mydf_train_valid_2.head(2)"
   ]
  },
  {
   "cell_type": "code",
   "execution_count": 8,
   "metadata": {},
   "outputs": [
    {
     "name": "stdout",
     "output_type": "stream",
     "text": [
      "<class 'pandas.core.frame.DataFrame'>\n",
      "RangeIndex: 1100 entries, 0 to 1099\n",
      "Data columns (total 11 columns):\n",
      "PassengerId    1100 non-null int64\n",
      "Survived       1100 non-null int64\n",
      "Pclass         1100 non-null int64\n",
      "Name           1100 non-null object\n",
      "Sex            1100 non-null object\n",
      "Age            881 non-null float64\n",
      "SibSp          1100 non-null int64\n",
      "Parch          1100 non-null int64\n",
      "Ticket         1100 non-null object\n",
      "Fare           1099 non-null float64\n",
      "Embarked       1098 non-null object\n",
      "dtypes: float64(2), int64(5), object(4)\n",
      "memory usage: 94.7+ KB\n"
     ]
    }
   ],
   "source": [
    "#Check types of each column with the dataframe info () method\n",
    "mydf_train_valid_2.info()"
   ]
  },
  {
   "cell_type": "code",
   "execution_count": 9,
   "metadata": {},
   "outputs": [],
   "source": [
    "'''You can see that several of the columns or features are \"object\" type. There need to be changed to category before \n",
    "we can convert those to mappings and numbers'''\n",
    "    \n",
    "#1 (a) Define a function to convert object types and string types to category type\n",
    "\n",
    "def str_to_cat(my_df):\n",
    "    for p,q in my_df.items(): #my_df.items() is a generator in Python\n",
    "        if is_string_dtype(q): \n",
    "            my_df[p] = q.astype('category').cat.as_ordered()\n",
    "    return my_df"
   ]
  },
  {
   "cell_type": "code",
   "execution_count": 10,
   "metadata": {},
   "outputs": [
    {
     "name": "stdout",
     "output_type": "stream",
     "text": [
      "      PassengerId  Survived  Pclass  \\\n",
      "0               1         0       3   \n",
      "1               2         1       1   \n",
      "2               3         1       3   \n",
      "3               4         1       1   \n",
      "4               5         0       3   \n",
      "...           ...       ...     ...   \n",
      "1095         1096         1       2   \n",
      "1096         1097         0       1   \n",
      "1097         1098         0       3   \n",
      "1098         1099         1       2   \n",
      "1099         1100         1       1   \n",
      "\n",
      "                                                   Name     Sex   Age  SibSp  \\\n",
      "0                               Braund, Mr. Owen Harris    male  22.0      1   \n",
      "1     Cumings, Mrs. John Bradley (Florence Briggs Th...  female  38.0      1   \n",
      "2                                Heikkinen, Miss. Laina  female  26.0      0   \n",
      "3          Futrelle, Mrs. Jacques Heath (Lily May Peel)  female  35.0      1   \n",
      "4                              Allen, Mr. William Henry    male  35.0      0   \n",
      "...                                                 ...     ...   ...    ...   \n",
      "1095                           Andrew, Mr. Frank Thomas    male  25.0      0   \n",
      "1096                          Omont, Mr. Alfred Fernand    male   NaN      0   \n",
      "1097                           McGowan, Miss. Katherine  female  35.0      0   \n",
      "1098                       Collett, Mr. Sidney C Stuart    male  24.0      0   \n",
      "1099                      Rosenbaum, Miss. Edith Louise  female  33.0      0   \n",
      "\n",
      "      Parch            Ticket     Fare Embarked  \n",
      "0         0         A/5 21171   7.2500        S  \n",
      "1         0          PC 17599  71.2833        C  \n",
      "2         0  STON/O2. 3101282   7.9250        S  \n",
      "3         0            113803  53.1000        S  \n",
      "4         0            373450   8.0500        S  \n",
      "...     ...               ...      ...      ...  \n",
      "1095      0        C.A. 34050  10.5000        S  \n",
      "1096      0        F.C. 12998  25.7417        C  \n",
      "1097      0              9232   7.7500        Q  \n",
      "1098      0             28034  10.5000        S  \n",
      "1099      0          PC 17613  27.7208        C  \n",
      "\n",
      "[1100 rows x 11 columns]\n"
     ]
    }
   ],
   "source": [
    "mydf_train_valid_3 = str_to_cat(mydf_train_valid_2)\n",
    "print(mydf_train_valid_3)"
   ]
  },
  {
   "cell_type": "code",
   "execution_count": 11,
   "metadata": {},
   "outputs": [
    {
     "name": "stdout",
     "output_type": "stream",
     "text": [
      "<class 'pandas.core.frame.DataFrame'>\n",
      "RangeIndex: 1100 entries, 0 to 1099\n",
      "Data columns (total 11 columns):\n",
      "PassengerId    1100 non-null int64\n",
      "Survived       1100 non-null int64\n",
      "Pclass         1100 non-null int64\n",
      "Name           1100 non-null category\n",
      "Sex            1100 non-null category\n",
      "Age            881 non-null float64\n",
      "SibSp          1100 non-null int64\n",
      "Parch          1100 non-null int64\n",
      "Ticket         1100 non-null category\n",
      "Fare           1099 non-null float64\n",
      "Embarked       1098 non-null category\n",
      "dtypes: category(4), float64(2), int64(5)\n",
      "memory usage: 161.8 KB\n"
     ]
    }
   ],
   "source": [
    "#Check dtypes of columns after this operation\n",
    "mydf_train_valid_3.info()"
   ]
  },
  {
   "cell_type": "code",
   "execution_count": 12,
   "metadata": {},
   "outputs": [
    {
     "name": "stdout",
     "output_type": "stream",
     "text": [
      "Index(['C', 'Q', 'S'], dtype='object')\n",
      "Index(['female', 'male'], dtype='object')\n"
     ]
    }
   ],
   "source": [
    "'''Check the cateogry mapping for Embarked and Sex column. We need this later'''\n",
    "print(mydf_train_valid_3.Embarked.cat.categories)\n",
    "print(mydf_train_valid_3.Sex.cat.categories)"
   ]
  },
  {
   "cell_type": "markdown",
   "metadata": {},
   "source": [
    ">All object categories like Name, Sex, and Ticket have been converted to\n",
    "Category dtype !"
   ]
  },
  {
   "cell_type": "code",
   "execution_count": 13,
   "metadata": {},
   "outputs": [],
   "source": [
    "'''Define impute functions:\n",
    "    Impute categorical NaNs with -1, where we add 1 to make it 0. \n",
    "    For each continuous variables, we impute missing values with median values of that column, \n",
    "    and for every variable where any rows were imputed, add a separate 'imputed or not' column'''\n",
    "\n",
    "def mydf_to_nums(my_df, feature, null_status):\n",
    "    if not is_numeric_dtype(feature):\n",
    "        my_df[null_status] = feature.cat.codes + 1\n",
    "        \n",
    "def mydf_imputer(my_df, feature, null_status, null_table):\n",
    "    if is_numeric_dtype(feature):\n",
    "        if pd.isnull(feature).sum() or (null_status in null_table):\n",
    "            my_df[null_status+'_na'] = pd.isnull(feature)\n",
    "            filler = null_table[null_status] if null_status in null_table else feature.median()\n",
    "            my_df[null_status] = feature.fillna(filler)\n",
    "            null_table[null_status] = filler\n",
    "    return null_table   \n",
    "\n",
    "def mydf_preprocessor(my_df, null_table):\n",
    "    '''null_table  = your table or None'''\n",
    "    \n",
    "    if null_table is None: \n",
    "        null_table = dict()\n",
    "    for p,q in my_df.items(): \n",
    "        null_table = mydf_imputer(my_df, q, p, null_table)\n",
    "    for p,q in my_df.items(): \n",
    "        mydf_to_nums(my_df, q, p)\n",
    "    my_df = pd.get_dummies(my_df, dummy_na = True)\n",
    "    res = [my_df, null_table]\n",
    "    return res"
   ]
  },
  {
   "cell_type": "code",
   "execution_count": 14,
   "metadata": {},
   "outputs": [],
   "source": [
    "mydf_train_valid_4,my_table = mydf_preprocessor(mydf_train_valid_3,null_table = None)"
   ]
  },
  {
   "cell_type": "code",
   "execution_count": 15,
   "metadata": {},
   "outputs": [
    {
     "data": {
      "text/html": [
       "<div>\n",
       "<style scoped>\n",
       "    .dataframe tbody tr th:only-of-type {\n",
       "        vertical-align: middle;\n",
       "    }\n",
       "\n",
       "    .dataframe tbody tr th {\n",
       "        vertical-align: top;\n",
       "    }\n",
       "\n",
       "    .dataframe thead th {\n",
       "        text-align: right;\n",
       "    }\n",
       "</style>\n",
       "<table border=\"1\" class=\"dataframe\">\n",
       "  <thead>\n",
       "    <tr style=\"text-align: right;\">\n",
       "      <th></th>\n",
       "      <th>PassengerId</th>\n",
       "      <th>Survived</th>\n",
       "      <th>Pclass</th>\n",
       "      <th>Name</th>\n",
       "      <th>Sex</th>\n",
       "      <th>Age</th>\n",
       "      <th>SibSp</th>\n",
       "      <th>Parch</th>\n",
       "      <th>Ticket</th>\n",
       "      <th>Fare</th>\n",
       "      <th>Embarked</th>\n",
       "      <th>Age_na</th>\n",
       "      <th>Fare_na</th>\n",
       "    </tr>\n",
       "  </thead>\n",
       "  <tbody>\n",
       "    <tr>\n",
       "      <td>0</td>\n",
       "      <td>1</td>\n",
       "      <td>0</td>\n",
       "      <td>3</td>\n",
       "      <td>135</td>\n",
       "      <td>2</td>\n",
       "      <td>22.0</td>\n",
       "      <td>1</td>\n",
       "      <td>0</td>\n",
       "      <td>629</td>\n",
       "      <td>7.2500</td>\n",
       "      <td>3</td>\n",
       "      <td>False</td>\n",
       "      <td>False</td>\n",
       "    </tr>\n",
       "    <tr>\n",
       "      <td>1</td>\n",
       "      <td>2</td>\n",
       "      <td>1</td>\n",
       "      <td>1</td>\n",
       "      <td>245</td>\n",
       "      <td>1</td>\n",
       "      <td>38.0</td>\n",
       "      <td>1</td>\n",
       "      <td>0</td>\n",
       "      <td>713</td>\n",
       "      <td>71.2833</td>\n",
       "      <td>1</td>\n",
       "      <td>False</td>\n",
       "      <td>False</td>\n",
       "    </tr>\n",
       "    <tr>\n",
       "      <td>2</td>\n",
       "      <td>3</td>\n",
       "      <td>1</td>\n",
       "      <td>3</td>\n",
       "      <td>442</td>\n",
       "      <td>1</td>\n",
       "      <td>26.0</td>\n",
       "      <td>0</td>\n",
       "      <td>0</td>\n",
       "      <td>799</td>\n",
       "      <td>7.9250</td>\n",
       "      <td>3</td>\n",
       "      <td>False</td>\n",
       "      <td>False</td>\n",
       "    </tr>\n",
       "  </tbody>\n",
       "</table>\n",
       "</div>"
      ],
      "text/plain": [
       "   PassengerId  Survived  Pclass  Name  Sex   Age  SibSp  Parch  Ticket  \\\n",
       "0            1         0       3   135    2  22.0      1      0     629   \n",
       "1            2         1       1   245    1  38.0      1      0     713   \n",
       "2            3         1       3   442    1  26.0      0      0     799   \n",
       "\n",
       "      Fare  Embarked  Age_na  Fare_na  \n",
       "0   7.2500         3   False    False  \n",
       "1  71.2833         1   False    False  \n",
       "2   7.9250         3   False    False  "
      ]
     },
     "execution_count": 15,
     "metadata": {},
     "output_type": "execute_result"
    }
   ],
   "source": [
    "mydf_train_valid_4.head(3)"
   ]
  },
  {
   "cell_type": "code",
   "execution_count": 16,
   "metadata": {},
   "outputs": [
    {
     "data": {
      "text/plain": [
       "{'Age': 28.0, 'Fare': 14.4583}"
      ]
     },
     "execution_count": 16,
     "metadata": {},
     "output_type": "execute_result"
    }
   ],
   "source": [
    "'''Please store the null_table, category mapping separately. \n",
    "    We will need to process the test dataset using these values'''\n",
    "\n",
    "my_table"
   ]
  },
  {
   "cell_type": "code",
   "execution_count": 17,
   "metadata": {},
   "outputs": [
    {
     "name": "stdout",
     "output_type": "stream",
     "text": [
      "(1100, 12) (1100,)\n"
     ]
    }
   ],
   "source": [
    "'''Now, let's separate the X and Y variables (vertical split of the dataframe). \n",
    "    Here the Y column is the variable we are trying to predict, survived or not(0 = No, 1 = Yes)'''\n",
    "\n",
    "Y = mydf_train_valid_4[\"Survived\"]\n",
    "X = mydf_train_valid_4.drop([\"Survived\"],axis = 1)\n",
    "\n",
    "print(X.shape,Y.shape)"
   ]
  },
  {
   "cell_type": "code",
   "execution_count": 18,
   "metadata": {},
   "outputs": [
    {
     "name": "stdout",
     "output_type": "stream",
     "text": [
      "(1100, 10) (1100, 2)\n"
     ]
    }
   ],
   "source": [
    "X_cat = X[['PassengerId', 'Pclass', 'Name', 'Sex', 'SibSp', 'Parch',\n",
    "       'Ticket', 'Embarked', 'Age_na', 'Fare_na']]\n",
    "X_con = X.drop(X_cat,axis = 1)\n",
    "print(X_cat.shape,X_con.shape)"
   ]
  },
  {
   "cell_type": "code",
   "execution_count": 19,
   "metadata": {},
   "outputs": [
    {
     "name": "stdout",
     "output_type": "stream",
     "text": [
      "(1100, 2)\n"
     ]
    },
    {
     "data": {
      "text/html": [
       "<div>\n",
       "<style scoped>\n",
       "    .dataframe tbody tr th:only-of-type {\n",
       "        vertical-align: middle;\n",
       "    }\n",
       "\n",
       "    .dataframe tbody tr th {\n",
       "        vertical-align: top;\n",
       "    }\n",
       "\n",
       "    .dataframe thead th {\n",
       "        text-align: right;\n",
       "    }\n",
       "</style>\n",
       "<table border=\"1\" class=\"dataframe\">\n",
       "  <thead>\n",
       "    <tr style=\"text-align: right;\">\n",
       "      <th></th>\n",
       "      <th>Age</th>\n",
       "      <th>Fare</th>\n",
       "    </tr>\n",
       "  </thead>\n",
       "  <tbody>\n",
       "    <tr>\n",
       "      <td>0</td>\n",
       "      <td>-0.574896</td>\n",
       "      <td>-0.502155</td>\n",
       "    </tr>\n",
       "    <tr>\n",
       "      <td>1</td>\n",
       "      <td>0.659705</td>\n",
       "      <td>0.747957</td>\n",
       "    </tr>\n",
       "  </tbody>\n",
       "</table>\n",
       "</div>"
      ],
      "text/plain": [
       "        Age      Fare\n",
       "0 -0.574896 -0.502155\n",
       "1  0.659705  0.747957"
      ]
     },
     "execution_count": 19,
     "metadata": {},
     "output_type": "execute_result"
    }
   ],
   "source": [
    "scaler = preprocessing.StandardScaler().fit(X_con)\n",
    "X_con_sc = pd.DataFrame(scaler.transform(X_con))\n",
    "X_con_sc.columns = [\"Age\",\"Fare\"]\n",
    "print(X_con_sc.shape)\n",
    "X_con_sc.head(2)"
   ]
  },
  {
   "cell_type": "code",
   "execution_count": 20,
   "metadata": {},
   "outputs": [
    {
     "name": "stdout",
     "output_type": "stream",
     "text": [
      "(1100, 12)\n"
     ]
    },
    {
     "data": {
      "text/html": [
       "<div>\n",
       "<style scoped>\n",
       "    .dataframe tbody tr th:only-of-type {\n",
       "        vertical-align: middle;\n",
       "    }\n",
       "\n",
       "    .dataframe tbody tr th {\n",
       "        vertical-align: top;\n",
       "    }\n",
       "\n",
       "    .dataframe thead th {\n",
       "        text-align: right;\n",
       "    }\n",
       "</style>\n",
       "<table border=\"1\" class=\"dataframe\">\n",
       "  <thead>\n",
       "    <tr style=\"text-align: right;\">\n",
       "      <th></th>\n",
       "      <th>PassengerId</th>\n",
       "      <th>Pclass</th>\n",
       "      <th>Name</th>\n",
       "      <th>Sex</th>\n",
       "      <th>SibSp</th>\n",
       "      <th>Parch</th>\n",
       "      <th>Ticket</th>\n",
       "      <th>Embarked</th>\n",
       "      <th>Age_na</th>\n",
       "      <th>Fare_na</th>\n",
       "      <th>Age</th>\n",
       "      <th>Fare</th>\n",
       "    </tr>\n",
       "  </thead>\n",
       "  <tbody>\n",
       "    <tr>\n",
       "      <td>0</td>\n",
       "      <td>1</td>\n",
       "      <td>3</td>\n",
       "      <td>135</td>\n",
       "      <td>2</td>\n",
       "      <td>1</td>\n",
       "      <td>0</td>\n",
       "      <td>629</td>\n",
       "      <td>3</td>\n",
       "      <td>False</td>\n",
       "      <td>False</td>\n",
       "      <td>-0.574896</td>\n",
       "      <td>-0.502155</td>\n",
       "    </tr>\n",
       "    <tr>\n",
       "      <td>1</td>\n",
       "      <td>2</td>\n",
       "      <td>1</td>\n",
       "      <td>245</td>\n",
       "      <td>1</td>\n",
       "      <td>1</td>\n",
       "      <td>0</td>\n",
       "      <td>713</td>\n",
       "      <td>1</td>\n",
       "      <td>False</td>\n",
       "      <td>False</td>\n",
       "      <td>0.659705</td>\n",
       "      <td>0.747957</td>\n",
       "    </tr>\n",
       "  </tbody>\n",
       "</table>\n",
       "</div>"
      ],
      "text/plain": [
       "   PassengerId  Pclass  Name  Sex  SibSp  Parch  Ticket  Embarked  Age_na  \\\n",
       "0            1       3   135    2      1      0     629         3   False   \n",
       "1            2       1   245    1      1      0     713         1   False   \n",
       "\n",
       "   Fare_na       Age      Fare  \n",
       "0    False -0.574896 -0.502155  \n",
       "1    False  0.659705  0.747957  "
      ]
     },
     "execution_count": 20,
     "metadata": {},
     "output_type": "execute_result"
    }
   ],
   "source": [
    "df_list = [X_cat,X_con_sc]\n",
    "X_full = pd.concat(df_list,axis = 1)\n",
    "print(X_full.shape)\n",
    "X_full.head(2)"
   ]
  },
  {
   "cell_type": "code",
   "execution_count": 21,
   "metadata": {},
   "outputs": [
    {
     "name": "stdout",
     "output_type": "stream",
     "text": [
      "(900, 12) (200, 12) (900,) (200,)\n"
     ]
    }
   ],
   "source": [
    "'''Then, split into train and valid sets for model building and hyperparameter tuning, respectively \n",
    "    \n",
    "    !Remember, we need to split (horizontally the rows) X_full into train and validation sets. \n",
    "    We use the dataframe splitter function we defined previously. \n",
    "    Strictly for later use in another module, merge X and Y and store.\n",
    "    Save it as train data.'''\n",
    "\n",
    "X_train,X_valid = mydf_splitter(X_full,900)\n",
    "Y_train,Y_valid = mydf_splitter(Y,900)\n",
    "\n",
    "print(X_train.shape,X_valid.shape,Y_train.shape,Y_valid.shape)\n"
   ]
  },
  {
   "cell_type": "code",
   "execution_count": 22,
   "metadata": {},
   "outputs": [],
   "source": [
    "'''Time for training the model and evaluating it on the validation set. \n",
    "    At first, let's use the default values for the kNN hyperparameters -\n",
    "    (n_neighbors = 3,weights = 'uniform'). \n",
    "    KNN has more hyperparameters such as leaf_size, metric, etc. \n",
    "    But, these two are key hyperparamters'''\n",
    "\n",
    "my_knn_model = KNeighborsClassifier(n_neighbors = 5,weights = 'uniform')\n",
    "my_knn_model.fit(X_train,Y_train)\n",
    "\n",
    "#Predict on the validation set\n",
    "Y_pred = my_knn_model.predict(X_valid)"
   ]
  },
  {
   "cell_type": "code",
   "execution_count": 23,
   "metadata": {},
   "outputs": [
    {
     "data": {
      "text/plain": [
       "<matplotlib.axes._subplots.AxesSubplot at 0x25ad7c1ec48>"
      ]
     },
     "execution_count": 23,
     "metadata": {},
     "output_type": "execute_result"
    },
    {
     "data": {
      "image/png": "[encoded data removed]",
      "text/plain": [
       "<Figure size 576x576 with 2 Axes>"
      ]
     },
     "metadata": {
      "needs_background": "light"
     },
     "output_type": "display_data"
    }
   ],
   "source": [
    "# Plot confusion matrix\n",
    "from sklearn.metrics import confusion_matrix\n",
    "\n",
    "my_knn_cmatrix = confusion_matrix(Y_valid,Y_pred)\n",
    "my_knn_df = pd.DataFrame(my_knn_cmatrix)\n",
    "\n",
    "plt.figure(figsize = (8,8))\n",
    "x_axis_labels = [\"Unlucky\",\"Survived\"] # labels for x-axis\n",
    "y_axis_labels = [\"Unlucky\",\"Survived\"] # labels for y-axis\n",
    "\n",
    "plt.yticks(va=\"center\")\n",
    "\n",
    "# create seabvorn heatmap with required labels\n",
    "sns.heatmap(my_knn_df, xticklabels=x_axis_labels, yticklabels=y_axis_labels, annot=True)"
   ]
  },
  {
   "cell_type": "code",
   "execution_count": 24,
   "metadata": {},
   "outputs": [
    {
     "name": "stdout",
     "output_type": "stream",
     "text": [
      "0.54 -0.0474697036788388 0.29230769230769227\n"
     ]
    }
   ],
   "source": [
    "print(accuracy_score(Y_valid,Y_pred),\n",
    "      matthews_corrcoef(Y_valid,Y_pred),f1_score(Y_valid,Y_pred))\n",
    "\n",
    "#An MCC of -0.0474 looks bad !We need to do model tuning or \n",
    "#hyperparameter tuning to try to make it better"
   ]
  },
  {
   "cell_type": "markdown",
   "metadata": {},
   "source": [
    "<a href=\"#Table-of-contents\"><h5 class=\"text-center\">Go to top</h5></a>"
   ]
  },
  {
   "cell_type": "markdown",
   "metadata": {},
   "source": [
    "___"
   ]
  },
  {
   "cell_type": "markdown",
   "metadata": {},
   "source": [
    "# V. Hyperparameter tuning"
   ]
  },
  {
   "cell_type": "markdown",
   "metadata": {},
   "source": [
    "> # Question 1:\n",
    ">>The K nearest neighbor algorithm has hyper-parameters in addition to K. Use the titanic dataset to simultaneously tune the values of more than one hyper-parameter. E.g. Value of K, weight, and metric. You can either do nested for loops for this or use the grid search OR random search function from scikit-learn."
   ]
  },
  {
   "cell_type": "code",
   "execution_count": 25,
   "metadata": {},
   "outputs": [
    {
     "name": "stdout",
     "output_type": "stream",
     "text": [
      "Fitting 3 folds for each of 200 candidates, totalling 600 fits\n"
     ]
    },
    {
     "name": "stderr",
     "output_type": "stream",
     "text": [
      "[Parallel(n_jobs=-1)]: Using backend LokyBackend with 8 concurrent workers.\n",
      "[Parallel(n_jobs=-1)]: Done  34 tasks      | elapsed:    3.3s\n"
     ]
    },
    {
     "name": "stdout",
     "output_type": "stream",
     "text": [
      "Grid search took 5.21 seconds\n",
      "Grid search accuracy: 100.00%\n",
      "Grid search best parameters: {'metric': 'cityblock', 'n_neighbors': 39, 'weights': 'distance'}\n"
     ]
    },
    {
     "name": "stderr",
     "output_type": "stream",
     "text": [
      "[Parallel(n_jobs=-1)]: Done 600 out of 600 | elapsed:    5.1s finished\n"
     ]
    }
   ],
   "source": [
    "#Implementing GridSearch for tuning hyperparameter\n",
    "from sklearn.model_selection  import GridSearchCV\n",
    "import time\n",
    "\n",
    "'''Creating a parameter grid: map the parameter names to the values that should be searched.\n",
    "    \n",
    "    Here: in Params using arange method to create a list of numbers from 1 till 101\n",
    "    and skipping 2 i.e. considering all odd numbers'''\n",
    "\n",
    "params = {\"n_neighbors\": np.arange(1, 101, 2),\n",
    "          \"weights\":['uniform','distance'],\n",
    "        \"metric\": [\"euclidean\", \"cityblock\"]}\n",
    "\n",
    "my_knn_model = KNeighborsClassifier()\n",
    "\n",
    "# Instantiate the grid\n",
    "grid = GridSearchCV(my_knn_model, params,verbose=1,cv=3,n_jobs=-1) \n",
    "start = time.time()\n",
    "\n",
    "# Fit the grid with data\n",
    "grid_result = grid.fit(X_train,Y_train)                           \n",
    "\n",
    "# Printing Time taken for the search\n",
    "print(\"Grid search took {:.2f} seconds\".format(time.time() - start))\n",
    "\n",
    "# Printing Grid search accuracy for the hyperparameters selecte by the grid\n",
    "acc = grid.score(X_train,Y_train)\n",
    "print(\"Grid search accuracy: {:.2f}%\".format(acc * 100))\n",
    "\n",
    "# Printing Grid search hyperparameters selected\n",
    "print(\"Grid search best parameters: {}\".format(grid.best_params_))\n",
    "\n",
    "#Predict on the validation set\n",
    "Y_pred = grid.predict(X_valid)"
   ]
  },
  {
   "cell_type": "code",
   "execution_count": 26,
   "metadata": {},
   "outputs": [
    {
     "data": {
      "text/plain": [
       "GridSearchCV(cv=3, error_score='raise-deprecating',\n",
       "             estimator=KNeighborsClassifier(algorithm='auto', leaf_size=30,\n",
       "                                            metric='minkowski',\n",
       "                                            metric_params=None, n_jobs=None,\n",
       "                                            n_neighbors=5, p=2,\n",
       "                                            weights='uniform'),\n",
       "             iid='warn', n_jobs=-1,\n",
       "             param_grid={'metric': ['euclidean', 'cityblock'],\n",
       "                         'n_neighbors': array([ 1,  3,  5,  7,  9, 11, 13, 15, 17, 19, 21, 23, 25, 27, 29, 31, 33,\n",
       "       35, 37, 39, 41, 43, 45, 47, 49, 51, 53, 55, 57, 59, 61, 63, 65, 67,\n",
       "       69, 71, 73, 75, 77, 79, 81, 83, 85, 87, 89, 91, 93, 95, 97, 99]),\n",
       "                         'weights': ['uniform', 'distance']},\n",
       "             pre_dispatch='2*n_jobs', refit=True, return_train_score=False,\n",
       "             scoring=None, verbose=1)"
      ]
     },
     "execution_count": 26,
     "metadata": {},
     "output_type": "execute_result"
    }
   ],
   "source": [
    "grid.best_score_\n",
    "grid_result"
   ]
  },
  {
   "cell_type": "code",
   "execution_count": 27,
   "metadata": {},
   "outputs": [
    {
     "data": {
      "text/plain": [
       "{'mean_fit_time': array([0.0067145 , 0.00701388, 0.0069859 , 0.00767756, 0.007339  ,\n",
       "        0.00729044, 0.00766905, 0.00731643, 0.00472959, 0.00859714,\n",
       "        0.00598303, 0.00805306, 0.00565108, 0.00531896, 0.00443554,\n",
       "        0.00759848, 0.006615  , 0.00726628, 0.00865753, 0.00731095,\n",
       "        0.00893148, 0.0083131 , 0.00767152, 0.00828242, 0.00723251,\n",
       "        0.00760333, 0.00562962, 0.00631475, 0.01023698, 0.00604781,\n",
       "        0.00468127, 0.00600235, 0.0053579 , 0.00498112, 0.00631412,\n",
       "        0.00430346, 0.00565187, 0.00465552, 0.00496467, 0.00398827,\n",
       "        0.00470662, 0.00465417, 0.00983477, 0.00469065, 0.00434208,\n",
       "        0.00548704, 0.00397102, 0.00397905, 0.00568604, 0.00399915,\n",
       "        0.00646408, 0.00401775, 0.00501434, 0.00398993, 0.0047094 ,\n",
       "        0.00432285, 0.00769051, 0.00431053, 0.0053761 , 0.00466077,\n",
       "        0.00467658, 0.00470893, 0.00399343, 0.00459409, 0.00533525,\n",
       "        0.00548283, 0.00536052, 0.00401155, 0.00399836, 0.00970038,\n",
       "        0.00656017, 0.00442052, 0.00594846, 0.00399605, 0.0050451 ,\n",
       "        0.00699051, 0.00399105, 0.00402101, 0.00398978, 0.00398119,\n",
       "        0.00619896, 0.00695713, 0.00451303, 0.00567269, 0.00517527,\n",
       "        0.00565497, 0.00499876, 0.00399017, 0.00665172, 0.0041395 ,\n",
       "        0.00465639, 0.0051415 , 0.00687305, 0.00400949, 0.00417892,\n",
       "        0.00453989, 0.00638994, 0.00582902, 0.00367324, 0.00432372,\n",
       "        0.00359623, 0.00400376, 0.00514952, 0.00435575, 0.00388829,\n",
       "        0.00466363, 0.00568422, 0.00450468, 0.00466084, 0.00398946,\n",
       "        0.00465965, 0.00398231, 0.00416517, 0.00401203, 0.0053796 ,\n",
       "        0.00399804, 0.00397619, 0.00386755, 0.00504518, 0.00401107,\n",
       "        0.00465051, 0.00398668, 0.0044903 , 0.01179949, 0.00479015,\n",
       "        0.00399224, 0.00452216, 0.00435384, 0.00741251, 0.00401441,\n",
       "        0.00400003, 0.00399661, 0.00395886, 0.00465012, 0.00769496,\n",
       "        0.00397897, 0.00682576, 0.00514873, 0.00472792, 0.00432189,\n",
       "        0.0043056 , 0.00399486, 0.00420618, 0.00434597, 0.0040191 ,\n",
       "        0.00435201, 0.0039889 , 0.00397865, 0.00398111, 0.00431927,\n",
       "        0.00398628, 0.004656  , 0.00400178, 0.00396808, 0.00383647,\n",
       "        0.00414793, 0.00427731, 0.0039959 , 0.00398445, 0.00419648,\n",
       "        0.00404882, 0.00432205, 0.00435694, 0.00363382, 0.00450746,\n",
       "        0.00398564, 0.00464757, 0.0039893 , 0.00449959, 0.00438913,\n",
       "        0.00398691, 0.00400027, 0.004299  , 0.0046854 , 0.00400575,\n",
       "        0.00417686, 0.00398866, 0.00599313, 0.00434701, 0.00486922,\n",
       "        0.00505503, 0.00400313, 0.00400376, 0.00480429, 0.00396641,\n",
       "        0.00603143, 0.00417113, 0.00398827, 0.00447782, 0.0046889 ,\n",
       "        0.00384251, 0.00560228, 0.00420316, 0.00400257, 0.005668  ,\n",
       "        0.00402045, 0.00538754, 0.00463351, 0.00433628, 0.00668756]),\n",
       " 'std_fit_time': array([2.30380294e-03, 2.12399994e-03, 2.16038494e-03, 4.22318432e-04,\n",
       "        1.28702061e-03, 1.61173482e-03, 1.26705836e-03, 4.36749621e-04,\n",
       "        9.52321172e-04, 1.21605523e-03, 1.41163878e-03, 8.18328444e-04,\n",
       "        1.21819425e-03, 5.08855120e-04, 7.57226891e-04, 9.14693375e-04,\n",
       "        4.45647730e-04, 1.61100044e-03, 4.55257986e-04, 1.64153935e-03,\n",
       "        2.75659058e-03, 1.30575349e-03, 1.72821536e-03, 2.01520207e-03,\n",
       "        1.24252196e-03, 3.74801064e-03, 1.25238853e-03, 1.24420075e-03,\n",
       "        7.53197977e-03, 1.64520793e-03, 4.89623162e-04, 8.68609773e-04,\n",
       "        1.25962039e-03, 7.99127895e-04, 2.61850557e-03, 4.43891131e-04,\n",
       "        1.69537298e-03, 9.39428831e-04, 8.10961660e-04, 6.74349576e-07,\n",
       "        1.22139937e-03, 9.40380504e-04, 7.57104150e-03, 1.69456337e-03,\n",
       "        4.93637747e-04, 1.52474071e-03, 2.24875896e-05, 1.28721502e-05,\n",
       "        1.72260538e-03, 2.98612859e-05, 1.76383363e-03, 4.35274819e-05,\n",
       "        7.75393140e-04, 5.15042996e-07, 4.15273351e-04, 4.22234809e-04,\n",
       "        4.47026313e-03, 4.40807362e-04, 1.19108789e-03, 9.35585093e-04,\n",
       "        9.73592595e-04, 5.08417556e-04, 5.47267447e-06, 9.13186047e-04,\n",
       "        9.52163878e-04, 1.23952327e-03, 1.25618796e-03, 2.75469486e-05,\n",
       "        1.19150995e-05, 5.23148228e-03, 7.98195786e-04, 6.11467106e-04,\n",
       "        2.77939207e-03, 8.65415289e-06, 1.41841737e-03, 2.26332713e-03,\n",
       "        2.75531385e-06, 2.45361434e-05, 2.73460556e-06, 1.22041956e-05,\n",
       "        1.27595393e-03, 4.97236710e-03, 1.05536290e-03, 2.37758890e-03,\n",
       "        1.03678874e-03, 1.23946229e-03, 8.55814005e-04, 8.67747557e-06,\n",
       "        3.76753544e-03, 1.99065506e-04, 9.48384083e-04, 8.25140651e-04,\n",
       "        2.92618880e-03, 2.76483326e-05, 2.65429905e-04, 4.24657171e-04,\n",
       "        1.52741924e-03, 1.56199278e-03, 4.46531811e-04, 4.23165016e-04,\n",
       "        4.03335106e-04, 4.45738609e-05, 9.95110640e-04, 5.02093313e-04,\n",
       "        2.39881978e-04, 1.24079266e-03, 1.67854733e-03, 4.82645305e-04,\n",
       "        4.77875810e-04, 3.37174788e-07, 9.35521471e-04, 5.16145480e-06,\n",
       "        2.48834994e-04, 3.79559250e-05, 1.96612241e-03, 4.67608474e-06,\n",
       "        2.49876118e-05, 7.14442223e-04, 8.93978390e-04, 2.88951340e-05,\n",
       "        4.70496633e-04, 3.44035797e-06, 6.94848478e-04, 1.02823030e-02,\n",
       "        3.70717116e-04, 1.23200877e-05, 7.49671761e-04, 2.42570202e-04,\n",
       "        3.22185349e-03, 8.45742369e-04, 1.00482110e-05, 1.33868724e-05,\n",
       "        2.66818217e-05, 9.43261661e-04, 4.59790214e-03, 1.39930922e-05,\n",
       "        4.02176482e-03, 1.41073631e-03, 1.04467990e-03, 5.15772896e-04,\n",
       "        4.41408546e-04, 1.06380887e-05, 2.82909606e-04, 4.96453870e-04,\n",
       "        2.41610564e-05, 1.21793832e-03, 9.60274217e-07, 3.72672636e-05,\n",
       "        1.07966154e-05, 4.66930896e-04, 4.00057251e-06, 4.74474710e-04,\n",
       "        8.46824249e-06, 3.45338611e-05, 2.21430698e-04, 2.45503562e-04,\n",
       "        4.51907866e-04, 4.03019088e-05, 7.24991135e-06, 2.94804763e-04,\n",
       "        2.66432095e-05, 4.74231435e-04, 4.85442255e-04, 5.02952392e-04,\n",
       "        7.32905598e-04, 6.11889412e-06, 4.96533288e-04, 2.97360213e-07,\n",
       "        7.21947476e-04, 4.81043082e-04, 1.63258223e-06, 1.33135424e-05,\n",
       "        4.40399510e-04, 9.26336437e-04, 2.07029469e-05, 2.65864476e-04,\n",
       "        1.63258223e-06, 2.81456715e-03, 5.05649791e-04, 5.86807103e-04,\n",
       "        8.68025137e-04, 1.95001848e-05, 1.01171167e-05, 6.29608482e-04,\n",
       "        3.32679124e-05, 8.58814154e-04, 2.59458209e-04, 1.06428373e-05,\n",
       "        7.24443927e-04, 5.97023936e-04, 6.82557605e-04, 4.78342792e-04,\n",
       "        2.86673290e-04, 1.85486999e-05, 1.67812837e-03, 8.95585132e-04,\n",
       "        4.76017765e-04, 4.61166549e-04, 5.09455459e-04, 1.72218100e-03]),\n",
       " 'mean_score_time': array([0.01561475, 0.00432022, 0.01864552, 0.00794005, 0.02856628,\n",
       "        0.00804981, 0.02526244, 0.00733066, 0.02625585, 0.00934227,\n",
       "        0.02598039, 0.00728591, 0.01793885, 0.00565481, 0.02237821,\n",
       "        0.00833972, 0.02862215, 0.01099785, 0.03323078, 0.01030811,\n",
       "        0.03191264, 0.01032599, 0.02860522, 0.00895524, 0.02462196,\n",
       "        0.0076464 , 0.02362402, 0.01132361, 0.02331702, 0.00860031,\n",
       "        0.02359756, 0.01030548, 0.02528644, 0.01031359, 0.02368148,\n",
       "        0.00865269, 0.0229884 , 0.00767334, 0.02712146, 0.00834235,\n",
       "        0.02944724, 0.00831087, 0.02030571, 0.01111364, 0.01896   ,\n",
       "        0.00966311, 0.02952631, 0.00834338, 0.02655292, 0.0096039 ,\n",
       "        0.02302519, 0.01227196, 0.02467489, 0.00864299, 0.02068758,\n",
       "        0.0113891 , 0.02362521, 0.00975951, 0.02331821, 0.01331075,\n",
       "        0.02776893, 0.01032122, 0.02104433, 0.00966811, 0.0236543 ,\n",
       "        0.01421873, 0.02206214, 0.01033219, 0.02091996, 0.01326227,\n",
       "        0.02800949, 0.01061551, 0.02103996, 0.01127831, 0.02361965,\n",
       "        0.03813394, 0.0293239 , 0.01160383, 0.02637752, 0.01315649,\n",
       "        0.02992558, 0.02289939, 0.02623026, 0.012     , 0.02427181,\n",
       "        0.01495997, 0.03247285, 0.01270835, 0.02492094, 0.01303466,\n",
       "        0.02401201, 0.02571122, 0.03042197, 0.01361005, 0.0265007 ,\n",
       "        0.01485745, 0.04137087, 0.0148534 , 0.02367751, 0.01403594,\n",
       "        0.01349759, 0.00297912, 0.01551692, 0.00397484, 0.01553861,\n",
       "        0.0044558 , 0.01836586, 0.00485786, 0.01707339, 0.00500449,\n",
       "        0.02117721, 0.00532603, 0.01693916, 0.00564671, 0.02149614,\n",
       "        0.00561754, 0.01697079, 0.00583975, 0.02204927, 0.00639025,\n",
       "        0.01695466, 0.00633923, 0.01815128, 0.00768034, 0.01759609,\n",
       "        0.00665323, 0.01776004, 0.00698733, 0.02374991, 0.00931962,\n",
       "        0.01762915, 0.00728337, 0.01872444, 0.01253311, 0.019967  ,\n",
       "        0.00634718, 0.01878198, 0.01053206, 0.02167646, 0.00771785,\n",
       "        0.01867652, 0.00846434, 0.0213058 , 0.00863798, 0.0196286 ,\n",
       "        0.0079728 , 0.0186758 , 0.00906984, 0.01864521, 0.00833694,\n",
       "        0.02033893, 0.00897598, 0.02067455, 0.00930333, 0.02077723,\n",
       "        0.0095338 , 0.02003741, 0.00966088, 0.02062559, 0.0101258 ,\n",
       "        0.02066374, 0.00931001, 0.02025771, 0.00997321, 0.01998202,\n",
       "        0.00996915, 0.02233354, 0.00966628, 0.0204831 , 0.0101076 ,\n",
       "        0.02881996, 0.01064118, 0.02081021, 0.0108068 , 0.02207335,\n",
       "        0.01500463, 0.02164332, 0.01094158, 0.02182984, 0.01048915,\n",
       "        0.02800139, 0.01469453, 0.02163045, 0.01151538, 0.02351912,\n",
       "        0.01515325, 0.01933209, 0.01126107, 0.02251601, 0.01115004,\n",
       "        0.02956629, 0.01684109, 0.02308631, 0.01218796, 0.0313944 ,\n",
       "        0.01440628, 0.0266943 , 0.01287142, 0.02740232, 0.01485801]),\n",
       " 'std_score_time': array([1.69222280e-03, 4.71826707e-04, 3.32760750e-03, 4.42731596e-05,\n",
       "        2.63655609e-03, 2.25497875e-03, 4.51081037e-03, 4.59808140e-04,\n",
       "        4.58595187e-03, 9.63309851e-04, 4.34480029e-03, 9.74719970e-04,\n",
       "        1.46856425e-03, 1.69183924e-03, 2.89188906e-03, 1.70609890e-03,\n",
       "        4.46622583e-03, 2.16893920e-03, 2.85964890e-03, 9.37012039e-04,\n",
       "        2.47657182e-03, 1.22013660e-03, 1.84671617e-03, 8.14927608e-04,\n",
       "        4.99568598e-03, 1.69526387e-03, 6.82152865e-03, 2.90678416e-03,\n",
       "        4.45699781e-03, 1.28749486e-03, 6.67643871e-03, 1.90916330e-03,\n",
       "        7.69261759e-03, 3.36814691e-03, 8.02080004e-03, 2.34373203e-03,\n",
       "        7.09318238e-03, 9.56386333e-04, 1.82311931e-03, 1.24708923e-03,\n",
       "        4.89624513e-03, 4.70471382e-04, 3.18842941e-03, 2.38159700e-03,\n",
       "        1.61401998e-03, 1.22272430e-03, 1.40952709e-02, 5.09534078e-04,\n",
       "        2.26827111e-03, 1.21812314e-03, 2.71372737e-03, 4.01824143e-03,\n",
       "        3.79962109e-03, 9.40661508e-04, 2.45546590e-03, 3.50930474e-03,\n",
       "        5.87881414e-03, 1.08223801e-03, 3.26804771e-03, 3.69947210e-03,\n",
       "        5.44772786e-03, 9.06413639e-04, 3.01029657e-03, 5.24787293e-04,\n",
       "        5.24905620e-03, 3.31045223e-03, 3.56349730e-03, 1.37486658e-03,\n",
       "        5.59535214e-05, 5.39922112e-03, 8.35574954e-03, 6.18477259e-04,\n",
       "        1.69863292e-03, 4.88014910e-04, 1.24866873e-03, 1.68853405e-02,\n",
       "        6.99446644e-03, 9.97931563e-04, 2.79704782e-03, 2.91945119e-03,\n",
       "        4.91849527e-03, 1.67898971e-02, 2.89854728e-03, 2.31403897e-05,\n",
       "        1.27670485e-03, 4.17071753e-03, 9.19845865e-03, 5.37105726e-04,\n",
       "        2.08909474e-03, 8.74317920e-04, 8.36498696e-04, 3.90740149e-03,\n",
       "        1.10208005e-02, 1.01518154e-03, 3.61573484e-03, 2.93673204e-03,\n",
       "        1.28577076e-02, 2.55162937e-03, 4.34674247e-04, 1.17332274e-03,\n",
       "        1.11226529e-03, 7.10434915e-05, 1.24700105e-03, 8.68321520e-04,\n",
       "        1.13741166e-03, 5.96842838e-04, 2.91589919e-03, 1.22810299e-03,\n",
       "        2.18166946e-03, 8.14395019e-04, 2.96939817e-03, 4.69844850e-04,\n",
       "        1.21367901e-03, 4.08053427e-04, 3.31583707e-03, 4.86320345e-04,\n",
       "        7.69900866e-04, 6.91177128e-04, 5.23355179e-03, 4.21215633e-04,\n",
       "        8.35216479e-04, 5.05146138e-04, 2.96843100e-04, 1.27977716e-03,\n",
       "        1.22487748e-03, 4.87642618e-04, 1.24957074e-03, 4.21591244e-04,\n",
       "        6.84230135e-03, 3.32204946e-03, 5.24755375e-04, 4.87447328e-04,\n",
       "        1.31817595e-03, 1.69766108e-03, 1.43453927e-03, 5.03427402e-04,\n",
       "        1.51346413e-03, 3.26656369e-03, 4.53902426e-03, 4.84749592e-04,\n",
       "        1.73298973e-03, 1.51756484e-03, 3.31722038e-03, 4.61334810e-04,\n",
       "        1.71033063e-03, 4.38038946e-06, 5.16026415e-04, 7.12668118e-04,\n",
       "        4.30010246e-04, 5.05818462e-04, 9.30138365e-04, 8.14782742e-04,\n",
       "        5.31238695e-04, 4.78296590e-04, 6.05365790e-04, 6.67834949e-04,\n",
       "        3.45698718e-05, 4.84656997e-04, 1.21252148e-03, 1.05867765e-03,\n",
       "        6.57967982e-04, 4.71513635e-04, 1.27107357e-03, 8.74156452e-04,\n",
       "        1.11609881e-03, 7.69625965e-04, 2.60863347e-03, 4.33831561e-04,\n",
       "        1.10121056e-03, 1.06148109e-03, 4.16276101e-03, 4.73349226e-04,\n",
       "        6.35619470e-04, 1.76624350e-04, 1.83197328e-03, 2.84852318e-03,\n",
       "        1.26966637e-03, 5.92866468e-05, 1.59542318e-03, 4.40092727e-04,\n",
       "        3.49775388e-03, 4.65010615e-03, 1.28376692e-03, 6.65416046e-04,\n",
       "        1.83377257e-03, 2.50249605e-03, 3.04905336e-03, 4.99681976e-04,\n",
       "        1.22378630e-03, 1.43750466e-03, 3.17768058e-03, 3.13144000e-03,\n",
       "        1.58804895e-03, 9.92850941e-04, 5.97303204e-03, 1.85406378e-03,\n",
       "        2.12547437e-03, 6.72812255e-04, 6.20411345e-03, 3.55535266e-03]),\n",
       " 'param_metric': masked_array(data=['euclidean', 'euclidean', 'euclidean', 'euclidean',\n",
       "                    'euclidean', 'euclidean', 'euclidean', 'euclidean',\n",
       "                    'euclidean', 'euclidean', 'euclidean', 'euclidean',\n",
       "                    'euclidean', 'euclidean', 'euclidean', 'euclidean',\n",
       "                    'euclidean', 'euclidean', 'euclidean', 'euclidean',\n",
       "                    'euclidean', 'euclidean', 'euclidean', 'euclidean',\n",
       "                    'euclidean', 'euclidean', 'euclidean', 'euclidean',\n",
       "                    'euclidean', 'euclidean', 'euclidean', 'euclidean',\n",
       "                    'euclidean', 'euclidean', 'euclidean', 'euclidean',\n",
       "                    'euclidean', 'euclidean', 'euclidean', 'euclidean',\n",
       "                    'euclidean', 'euclidean', 'euclidean', 'euclidean',\n",
       "                    'euclidean', 'euclidean', 'euclidean', 'euclidean',\n",
       "                    'euclidean', 'euclidean', 'euclidean', 'euclidean',\n",
       "                    'euclidean', 'euclidean', 'euclidean', 'euclidean',\n",
       "                    'euclidean', 'euclidean', 'euclidean', 'euclidean',\n",
       "                    'euclidean', 'euclidean', 'euclidean', 'euclidean',\n",
       "                    'euclidean', 'euclidean', 'euclidean', 'euclidean',\n",
       "                    'euclidean', 'euclidean', 'euclidean', 'euclidean',\n",
       "                    'euclidean', 'euclidean', 'euclidean', 'euclidean',\n",
       "                    'euclidean', 'euclidean', 'euclidean', 'euclidean',\n",
       "                    'euclidean', 'euclidean', 'euclidean', 'euclidean',\n",
       "                    'euclidean', 'euclidean', 'euclidean', 'euclidean',\n",
       "                    'euclidean', 'euclidean', 'euclidean', 'euclidean',\n",
       "                    'euclidean', 'euclidean', 'euclidean', 'euclidean',\n",
       "                    'euclidean', 'euclidean', 'euclidean', 'euclidean',\n",
       "                    'cityblock', 'cityblock', 'cityblock', 'cityblock',\n",
       "                    'cityblock', 'cityblock', 'cityblock', 'cityblock',\n",
       "                    'cityblock', 'cityblock', 'cityblock', 'cityblock',\n",
       "                    'cityblock', 'cityblock', 'cityblock', 'cityblock',\n",
       "                    'cityblock', 'cityblock', 'cityblock', 'cityblock',\n",
       "                    'cityblock', 'cityblock', 'cityblock', 'cityblock',\n",
       "                    'cityblock', 'cityblock', 'cityblock', 'cityblock',\n",
       "                    'cityblock', 'cityblock', 'cityblock', 'cityblock',\n",
       "                    'cityblock', 'cityblock', 'cityblock', 'cityblock',\n",
       "                    'cityblock', 'cityblock', 'cityblock', 'cityblock',\n",
       "                    'cityblock', 'cityblock', 'cityblock', 'cityblock',\n",
       "                    'cityblock', 'cityblock', 'cityblock', 'cityblock',\n",
       "                    'cityblock', 'cityblock', 'cityblock', 'cityblock',\n",
       "                    'cityblock', 'cityblock', 'cityblock', 'cityblock',\n",
       "                    'cityblock', 'cityblock', 'cityblock', 'cityblock',\n",
       "                    'cityblock', 'cityblock', 'cityblock', 'cityblock',\n",
       "                    'cityblock', 'cityblock', 'cityblock', 'cityblock',\n",
       "                    'cityblock', 'cityblock', 'cityblock', 'cityblock',\n",
       "                    'cityblock', 'cityblock', 'cityblock', 'cityblock',\n",
       "                    'cityblock', 'cityblock', 'cityblock', 'cityblock',\n",
       "                    'cityblock', 'cityblock', 'cityblock', 'cityblock',\n",
       "                    'cityblock', 'cityblock', 'cityblock', 'cityblock',\n",
       "                    'cityblock', 'cityblock', 'cityblock', 'cityblock',\n",
       "                    'cityblock', 'cityblock', 'cityblock', 'cityblock',\n",
       "                    'cityblock', 'cityblock', 'cityblock', 'cityblock'],\n",
       "              mask=[False, False, False, False, False, False, False, False,\n",
       "                    False, False, False, False, False, False, False, False,\n",
       "                    False, False, False, False, False, False, False, False,\n",
       "                    False, False, False, False, False, False, False, False,\n",
       "                    False, False, False, False, False, False, False, False,\n",
       "                    False, False, False, False, False, False, False, False,\n",
       "                    False, False, False, False, False, False, False, False,\n",
       "                    False, False, False, False, False, False, False, False,\n",
       "                    False, False, False, False, False, False, False, False,\n",
       "                    False, False, False, False, False, False, False, False,\n",
       "                    False, False, False, False, False, False, False, False,\n",
       "                    False, False, False, False, False, False, False, False,\n",
       "                    False, False, False, False, False, False, False, False,\n",
       "                    False, False, False, False, False, False, False, False,\n",
       "                    False, False, False, False, False, False, False, False,\n",
       "                    False, False, False, False, False, False, False, False,\n",
       "                    False, False, False, False, False, False, False, False,\n",
       "                    False, False, False, False, False, False, False, False,\n",
       "                    False, False, False, False, False, False, False, False,\n",
       "                    False, False, False, False, False, False, False, False,\n",
       "                    False, False, False, False, False, False, False, False,\n",
       "                    False, False, False, False, False, False, False, False,\n",
       "                    False, False, False, False, False, False, False, False,\n",
       "                    False, False, False, False, False, False, False, False,\n",
       "                    False, False, False, False, False, False, False, False],\n",
       "        fill_value='?',\n",
       "             dtype=object),\n",
       " 'param_n_neighbors': masked_array(data=[1, 1, 3, 3, 5, 5, 7, 7, 9, 9, 11, 11, 13, 13, 15, 15,\n",
       "                    17, 17, 19, 19, 21, 21, 23, 23, 25, 25, 27, 27, 29, 29,\n",
       "                    31, 31, 33, 33, 35, 35, 37, 37, 39, 39, 41, 41, 43, 43,\n",
       "                    45, 45, 47, 47, 49, 49, 51, 51, 53, 53, 55, 55, 57, 57,\n",
       "                    59, 59, 61, 61, 63, 63, 65, 65, 67, 67, 69, 69, 71, 71,\n",
       "                    73, 73, 75, 75, 77, 77, 79, 79, 81, 81, 83, 83, 85, 85,\n",
       "                    87, 87, 89, 89, 91, 91, 93, 93, 95, 95, 97, 97, 99, 99,\n",
       "                    1, 1, 3, 3, 5, 5, 7, 7, 9, 9, 11, 11, 13, 13, 15, 15,\n",
       "                    17, 17, 19, 19, 21, 21, 23, 23, 25, 25, 27, 27, 29, 29,\n",
       "                    31, 31, 33, 33, 35, 35, 37, 37, 39, 39, 41, 41, 43, 43,\n",
       "                    45, 45, 47, 47, 49, 49, 51, 51, 53, 53, 55, 55, 57, 57,\n",
       "                    59, 59, 61, 61, 63, 63, 65, 65, 67, 67, 69, 69, 71, 71,\n",
       "                    73, 73, 75, 75, 77, 77, 79, 79, 81, 81, 83, 83, 85, 85,\n",
       "                    87, 87, 89, 89, 91, 91, 93, 93, 95, 95, 97, 97, 99, 99],\n",
       "              mask=[False, False, False, False, False, False, False, False,\n",
       "                    False, False, False, False, False, False, False, False,\n",
       "                    False, False, False, False, False, False, False, False,\n",
       "                    False, False, False, False, False, False, False, False,\n",
       "                    False, False, False, False, False, False, False, False,\n",
       "                    False, False, False, False, False, False, False, False,\n",
       "                    False, False, False, False, False, False, False, False,\n",
       "                    False, False, False, False, False, False, False, False,\n",
       "                    False, False, False, False, False, False, False, False,\n",
       "                    False, False, False, False, False, False, False, False,\n",
       "                    False, False, False, False, False, False, False, False,\n",
       "                    False, False, False, False, False, False, False, False,\n",
       "                    False, False, False, False, False, False, False, False,\n",
       "                    False, False, False, False, False, False, False, False,\n",
       "                    False, False, False, False, False, False, False, False,\n",
       "                    False, False, False, False, False, False, False, False,\n",
       "                    False, False, False, False, False, False, False, False,\n",
       "                    False, False, False, False, False, False, False, False,\n",
       "                    False, False, False, False, False, False, False, False,\n",
       "                    False, False, False, False, False, False, False, False,\n",
       "                    False, False, False, False, False, False, False, False,\n",
       "                    False, False, False, False, False, False, False, False,\n",
       "                    False, False, False, False, False, False, False, False,\n",
       "                    False, False, False, False, False, False, False, False,\n",
       "                    False, False, False, False, False, False, False, False],\n",
       "        fill_value='?',\n",
       "             dtype=object),\n",
       " 'param_weights': masked_array(data=['uniform', 'distance', 'uniform', 'distance',\n",
       "                    'uniform', 'distance', 'uniform', 'distance',\n",
       "                    'uniform', 'distance', 'uniform', 'distance',\n",
       "                    'uniform', 'distance', 'uniform', 'distance',\n",
       "                    'uniform', 'distance', 'uniform', 'distance',\n",
       "                    'uniform', 'distance', 'uniform', 'distance',\n",
       "                    'uniform', 'distance', 'uniform', 'distance',\n",
       "                    'uniform', 'distance', 'uniform', 'distance',\n",
       "                    'uniform', 'distance', 'uniform', 'distance',\n",
       "                    'uniform', 'distance', 'uniform', 'distance',\n",
       "                    'uniform', 'distance', 'uniform', 'distance',\n",
       "                    'uniform', 'distance', 'uniform', 'distance',\n",
       "                    'uniform', 'distance', 'uniform', 'distance',\n",
       "                    'uniform', 'distance', 'uniform', 'distance',\n",
       "                    'uniform', 'distance', 'uniform', 'distance',\n",
       "                    'uniform', 'distance', 'uniform', 'distance',\n",
       "                    'uniform', 'distance', 'uniform', 'distance',\n",
       "                    'uniform', 'distance', 'uniform', 'distance',\n",
       "                    'uniform', 'distance', 'uniform', 'distance',\n",
       "                    'uniform', 'distance', 'uniform', 'distance',\n",
       "                    'uniform', 'distance', 'uniform', 'distance',\n",
       "                    'uniform', 'distance', 'uniform', 'distance',\n",
       "                    'uniform', 'distance', 'uniform', 'distance',\n",
       "                    'uniform', 'distance', 'uniform', 'distance',\n",
       "                    'uniform', 'distance', 'uniform', 'distance',\n",
       "                    'uniform', 'distance', 'uniform', 'distance',\n",
       "                    'uniform', 'distance', 'uniform', 'distance',\n",
       "                    'uniform', 'distance', 'uniform', 'distance',\n",
       "                    'uniform', 'distance', 'uniform', 'distance',\n",
       "                    'uniform', 'distance', 'uniform', 'distance',\n",
       "                    'uniform', 'distance', 'uniform', 'distance',\n",
       "                    'uniform', 'distance', 'uniform', 'distance',\n",
       "                    'uniform', 'distance', 'uniform', 'distance',\n",
       "                    'uniform', 'distance', 'uniform', 'distance',\n",
       "                    'uniform', 'distance', 'uniform', 'distance',\n",
       "                    'uniform', 'distance', 'uniform', 'distance',\n",
       "                    'uniform', 'distance', 'uniform', 'distance',\n",
       "                    'uniform', 'distance', 'uniform', 'distance',\n",
       "                    'uniform', 'distance', 'uniform', 'distance',\n",
       "                    'uniform', 'distance', 'uniform', 'distance',\n",
       "                    'uniform', 'distance', 'uniform', 'distance',\n",
       "                    'uniform', 'distance', 'uniform', 'distance',\n",
       "                    'uniform', 'distance', 'uniform', 'distance',\n",
       "                    'uniform', 'distance', 'uniform', 'distance',\n",
       "                    'uniform', 'distance', 'uniform', 'distance',\n",
       "                    'uniform', 'distance', 'uniform', 'distance',\n",
       "                    'uniform', 'distance', 'uniform', 'distance',\n",
       "                    'uniform', 'distance', 'uniform', 'distance',\n",
       "                    'uniform', 'distance', 'uniform', 'distance',\n",
       "                    'uniform', 'distance', 'uniform', 'distance'],\n",
       "              mask=[False, False, False, False, False, False, False, False,\n",
       "                    False, False, False, False, False, False, False, False,\n",
       "                    False, False, False, False, False, False, False, False,\n",
       "                    False, False, False, False, False, False, False, False,\n",
       "                    False, False, False, False, False, False, False, False,\n",
       "                    False, False, False, False, False, False, False, False,\n",
       "                    False, False, False, False, False, False, False, False,\n",
       "                    False, False, False, False, False, False, False, False,\n",
       "                    False, False, False, False, False, False, False, False,\n",
       "                    False, False, False, False, False, False, False, False,\n",
       "                    False, False, False, False, False, False, False, False,\n",
       "                    False, False, False, False, False, False, False, False,\n",
       "                    False, False, False, False, False, False, False, False,\n",
       "                    False, False, False, False, False, False, False, False,\n",
       "                    False, False, False, False, False, False, False, False,\n",
       "                    False, False, False, False, False, False, False, False,\n",
       "                    False, False, False, False, False, False, False, False,\n",
       "                    False, False, False, False, False, False, False, False,\n",
       "                    False, False, False, False, False, False, False, False,\n",
       "                    False, False, False, False, False, False, False, False,\n",
       "                    False, False, False, False, False, False, False, False,\n",
       "                    False, False, False, False, False, False, False, False,\n",
       "                    False, False, False, False, False, False, False, False,\n",
       "                    False, False, False, False, False, False, False, False,\n",
       "                    False, False, False, False, False, False, False, False],\n",
       "        fill_value='?',\n",
       "             dtype=object),\n",
       " 'params': [{'metric': 'euclidean', 'n_neighbors': 1, 'weights': 'uniform'},\n",
       "  {'metric': 'euclidean', 'n_neighbors': 1, 'weights': 'distance'},\n",
       "  {'metric': 'euclidean', 'n_neighbors': 3, 'weights': 'uniform'},\n",
       "  {'metric': 'euclidean', 'n_neighbors': 3, 'weights': 'distance'},\n",
       "  {'metric': 'euclidean', 'n_neighbors': 5, 'weights': 'uniform'},\n",
       "  {'metric': 'euclidean', 'n_neighbors': 5, 'weights': 'distance'},\n",
       "  {'metric': 'euclidean', 'n_neighbors': 7, 'weights': 'uniform'},\n",
       "  {'metric': 'euclidean', 'n_neighbors': 7, 'weights': 'distance'},\n",
       "  {'metric': 'euclidean', 'n_neighbors': 9, 'weights': 'uniform'},\n",
       "  {'metric': 'euclidean', 'n_neighbors': 9, 'weights': 'distance'},\n",
       "  {'metric': 'euclidean', 'n_neighbors': 11, 'weights': 'uniform'},\n",
       "  {'metric': 'euclidean', 'n_neighbors': 11, 'weights': 'distance'},\n",
       "  {'metric': 'euclidean', 'n_neighbors': 13, 'weights': 'uniform'},\n",
       "  {'metric': 'euclidean', 'n_neighbors': 13, 'weights': 'distance'},\n",
       "  {'metric': 'euclidean', 'n_neighbors': 15, 'weights': 'uniform'},\n",
       "  {'metric': 'euclidean', 'n_neighbors': 15, 'weights': 'distance'},\n",
       "  {'metric': 'euclidean', 'n_neighbors': 17, 'weights': 'uniform'},\n",
       "  {'metric': 'euclidean', 'n_neighbors': 17, 'weights': 'distance'},\n",
       "  {'metric': 'euclidean', 'n_neighbors': 19, 'weights': 'uniform'},\n",
       "  {'metric': 'euclidean', 'n_neighbors': 19, 'weights': 'distance'},\n",
       "  {'metric': 'euclidean', 'n_neighbors': 21, 'weights': 'uniform'},\n",
       "  {'metric': 'euclidean', 'n_neighbors': 21, 'weights': 'distance'},\n",
       "  {'metric': 'euclidean', 'n_neighbors': 23, 'weights': 'uniform'},\n",
       "  {'metric': 'euclidean', 'n_neighbors': 23, 'weights': 'distance'},\n",
       "  {'metric': 'euclidean', 'n_neighbors': 25, 'weights': 'uniform'},\n",
       "  {'metric': 'euclidean', 'n_neighbors': 25, 'weights': 'distance'},\n",
       "  {'metric': 'euclidean', 'n_neighbors': 27, 'weights': 'uniform'},\n",
       "  {'metric': 'euclidean', 'n_neighbors': 27, 'weights': 'distance'},\n",
       "  {'metric': 'euclidean', 'n_neighbors': 29, 'weights': 'uniform'},\n",
       "  {'metric': 'euclidean', 'n_neighbors': 29, 'weights': 'distance'},\n",
       "  {'metric': 'euclidean', 'n_neighbors': 31, 'weights': 'uniform'},\n",
       "  {'metric': 'euclidean', 'n_neighbors': 31, 'weights': 'distance'},\n",
       "  {'metric': 'euclidean', 'n_neighbors': 33, 'weights': 'uniform'},\n",
       "  {'metric': 'euclidean', 'n_neighbors': 33, 'weights': 'distance'},\n",
       "  {'metric': 'euclidean', 'n_neighbors': 35, 'weights': 'uniform'},\n",
       "  {'metric': 'euclidean', 'n_neighbors': 35, 'weights': 'distance'},\n",
       "  {'metric': 'euclidean', 'n_neighbors': 37, 'weights': 'uniform'},\n",
       "  {'metric': 'euclidean', 'n_neighbors': 37, 'weights': 'distance'},\n",
       "  {'metric': 'euclidean', 'n_neighbors': 39, 'weights': 'uniform'},\n",
       "  {'metric': 'euclidean', 'n_neighbors': 39, 'weights': 'distance'},\n",
       "  {'metric': 'euclidean', 'n_neighbors': 41, 'weights': 'uniform'},\n",
       "  {'metric': 'euclidean', 'n_neighbors': 41, 'weights': 'distance'},\n",
       "  {'metric': 'euclidean', 'n_neighbors': 43, 'weights': 'uniform'},\n",
       "  {'metric': 'euclidean', 'n_neighbors': 43, 'weights': 'distance'},\n",
       "  {'metric': 'euclidean', 'n_neighbors': 45, 'weights': 'uniform'},\n",
       "  {'metric': 'euclidean', 'n_neighbors': 45, 'weights': 'distance'},\n",
       "  {'metric': 'euclidean', 'n_neighbors': 47, 'weights': 'uniform'},\n",
       "  {'metric': 'euclidean', 'n_neighbors': 47, 'weights': 'distance'},\n",
       "  {'metric': 'euclidean', 'n_neighbors': 49, 'weights': 'uniform'},\n",
       "  {'metric': 'euclidean', 'n_neighbors': 49, 'weights': 'distance'},\n",
       "  {'metric': 'euclidean', 'n_neighbors': 51, 'weights': 'uniform'},\n",
       "  {'metric': 'euclidean', 'n_neighbors': 51, 'weights': 'distance'},\n",
       "  {'metric': 'euclidean', 'n_neighbors': 53, 'weights': 'uniform'},\n",
       "  {'metric': 'euclidean', 'n_neighbors': 53, 'weights': 'distance'},\n",
       "  {'metric': 'euclidean', 'n_neighbors': 55, 'weights': 'uniform'},\n",
       "  {'metric': 'euclidean', 'n_neighbors': 55, 'weights': 'distance'},\n",
       "  {'metric': 'euclidean', 'n_neighbors': 57, 'weights': 'uniform'},\n",
       "  {'metric': 'euclidean', 'n_neighbors': 57, 'weights': 'distance'},\n",
       "  {'metric': 'euclidean', 'n_neighbors': 59, 'weights': 'uniform'},\n",
       "  {'metric': 'euclidean', 'n_neighbors': 59, 'weights': 'distance'},\n",
       "  {'metric': 'euclidean', 'n_neighbors': 61, 'weights': 'uniform'},\n",
       "  {'metric': 'euclidean', 'n_neighbors': 61, 'weights': 'distance'},\n",
       "  {'metric': 'euclidean', 'n_neighbors': 63, 'weights': 'uniform'},\n",
       "  {'metric': 'euclidean', 'n_neighbors': 63, 'weights': 'distance'},\n",
       "  {'metric': 'euclidean', 'n_neighbors': 65, 'weights': 'uniform'},\n",
       "  {'metric': 'euclidean', 'n_neighbors': 65, 'weights': 'distance'},\n",
       "  {'metric': 'euclidean', 'n_neighbors': 67, 'weights': 'uniform'},\n",
       "  {'metric': 'euclidean', 'n_neighbors': 67, 'weights': 'distance'},\n",
       "  {'metric': 'euclidean', 'n_neighbors': 69, 'weights': 'uniform'},\n",
       "  {'metric': 'euclidean', 'n_neighbors': 69, 'weights': 'distance'},\n",
       "  {'metric': 'euclidean', 'n_neighbors': 71, 'weights': 'uniform'},\n",
       "  {'metric': 'euclidean', 'n_neighbors': 71, 'weights': 'distance'},\n",
       "  {'metric': 'euclidean', 'n_neighbors': 73, 'weights': 'uniform'},\n",
       "  {'metric': 'euclidean', 'n_neighbors': 73, 'weights': 'distance'},\n",
       "  {'metric': 'euclidean', 'n_neighbors': 75, 'weights': 'uniform'},\n",
       "  {'metric': 'euclidean', 'n_neighbors': 75, 'weights': 'distance'},\n",
       "  {'metric': 'euclidean', 'n_neighbors': 77, 'weights': 'uniform'},\n",
       "  {'metric': 'euclidean', 'n_neighbors': 77, 'weights': 'distance'},\n",
       "  {'metric': 'euclidean', 'n_neighbors': 79, 'weights': 'uniform'},\n",
       "  {'metric': 'euclidean', 'n_neighbors': 79, 'weights': 'distance'},\n",
       "  {'metric': 'euclidean', 'n_neighbors': 81, 'weights': 'uniform'},\n",
       "  {'metric': 'euclidean', 'n_neighbors': 81, 'weights': 'distance'},\n",
       "  {'metric': 'euclidean', 'n_neighbors': 83, 'weights': 'uniform'},\n",
       "  {'metric': 'euclidean', 'n_neighbors': 83, 'weights': 'distance'},\n",
       "  {'metric': 'euclidean', 'n_neighbors': 85, 'weights': 'uniform'},\n",
       "  {'metric': 'euclidean', 'n_neighbors': 85, 'weights': 'distance'},\n",
       "  {'metric': 'euclidean', 'n_neighbors': 87, 'weights': 'uniform'},\n",
       "  {'metric': 'euclidean', 'n_neighbors': 87, 'weights': 'distance'},\n",
       "  {'metric': 'euclidean', 'n_neighbors': 89, 'weights': 'uniform'},\n",
       "  {'metric': 'euclidean', 'n_neighbors': 89, 'weights': 'distance'},\n",
       "  {'metric': 'euclidean', 'n_neighbors': 91, 'weights': 'uniform'},\n",
       "  {'metric': 'euclidean', 'n_neighbors': 91, 'weights': 'distance'},\n",
       "  {'metric': 'euclidean', 'n_neighbors': 93, 'weights': 'uniform'},\n",
       "  {'metric': 'euclidean', 'n_neighbors': 93, 'weights': 'distance'},\n",
       "  {'metric': 'euclidean', 'n_neighbors': 95, 'weights': 'uniform'},\n",
       "  {'metric': 'euclidean', 'n_neighbors': 95, 'weights': 'distance'},\n",
       "  {'metric': 'euclidean', 'n_neighbors': 97, 'weights': 'uniform'},\n",
       "  {'metric': 'euclidean', 'n_neighbors': 97, 'weights': 'distance'},\n",
       "  {'metric': 'euclidean', 'n_neighbors': 99, 'weights': 'uniform'},\n",
       "  {'metric': 'euclidean', 'n_neighbors': 99, 'weights': 'distance'},\n",
       "  {'metric': 'cityblock', 'n_neighbors': 1, 'weights': 'uniform'},\n",
       "  {'metric': 'cityblock', 'n_neighbors': 1, 'weights': 'distance'},\n",
       "  {'metric': 'cityblock', 'n_neighbors': 3, 'weights': 'uniform'},\n",
       "  {'metric': 'cityblock', 'n_neighbors': 3, 'weights': 'distance'},\n",
       "  {'metric': 'cityblock', 'n_neighbors': 5, 'weights': 'uniform'},\n",
       "  {'metric': 'cityblock', 'n_neighbors': 5, 'weights': 'distance'},\n",
       "  {'metric': 'cityblock', 'n_neighbors': 7, 'weights': 'uniform'},\n",
       "  {'metric': 'cityblock', 'n_neighbors': 7, 'weights': 'distance'},\n",
       "  {'metric': 'cityblock', 'n_neighbors': 9, 'weights': 'uniform'},\n",
       "  {'metric': 'cityblock', 'n_neighbors': 9, 'weights': 'distance'},\n",
       "  {'metric': 'cityblock', 'n_neighbors': 11, 'weights': 'uniform'},\n",
       "  {'metric': 'cityblock', 'n_neighbors': 11, 'weights': 'distance'},\n",
       "  {'metric': 'cityblock', 'n_neighbors': 13, 'weights': 'uniform'},\n",
       "  {'metric': 'cityblock', 'n_neighbors': 13, 'weights': 'distance'},\n",
       "  {'metric': 'cityblock', 'n_neighbors': 15, 'weights': 'uniform'},\n",
       "  {'metric': 'cityblock', 'n_neighbors': 15, 'weights': 'distance'},\n",
       "  {'metric': 'cityblock', 'n_neighbors': 17, 'weights': 'uniform'},\n",
       "  {'metric': 'cityblock', 'n_neighbors': 17, 'weights': 'distance'},\n",
       "  {'metric': 'cityblock', 'n_neighbors': 19, 'weights': 'uniform'},\n",
       "  {'metric': 'cityblock', 'n_neighbors': 19, 'weights': 'distance'},\n",
       "  {'metric': 'cityblock', 'n_neighbors': 21, 'weights': 'uniform'},\n",
       "  {'metric': 'cityblock', 'n_neighbors': 21, 'weights': 'distance'},\n",
       "  {'metric': 'cityblock', 'n_neighbors': 23, 'weights': 'uniform'},\n",
       "  {'metric': 'cityblock', 'n_neighbors': 23, 'weights': 'distance'},\n",
       "  {'metric': 'cityblock', 'n_neighbors': 25, 'weights': 'uniform'},\n",
       "  {'metric': 'cityblock', 'n_neighbors': 25, 'weights': 'distance'},\n",
       "  {'metric': 'cityblock', 'n_neighbors': 27, 'weights': 'uniform'},\n",
       "  {'metric': 'cityblock', 'n_neighbors': 27, 'weights': 'distance'},\n",
       "  {'metric': 'cityblock', 'n_neighbors': 29, 'weights': 'uniform'},\n",
       "  {'metric': 'cityblock', 'n_neighbors': 29, 'weights': 'distance'},\n",
       "  {'metric': 'cityblock', 'n_neighbors': 31, 'weights': 'uniform'},\n",
       "  {'metric': 'cityblock', 'n_neighbors': 31, 'weights': 'distance'},\n",
       "  {'metric': 'cityblock', 'n_neighbors': 33, 'weights': 'uniform'},\n",
       "  {'metric': 'cityblock', 'n_neighbors': 33, 'weights': 'distance'},\n",
       "  {'metric': 'cityblock', 'n_neighbors': 35, 'weights': 'uniform'},\n",
       "  {'metric': 'cityblock', 'n_neighbors': 35, 'weights': 'distance'},\n",
       "  {'metric': 'cityblock', 'n_neighbors': 37, 'weights': 'uniform'},\n",
       "  {'metric': 'cityblock', 'n_neighbors': 37, 'weights': 'distance'},\n",
       "  {'metric': 'cityblock', 'n_neighbors': 39, 'weights': 'uniform'},\n",
       "  {'metric': 'cityblock', 'n_neighbors': 39, 'weights': 'distance'},\n",
       "  {'metric': 'cityblock', 'n_neighbors': 41, 'weights': 'uniform'},\n",
       "  {'metric': 'cityblock', 'n_neighbors': 41, 'weights': 'distance'},\n",
       "  {'metric': 'cityblock', 'n_neighbors': 43, 'weights': 'uniform'},\n",
       "  {'metric': 'cityblock', 'n_neighbors': 43, 'weights': 'distance'},\n",
       "  {'metric': 'cityblock', 'n_neighbors': 45, 'weights': 'uniform'},\n",
       "  {'metric': 'cityblock', 'n_neighbors': 45, 'weights': 'distance'},\n",
       "  {'metric': 'cityblock', 'n_neighbors': 47, 'weights': 'uniform'},\n",
       "  {'metric': 'cityblock', 'n_neighbors': 47, 'weights': 'distance'},\n",
       "  {'metric': 'cityblock', 'n_neighbors': 49, 'weights': 'uniform'},\n",
       "  {'metric': 'cityblock', 'n_neighbors': 49, 'weights': 'distance'},\n",
       "  {'metric': 'cityblock', 'n_neighbors': 51, 'weights': 'uniform'},\n",
       "  {'metric': 'cityblock', 'n_neighbors': 51, 'weights': 'distance'},\n",
       "  {'metric': 'cityblock', 'n_neighbors': 53, 'weights': 'uniform'},\n",
       "  {'metric': 'cityblock', 'n_neighbors': 53, 'weights': 'distance'},\n",
       "  {'metric': 'cityblock', 'n_neighbors': 55, 'weights': 'uniform'},\n",
       "  {'metric': 'cityblock', 'n_neighbors': 55, 'weights': 'distance'},\n",
       "  {'metric': 'cityblock', 'n_neighbors': 57, 'weights': 'uniform'},\n",
       "  {'metric': 'cityblock', 'n_neighbors': 57, 'weights': 'distance'},\n",
       "  {'metric': 'cityblock', 'n_neighbors': 59, 'weights': 'uniform'},\n",
       "  {'metric': 'cityblock', 'n_neighbors': 59, 'weights': 'distance'},\n",
       "  {'metric': 'cityblock', 'n_neighbors': 61, 'weights': 'uniform'},\n",
       "  {'metric': 'cityblock', 'n_neighbors': 61, 'weights': 'distance'},\n",
       "  {'metric': 'cityblock', 'n_neighbors': 63, 'weights': 'uniform'},\n",
       "  {'metric': 'cityblock', 'n_neighbors': 63, 'weights': 'distance'},\n",
       "  {'metric': 'cityblock', 'n_neighbors': 65, 'weights': 'uniform'},\n",
       "  {'metric': 'cityblock', 'n_neighbors': 65, 'weights': 'distance'},\n",
       "  {'metric': 'cityblock', 'n_neighbors': 67, 'weights': 'uniform'},\n",
       "  {'metric': 'cityblock', 'n_neighbors': 67, 'weights': 'distance'},\n",
       "  {'metric': 'cityblock', 'n_neighbors': 69, 'weights': 'uniform'},\n",
       "  {'metric': 'cityblock', 'n_neighbors': 69, 'weights': 'distance'},\n",
       "  {'metric': 'cityblock', 'n_neighbors': 71, 'weights': 'uniform'},\n",
       "  {'metric': 'cityblock', 'n_neighbors': 71, 'weights': 'distance'},\n",
       "  {'metric': 'cityblock', 'n_neighbors': 73, 'weights': 'uniform'},\n",
       "  {'metric': 'cityblock', 'n_neighbors': 73, 'weights': 'distance'},\n",
       "  {'metric': 'cityblock', 'n_neighbors': 75, 'weights': 'uniform'},\n",
       "  {'metric': 'cityblock', 'n_neighbors': 75, 'weights': 'distance'},\n",
       "  {'metric': 'cityblock', 'n_neighbors': 77, 'weights': 'uniform'},\n",
       "  {'metric': 'cityblock', 'n_neighbors': 77, 'weights': 'distance'},\n",
       "  {'metric': 'cityblock', 'n_neighbors': 79, 'weights': 'uniform'},\n",
       "  {'metric': 'cityblock', 'n_neighbors': 79, 'weights': 'distance'},\n",
       "  {'metric': 'cityblock', 'n_neighbors': 81, 'weights': 'uniform'},\n",
       "  {'metric': 'cityblock', 'n_neighbors': 81, 'weights': 'distance'},\n",
       "  {'metric': 'cityblock', 'n_neighbors': 83, 'weights': 'uniform'},\n",
       "  {'metric': 'cityblock', 'n_neighbors': 83, 'weights': 'distance'},\n",
       "  {'metric': 'cityblock', 'n_neighbors': 85, 'weights': 'uniform'},\n",
       "  {'metric': 'cityblock', 'n_neighbors': 85, 'weights': 'distance'},\n",
       "  {'metric': 'cityblock', 'n_neighbors': 87, 'weights': 'uniform'},\n",
       "  {'metric': 'cityblock', 'n_neighbors': 87, 'weights': 'distance'},\n",
       "  {'metric': 'cityblock', 'n_neighbors': 89, 'weights': 'uniform'},\n",
       "  {'metric': 'cityblock', 'n_neighbors': 89, 'weights': 'distance'},\n",
       "  {'metric': 'cityblock', 'n_neighbors': 91, 'weights': 'uniform'},\n",
       "  {'metric': 'cityblock', 'n_neighbors': 91, 'weights': 'distance'},\n",
       "  {'metric': 'cityblock', 'n_neighbors': 93, 'weights': 'uniform'},\n",
       "  {'metric': 'cityblock', 'n_neighbors': 93, 'weights': 'distance'},\n",
       "  {'metric': 'cityblock', 'n_neighbors': 95, 'weights': 'uniform'},\n",
       "  {'metric': 'cityblock', 'n_neighbors': 95, 'weights': 'distance'},\n",
       "  {'metric': 'cityblock', 'n_neighbors': 97, 'weights': 'uniform'},\n",
       "  {'metric': 'cityblock', 'n_neighbors': 97, 'weights': 'distance'},\n",
       "  {'metric': 'cityblock', 'n_neighbors': 99, 'weights': 'uniform'},\n",
       "  {'metric': 'cityblock', 'n_neighbors': 99, 'weights': 'distance'}],\n",
       " 'split0_test_score': array([0.54152824, 0.54152824, 0.59800664, 0.59800664, 0.58803987,\n",
       "        0.58139535, 0.59136213, 0.58139535, 0.6179402 , 0.62126246,\n",
       "        0.65448505, 0.63787375, 0.64451827, 0.63122924, 0.62458472,\n",
       "        0.62126246, 0.62790698, 0.62126246, 0.62126246, 0.62126246,\n",
       "        0.61461794, 0.62126246, 0.61461794, 0.6179402 , 0.63122924,\n",
       "        0.63787375, 0.63787375, 0.64784053, 0.64451827, 0.64451827,\n",
       "        0.64119601, 0.64451827, 0.65448505, 0.64451827, 0.62790698,\n",
       "        0.62458472, 0.6345515 , 0.6345515 , 0.62458472, 0.62790698,\n",
       "        0.62458472, 0.62790698, 0.6179402 , 0.62790698, 0.61461794,\n",
       "        0.62790698, 0.61461794, 0.62458472, 0.62126246, 0.63122924,\n",
       "        0.62458472, 0.62790698, 0.63122924, 0.62790698, 0.62790698,\n",
       "        0.62790698, 0.62458472, 0.62126246, 0.6345515 , 0.63122924,\n",
       "        0.62458472, 0.62126246, 0.62126246, 0.62790698, 0.6179402 ,\n",
       "        0.62790698, 0.61461794, 0.63787375, 0.62458472, 0.6345515 ,\n",
       "        0.6179402 , 0.6345515 , 0.6345515 , 0.64451827, 0.6345515 ,\n",
       "        0.64119601, 0.6179402 , 0.64451827, 0.62126246, 0.64451827,\n",
       "        0.62126246, 0.6345515 , 0.6179402 , 0.63122924, 0.61461794,\n",
       "        0.62790698, 0.62126246, 0.6345515 , 0.62126246, 0.63787375,\n",
       "        0.62458472, 0.62458472, 0.62790698, 0.62790698, 0.6179402 ,\n",
       "        0.6345515 , 0.6179402 , 0.63122924, 0.62126246, 0.63122924,\n",
       "        0.61129568, 0.61129568, 0.58139535, 0.58139535, 0.60465116,\n",
       "        0.60465116, 0.60465116, 0.59468439, 0.61129568, 0.62126246,\n",
       "        0.62126246, 0.6345515 , 0.6179402 , 0.63122924, 0.62790698,\n",
       "        0.62790698, 0.63787375, 0.64119601, 0.61461794, 0.60465116,\n",
       "        0.62790698, 0.62458472, 0.62790698, 0.60797342, 0.6345515 ,\n",
       "        0.63122924, 0.62790698, 0.62458472, 0.63787375, 0.62458472,\n",
       "        0.63122924, 0.62458472, 0.64784053, 0.63787375, 0.63787375,\n",
       "        0.63122924, 0.65116279, 0.64784053, 0.66445183, 0.65780731,\n",
       "        0.65780731, 0.65116279, 0.65116279, 0.65116279, 0.63787375,\n",
       "        0.64119601, 0.64119601, 0.64119601, 0.64784053, 0.64451827,\n",
       "        0.65780731, 0.64451827, 0.64451827, 0.64119601, 0.64119601,\n",
       "        0.64119601, 0.64451827, 0.64784053, 0.6345515 , 0.64119601,\n",
       "        0.66112957, 0.64119601, 0.65116279, 0.64119601, 0.64784053,\n",
       "        0.63787375, 0.64451827, 0.64784053, 0.64451827, 0.65116279,\n",
       "        0.64119601, 0.65116279, 0.63787375, 0.64451827, 0.64119601,\n",
       "        0.64119601, 0.6345515 , 0.64119601, 0.63787375, 0.63787375,\n",
       "        0.63787375, 0.63787375, 0.62790698, 0.6345515 , 0.62790698,\n",
       "        0.62790698, 0.62790698, 0.62790698, 0.62790698, 0.63787375,\n",
       "        0.63787375, 0.64119601, 0.62790698, 0.6345515 , 0.62126246,\n",
       "        0.62790698, 0.62790698, 0.62126246, 0.6179402 , 0.6179402 ]),\n",
       " 'split1_test_score': array([0.48666667, 0.48666667, 0.53333333, 0.53      , 0.53666667,\n",
       "        0.53666667, 0.58      , 0.58      , 0.57      , 0.57      ,\n",
       "        0.57333333, 0.56333333, 0.58333333, 0.58666667, 0.58333333,\n",
       "        0.58      , 0.60666667, 0.60333333, 0.63333333, 0.61      ,\n",
       "        0.66333333, 0.63666667, 0.66      , 0.64      , 0.66333333,\n",
       "        0.64      , 0.66333333, 0.64333333, 0.67      , 0.64666667,\n",
       "        0.65666667, 0.63666667, 0.66333333, 0.64666667, 0.66333333,\n",
       "        0.64      , 0.65      , 0.63666667, 0.64333333, 0.64666667,\n",
       "        0.65      , 0.66      , 0.63666667, 0.66      , 0.63666667,\n",
       "        0.66333333, 0.64333333, 0.65666667, 0.65      , 0.67      ,\n",
       "        0.64666667, 0.66666667, 0.65333333, 0.65666667, 0.64333333,\n",
       "        0.66333333, 0.65666667, 0.66333333, 0.65      , 0.66333333,\n",
       "        0.65333333, 0.66      , 0.65333333, 0.66      , 0.64666667,\n",
       "        0.64666667, 0.65      , 0.66      , 0.63333333, 0.66      ,\n",
       "        0.64666667, 0.65666667, 0.64333333, 0.65666667, 0.65      ,\n",
       "        0.65      , 0.64      , 0.65      , 0.63666667, 0.64666667,\n",
       "        0.64      , 0.64333333, 0.63      , 0.64333333, 0.63666667,\n",
       "        0.64333333, 0.64      , 0.65      , 0.63333333, 0.65      ,\n",
       "        0.64666667, 0.65333333, 0.64666667, 0.65333333, 0.64333333,\n",
       "        0.65666667, 0.64333333, 0.65666667, 0.64333333, 0.65333333,\n",
       "        0.50333333, 0.50333333, 0.55      , 0.55      , 0.55666667,\n",
       "        0.55      , 0.58      , 0.58      , 0.59666667, 0.59333333,\n",
       "        0.59      , 0.59333333, 0.61      , 0.61666667, 0.61666667,\n",
       "        0.61666667, 0.62      , 0.62333333, 0.64      , 0.63      ,\n",
       "        0.64666667, 0.62666667, 0.64333333, 0.62333333, 0.65      ,\n",
       "        0.61666667, 0.65      , 0.63333333, 0.64333333, 0.64666667,\n",
       "        0.66      , 0.65333333, 0.66333333, 0.65333333, 0.67      ,\n",
       "        0.65      , 0.66666667, 0.66      , 0.66666667, 0.67      ,\n",
       "        0.65666667, 0.65      , 0.66      , 0.66      , 0.65      ,\n",
       "        0.64666667, 0.63666667, 0.65666667, 0.64666667, 0.65666667,\n",
       "        0.65333333, 0.66333333, 0.64333333, 0.64666667, 0.64333333,\n",
       "        0.64666667, 0.63666667, 0.64333333, 0.63      , 0.66      ,\n",
       "        0.63333333, 0.66      , 0.64      , 0.66333333, 0.64666667,\n",
       "        0.66333333, 0.66333333, 0.67      , 0.66333333, 0.66666667,\n",
       "        0.66333333, 0.67333333, 0.65      , 0.66666667, 0.65333333,\n",
       "        0.67      , 0.64333333, 0.66666667, 0.64333333, 0.67      ,\n",
       "        0.64      , 0.66666667, 0.64333333, 0.66      , 0.65333333,\n",
       "        0.66333333, 0.65      , 0.66333333, 0.64333333, 0.66      ,\n",
       "        0.64      , 0.65666667, 0.63333333, 0.66      , 0.63333333,\n",
       "        0.66333333, 0.63      , 0.66333333, 0.64333333, 0.66      ]),\n",
       " 'split2_test_score': array([0.63210702, 0.63210702, 0.67558528, 0.66889632, 0.62876254,\n",
       "        0.63210702, 0.69565217, 0.68896321, 0.63879599, 0.64548495,\n",
       "        0.63210702, 0.64882943, 0.63210702, 0.64548495, 0.64882943,\n",
       "        0.64214047, 0.62541806, 0.62207358, 0.62541806, 0.6187291 ,\n",
       "        0.63545151, 0.61538462, 0.63210702, 0.62207358, 0.62541806,\n",
       "        0.62541806, 0.63879599, 0.63879599, 0.63210702, 0.63210702,\n",
       "        0.63210702, 0.64214047, 0.63545151, 0.64548495, 0.63879599,\n",
       "        0.64214047, 0.62207358, 0.63545151, 0.63879599, 0.63210702,\n",
       "        0.63545151, 0.64214047, 0.63879599, 0.64882943, 0.63879599,\n",
       "        0.64548495, 0.63879599, 0.64214047, 0.63879599, 0.63879599,\n",
       "        0.64548495, 0.64548495, 0.63879599, 0.63545151, 0.62876254,\n",
       "        0.63879599, 0.63879599, 0.63879599, 0.63545151, 0.63545151,\n",
       "        0.63879599, 0.63545151, 0.64548495, 0.64214047, 0.64214047,\n",
       "        0.63210702, 0.63210702, 0.62876254, 0.62207358, 0.62541806,\n",
       "        0.62541806, 0.6187291 , 0.62207358, 0.62207358, 0.62541806,\n",
       "        0.62541806, 0.61538462, 0.62541806, 0.62207358, 0.61538462,\n",
       "        0.60869565, 0.6187291 , 0.6187291 , 0.6187291 , 0.6187291 ,\n",
       "        0.6187291 , 0.63210702, 0.62207358, 0.62541806, 0.62207358,\n",
       "        0.63210702, 0.62876254, 0.63210702, 0.62876254, 0.62541806,\n",
       "        0.63210702, 0.62207358, 0.62207358, 0.62207358, 0.62541806,\n",
       "        0.61538462, 0.61538462, 0.66220736, 0.65551839, 0.6722408 ,\n",
       "        0.66555184, 0.69565217, 0.68561873, 0.66889632, 0.68227425,\n",
       "        0.67892977, 0.69230769, 0.66889632, 0.68896321, 0.65886288,\n",
       "        0.66889632, 0.65551839, 0.66220736, 0.66555184, 0.6722408 ,\n",
       "        0.64882943, 0.64882943, 0.65551839, 0.66220736, 0.65551839,\n",
       "        0.64548495, 0.63545151, 0.64214047, 0.63545151, 0.64214047,\n",
       "        0.64882943, 0.64882943, 0.62207358, 0.65217391, 0.63879599,\n",
       "        0.64882943, 0.66889632, 0.67892977, 0.66220736, 0.67892977,\n",
       "        0.65551839, 0.66555184, 0.64548495, 0.6722408 , 0.64882943,\n",
       "        0.67558528, 0.66555184, 0.6722408 , 0.65551839, 0.65886288,\n",
       "        0.65886288, 0.66220736, 0.66220736, 0.66555184, 0.66555184,\n",
       "        0.65886288, 0.66220736, 0.66220736, 0.65217391, 0.65886288,\n",
       "        0.64882943, 0.65551839, 0.64882943, 0.66220736, 0.65551839,\n",
       "        0.66220736, 0.65551839, 0.66220736, 0.6722408 , 0.66889632,\n",
       "        0.66889632, 0.66220736, 0.66889632, 0.66889632, 0.66220736,\n",
       "        0.66555184, 0.65217391, 0.65886288, 0.64548495, 0.66220736,\n",
       "        0.64214047, 0.65217391, 0.64882943, 0.65886288, 0.64882943,\n",
       "        0.65886288, 0.65217391, 0.65551839, 0.64214047, 0.64548495,\n",
       "        0.64882943, 0.64214047, 0.64548495, 0.64882943, 0.64214047,\n",
       "        0.64882943, 0.63545151, 0.65217391, 0.6187291 , 0.64882943]),\n",
       " 'mean_test_score': array([0.55333333, 0.55333333, 0.60222222, 0.59888889, 0.58444444,\n",
       "        0.58333333, 0.62222222, 0.61666667, 0.60888889, 0.61222222,\n",
       "        0.62      , 0.61666667, 0.62      , 0.62111111, 0.61888889,\n",
       "        0.61444444, 0.62      , 0.61555556, 0.62666667, 0.61666667,\n",
       "        0.63777778, 0.62444444, 0.63555556, 0.62666667, 0.64      ,\n",
       "        0.63444444, 0.64666667, 0.64333333, 0.64888889, 0.64111111,\n",
       "        0.64333333, 0.64111111, 0.65111111, 0.64555556, 0.64333333,\n",
       "        0.63555556, 0.63555556, 0.63555556, 0.63555556, 0.63555556,\n",
       "        0.63666667, 0.64333333, 0.63111111, 0.64555556, 0.63      ,\n",
       "        0.64555556, 0.63222222, 0.64111111, 0.63666667, 0.64666667,\n",
       "        0.63888889, 0.64666667, 0.64111111, 0.64      , 0.63333333,\n",
       "        0.64333333, 0.64      , 0.64111111, 0.64      , 0.64333333,\n",
       "        0.63888889, 0.63888889, 0.64      , 0.64333333, 0.63555556,\n",
       "        0.63555556, 0.63222222, 0.64222222, 0.62666667, 0.64      ,\n",
       "        0.63      , 0.63666667, 0.63333333, 0.64111111, 0.63666667,\n",
       "        0.63888889, 0.62444444, 0.64      , 0.62666667, 0.63555556,\n",
       "        0.62333333, 0.63222222, 0.62222222, 0.63111111, 0.62333333,\n",
       "        0.63      , 0.63111111, 0.63555556, 0.62666667, 0.63666667,\n",
       "        0.63444444, 0.63555556, 0.63555556, 0.63666667, 0.62888889,\n",
       "        0.64111111, 0.62777778, 0.63666667, 0.62888889, 0.63666667,\n",
       "        0.57666667, 0.57666667, 0.59777778, 0.59555556, 0.61111111,\n",
       "        0.60666667, 0.62666667, 0.62      , 0.62555556, 0.63222222,\n",
       "        0.63      , 0.64      , 0.63222222, 0.64555556, 0.63444444,\n",
       "        0.63777778, 0.63777778, 0.64222222, 0.64      , 0.63555556,\n",
       "        0.64111111, 0.63333333, 0.64222222, 0.63111111, 0.64666667,\n",
       "        0.63111111, 0.63777778, 0.63333333, 0.63888889, 0.63777778,\n",
       "        0.64666667, 0.64222222, 0.64444444, 0.64777778, 0.64888889,\n",
       "        0.64333333, 0.66222222, 0.66222222, 0.66444444, 0.66888889,\n",
       "        0.65666667, 0.65555556, 0.65222222, 0.66111111, 0.64555556,\n",
       "        0.65444444, 0.64777778, 0.65666667, 0.65      , 0.65333333,\n",
       "        0.65666667, 0.65666667, 0.65      , 0.65111111, 0.65      ,\n",
       "        0.64888889, 0.64777778, 0.65111111, 0.63888889, 0.65333333,\n",
       "        0.64777778, 0.65222222, 0.64666667, 0.65555556, 0.65      ,\n",
       "        0.65444444, 0.65444444, 0.66      , 0.66      , 0.66222222,\n",
       "        0.65777778, 0.66222222, 0.65222222, 0.66      , 0.65222222,\n",
       "        0.65888889, 0.64333333, 0.65555556, 0.64222222, 0.65666667,\n",
       "        0.64      , 0.65222222, 0.64      , 0.65111111, 0.64333333,\n",
       "        0.65      , 0.64333333, 0.64888889, 0.63777778, 0.64777778,\n",
       "        0.64222222, 0.64666667, 0.63555556, 0.64777778, 0.63222222,\n",
       "        0.64666667, 0.63111111, 0.64555556, 0.62666667, 0.64222222]),\n",
       " 'std_test_score': array([0.05991349, 0.05991349, 0.05810252, 0.05666029, 0.03765295,\n",
       "        0.03895506, 0.05200071, 0.05099681, 0.02878656, 0.03145068,\n",
       "        0.03423961, 0.03797666, 0.0264177 , 0.02504157, 0.02701972,\n",
       "        0.02580422, 0.00948269, 0.00864876, 0.00501003, 0.00482616,\n",
       "        0.01997203, 0.00896936, 0.01870141, 0.00957791, 0.01666885,\n",
       "        0.00642567, 0.01179113, 0.0036924 , 0.01576428, 0.00641132,\n",
       "        0.01013198, 0.0032892 , 0.01162196, 0.00087922, 0.01482436,\n",
       "        0.00782581, 0.01141361, 0.00086734, 0.00799416, 0.00804167,\n",
       "        0.01041969, 0.01313978, 0.00937685, 0.01331459, 0.0109385 ,\n",
       "        0.01447486, 0.01261574, 0.01312838, 0.01183747, 0.01678585,\n",
       "        0.01015132, 0.01585866, 0.0091779 , 0.01218095, 0.00707969,\n",
       "        0.01482436, 0.01313577, 0.01726703, 0.00708061, 0.0142468 ,\n",
       "        0.01174652, 0.01601231, 0.01366294, 0.01313978, 0.01262284,\n",
       "        0.00804167, 0.01445691, 0.01310955, 0.00482423, 0.01462543,\n",
       "        0.01217409, 0.01554748, 0.0087149 , 0.01431599, 0.01013864,\n",
       "        0.01015965, 0.01104881, 0.01052627, 0.00707882, 0.01425442,\n",
       "        0.01285338, 0.01017117, 0.00550914, 0.0100366 , 0.00957631,\n",
       "        0.01014533, 0.00768809, 0.01141361, 0.00501003, 0.01142349,\n",
       "        0.00917181, 0.01268596, 0.00804167, 0.01179029, 0.01066024,\n",
       "        0.01104462, 0.01112812, 0.01462774, 0.01021913, 0.01202153,\n",
       "        0.05188136, 0.05188136, 0.0472205 , 0.0441967 , 0.04736543,\n",
       "        0.0471561 , 0.04968975, 0.04667077, 0.03114884, 0.03710219,\n",
       "        0.03680009, 0.0405567 , 0.02607035, 0.03118995, 0.0178251 ,\n",
       "        0.02242448, 0.01448837, 0.01587368, 0.02079356, 0.02787143,\n",
       "        0.00940157, 0.01096307, 0.0112996 , 0.02281362, 0.00887824,\n",
       "        0.01175549, 0.00917485, 0.00716707, 0.0032946 , 0.00953273,\n",
       "        0.01185395, 0.01263705, 0.01700146, 0.00703663, 0.01493256,\n",
       "        0.00859357, 0.00789234, 0.01278896, 0.00181899, 0.00865888,\n",
       "        0.00093444, 0.00706677, 0.00596824, 0.00864081, 0.00546633,\n",
       "        0.01507808, 0.01267261, 0.01267391, 0.00392178, 0.00631267,\n",
       "        0.00239609, 0.00862394, 0.00862394, 0.010428  , 0.01100404,\n",
       "        0.00738161, 0.01067138, 0.00804037, 0.00955321, 0.00861634,\n",
       "        0.0113814 , 0.00802714, 0.00480933, 0.01018948, 0.00392178,\n",
       "        0.01175553, 0.00772483, 0.00918698, 0.01156045, 0.00789234,\n",
       "        0.01197143, 0.00905862, 0.01276195, 0.01101224, 0.0086137 ,\n",
       "        0.01267261, 0.00719428, 0.01066525, 0.00320503, 0.01369581,\n",
       "        0.00174187, 0.01176448, 0.00886075, 0.01174786, 0.01108861,\n",
       "        0.015767  , 0.01097126, 0.01521133, 0.00701406, 0.00918402,\n",
       "        0.00474061, 0.00708157, 0.00734616, 0.01042437, 0.0085595 ,\n",
       "        0.01455494, 0.00317865, 0.01781224, 0.01178951, 0.01780581]),\n",
       " 'rank_test_score': array([199, 199, 191, 192, 195, 196, 174, 182, 189, 187, 177, 182, 177,\n",
       "        176, 181, 186, 177, 185, 162, 182, 108, 170, 122, 162,  91, 136,\n",
       "         50,  65,  40,  83,  65,  83,  31,  58,  65, 122, 122, 122, 122,\n",
       "        122, 114,  65, 149,  58, 155,  58, 143,  83, 114,  50, 102,  50,\n",
       "         83,  91, 139,  65,  91,  83,  91,  65, 102, 102,  91,  65, 122,\n",
       "        122, 143,  76, 162,  91, 155, 114, 139,  83, 114, 102, 170,  91,\n",
       "        162, 122, 172, 143, 174, 149, 172, 155, 149, 122, 162, 114, 136,\n",
       "        122, 122, 114, 159,  83, 161, 114, 159, 114, 197, 197, 193, 194,\n",
       "        188, 190, 162, 177, 169, 143, 155,  91, 143,  58, 136, 108, 108,\n",
       "         76,  91, 122,  83, 139,  76, 149,  50, 149, 108, 139, 102, 108,\n",
       "         50,  76,  64,  44,  40,  65,   3,   3,   2,   1,  13,  18,  26,\n",
       "          7,  58,  21,  44,  13,  35,  24,  13,  13,  35,  31,  35,  40,\n",
       "         44,  31, 102,  24,  44,  26,  50,  18,  35,  21,  21,   8,   8,\n",
       "          3,  12,   3,  26,   8,  26,  11,  65,  18,  76,  13,  91,  26,\n",
       "         91,  31,  65,  35,  65,  40, 108,  44,  76,  50, 122,  44, 143,\n",
       "         50, 149,  58, 162,  76])}"
      ]
     },
     "execution_count": 27,
     "metadata": {},
     "output_type": "execute_result"
    }
   ],
   "source": [
    "# view the complete results (list of named tuples)\n",
    "grid.cv_results_"
   ]
  },
  {
   "cell_type": "code",
   "execution_count": 28,
   "metadata": {},
   "outputs": [
    {
     "data": {
      "text/html": [
       "<div>\n",
       "<style scoped>\n",
       "    .dataframe tbody tr th:only-of-type {\n",
       "        vertical-align: middle;\n",
       "    }\n",
       "\n",
       "    .dataframe tbody tr th {\n",
       "        vertical-align: top;\n",
       "    }\n",
       "\n",
       "    .dataframe thead th {\n",
       "        text-align: right;\n",
       "    }\n",
       "</style>\n",
       "<table border=\"1\" class=\"dataframe\">\n",
       "  <thead>\n",
       "    <tr style=\"text-align: right;\">\n",
       "      <th></th>\n",
       "      <th>0</th>\n",
       "      <th>1</th>\n",
       "    </tr>\n",
       "  </thead>\n",
       "  <tbody>\n",
       "    <tr>\n",
       "      <td>0</td>\n",
       "      <td>101</td>\n",
       "      <td>31</td>\n",
       "    </tr>\n",
       "    <tr>\n",
       "      <td>1</td>\n",
       "      <td>53</td>\n",
       "      <td>15</td>\n",
       "    </tr>\n",
       "  </tbody>\n",
       "</table>\n",
       "</div>"
      ],
      "text/plain": [
       "     0   1\n",
       "0  101  31\n",
       "1   53  15"
      ]
     },
     "execution_count": 28,
     "metadata": {},
     "output_type": "execute_result"
    }
   ],
   "source": [
    "# Plot confusion matrix\n",
    "from sklearn.metrics import confusion_matrix\n",
    "\n",
    "my_knn_cmatrix = confusion_matrix(Y_valid,Y_pred)\n",
    "\n",
    "my_knn_df = pd.DataFrame(my_knn_cmatrix)\n",
    "my_knn_df.head()"
   ]
  },
  {
   "cell_type": "code",
   "execution_count": 29,
   "metadata": {},
   "outputs": [
    {
     "data": {
      "text/html": [
       "<div>\n",
       "<style scoped>\n",
       "    .dataframe tbody tr th:only-of-type {\n",
       "        vertical-align: middle;\n",
       "    }\n",
       "\n",
       "    .dataframe tbody tr th {\n",
       "        vertical-align: top;\n",
       "    }\n",
       "\n",
       "    .dataframe thead th {\n",
       "        text-align: right;\n",
       "    }\n",
       "</style>\n",
       "<table border=\"1\" class=\"dataframe\">\n",
       "  <thead>\n",
       "    <tr style=\"text-align: right;\">\n",
       "      <th></th>\n",
       "      <th>Did not Survive</th>\n",
       "      <th>Survived</th>\n",
       "    </tr>\n",
       "  </thead>\n",
       "  <tbody>\n",
       "    <tr>\n",
       "      <td>Did not Survive</td>\n",
       "      <td>101</td>\n",
       "      <td>53</td>\n",
       "    </tr>\n",
       "    <tr>\n",
       "      <td>Survived</td>\n",
       "      <td>31</td>\n",
       "      <td>15</td>\n",
       "    </tr>\n",
       "  </tbody>\n",
       "</table>\n",
       "</div>"
      ],
      "text/plain": [
       "                 Did not Survive  Survived\n",
       "Did not Survive              101        53\n",
       "Survived                      31        15"
      ]
     },
     "execution_count": 29,
     "metadata": {},
     "output_type": "execute_result"
    }
   ],
   "source": [
    "'''Rename indices and columns, and transpose the dataframe so that\n",
    "actual items are plotted on the x-axis, and predicted on the y-axis'''\n",
    "\n",
    "my_knn_df.columns = [\"Did not Survive\",\"Survived\"]\n",
    "my_knn_df.index = [\"Did not Survive\",\"Survived\"]\n",
    "my_knn_df = my_knn_df.T\n",
    "my_knn_df"
   ]
  },
  {
   "cell_type": "code",
   "execution_count": 30,
   "metadata": {},
   "outputs": [
    {
     "data": {
      "text/plain": [
       "(array([0.5, 1.5]), <a list of 2 Text major ticklabel objects>)"
      ]
     },
     "execution_count": 30,
     "metadata": {},
     "output_type": "execute_result"
    },
    {
     "data": {
      "image/png": "[encoded data removed]",
      "text/plain": [
       "<Figure size 576x576 with 2 Axes>"
      ]
     },
     "metadata": {
      "needs_background": "light"
     },
     "output_type": "display_data"
    }
   ],
   "source": [
    "# Make a heatmap of the confusion matrix with seaborn\n",
    "plt.figure(figsize = (8,8))\n",
    "akws = {\"ha\": 'center',\"va\": 'center'}\n",
    "sns.heatmap(my_knn_df, \n",
    "            annot = True, fmt='g', annot_kws=akws)\n",
    "plt.xlabel(\"Actual\")\n",
    "plt.ylabel(\"Predicted\")\n",
    "plt.yticks(va=\"center\")"
   ]
  },
  {
   "cell_type": "code",
   "execution_count": 31,
   "metadata": {},
   "outputs": [
    {
     "name": "stdout",
     "output_type": "stream",
     "text": [
      "0.58 -0.0160520044490449 0.2631578947368421\n"
     ]
    }
   ],
   "source": [
    "#Calculate accuracy\n",
    "print(accuracy_score(Y_valid,Y_pred),\n",
    "      matthews_corrcoef(Y_valid,Y_pred),\n",
    "      f1_score(Y_valid,Y_pred))"
   ]
  },
  {
   "cell_type": "code",
   "execution_count": 32,
   "metadata": {},
   "outputs": [
    {
     "name": "stdout",
     "output_type": "stream",
     "text": [
      "              precision    recall  f1-score   support\n",
      "\n",
      "           0       0.66      0.77      0.71       132\n",
      "           1       0.33      0.22      0.26        68\n",
      "\n",
      "    accuracy                           0.58       200\n",
      "   macro avg       0.49      0.49      0.48       200\n",
      "weighted avg       0.54      0.58      0.56       200\n",
      "\n"
     ]
    }
   ],
   "source": [
    "#Calculate precision, recall, f1-score in function built in scikit-learn \n",
    "scores = classification_report(Y_valid,Y_pred)\n",
    "print(scores)"
   ]
  },
  {
   "cell_type": "code",
   "execution_count": 33,
   "metadata": {},
   "outputs": [
    {
     "name": "stderr",
     "output_type": "stream",
     "text": [
      "A subdirectory or file knn_model already exists.\n"
     ]
    },
    {
     "data": {
      "text/plain": [
       "['C:\\\\Users\\\\srush\\\\Documents\\\\Srushti NEU\\\\Full Summer 2020\\\\INFO 6105 Data Science Engineering Methods and Tools\\\\Assignment\\\\knn_model\\\\knn_model_final.sav']"
      ]
     },
     "execution_count": 33,
     "metadata": {},
     "output_type": "execute_result"
    }
   ],
   "source": [
    "knn_model_fin = KNeighborsClassifier(n_neighbors= 39, weights= 'distance',metric= 'cityblock')\n",
    "knn_model_fin.fit(X_full,Y)\n",
    "\n",
    "!mkdir knn_model\n",
    "knn_model_name = f'{my_path}\\\\knn_model\\\\knn_model_final.sav'\n",
    "joblib.dump(knn_model_fin,knn_model_name)"
   ]
  },
  {
   "cell_type": "code",
   "execution_count": 34,
   "metadata": {},
   "outputs": [
    {
     "name": "stdout",
     "output_type": "stream",
     "text": [
      "knn_model_final.sav\n"
     ]
    }
   ],
   "source": [
    "#Make sure your model has been saved !\n",
    "!ls knn_model"
   ]
  },
  {
   "cell_type": "code",
   "execution_count": 35,
   "metadata": {},
   "outputs": [],
   "source": [
    "# Congrats! You have saved your model!Now, let's read it back in!\n",
    "knn_model_loaded = joblib.load(knn_model_name)"
   ]
  },
  {
   "cell_type": "markdown",
   "metadata": {},
   "source": [
    "<a href=\"#Table-of-contents\"><h5 class=\"text-center\">Go to top</h5></a>"
   ]
  },
  {
   "cell_type": "markdown",
   "metadata": {},
   "source": [
    "___"
   ]
  },
  {
   "cell_type": "markdown",
   "metadata": {},
   "source": [
    "# VI. Evaluating test set accuracy with the trained model"
   ]
  },
  {
   "cell_type": "code",
   "execution_count": 36,
   "metadata": {},
   "outputs": [
    {
     "name": "stdout",
     "output_type": "stream",
     "text": [
      "(209, 12)\n"
     ]
    },
    {
     "data": {
      "text/html": [
       "<div>\n",
       "<style scoped>\n",
       "    .dataframe tbody tr th:only-of-type {\n",
       "        vertical-align: middle;\n",
       "    }\n",
       "\n",
       "    .dataframe tbody tr th {\n",
       "        vertical-align: top;\n",
       "    }\n",
       "\n",
       "    .dataframe thead th {\n",
       "        text-align: right;\n",
       "    }\n",
       "</style>\n",
       "<table border=\"1\" class=\"dataframe\">\n",
       "  <thead>\n",
       "    <tr style=\"text-align: right;\">\n",
       "      <th></th>\n",
       "      <th>PassengerId</th>\n",
       "      <th>Survived</th>\n",
       "      <th>Pclass</th>\n",
       "      <th>Name</th>\n",
       "      <th>Sex</th>\n",
       "      <th>Age</th>\n",
       "      <th>SibSp</th>\n",
       "      <th>Parch</th>\n",
       "      <th>Ticket</th>\n",
       "      <th>Fare</th>\n",
       "      <th>Cabin</th>\n",
       "      <th>Embarked</th>\n",
       "    </tr>\n",
       "  </thead>\n",
       "  <tbody>\n",
       "    <tr>\n",
       "      <td>1100</td>\n",
       "      <td>1101</td>\n",
       "      <td>1</td>\n",
       "      <td>3</td>\n",
       "      <td>Delalic, Mr. Redjo</td>\n",
       "      <td>male</td>\n",
       "      <td>25.0</td>\n",
       "      <td>0</td>\n",
       "      <td>0</td>\n",
       "      <td>349250</td>\n",
       "      <td>7.8958</td>\n",
       "      <td>NaN</td>\n",
       "      <td>S</td>\n",
       "    </tr>\n",
       "    <tr>\n",
       "      <td>1101</td>\n",
       "      <td>1102</td>\n",
       "      <td>0</td>\n",
       "      <td>3</td>\n",
       "      <td>Andersen, Mr. Albert Karvin</td>\n",
       "      <td>male</td>\n",
       "      <td>32.0</td>\n",
       "      <td>0</td>\n",
       "      <td>0</td>\n",
       "      <td>C 4001</td>\n",
       "      <td>22.5250</td>\n",
       "      <td>NaN</td>\n",
       "      <td>S</td>\n",
       "    </tr>\n",
       "    <tr>\n",
       "      <td>1102</td>\n",
       "      <td>1103</td>\n",
       "      <td>1</td>\n",
       "      <td>3</td>\n",
       "      <td>Finoli, Mr. Luigi</td>\n",
       "      <td>male</td>\n",
       "      <td>NaN</td>\n",
       "      <td>0</td>\n",
       "      <td>0</td>\n",
       "      <td>SOTON/O.Q. 3101308</td>\n",
       "      <td>7.0500</td>\n",
       "      <td>NaN</td>\n",
       "      <td>S</td>\n",
       "    </tr>\n",
       "  </tbody>\n",
       "</table>\n",
       "</div>"
      ],
      "text/plain": [
       "      PassengerId  Survived  Pclass                         Name   Sex   Age  \\\n",
       "1100         1101         1       3           Delalic, Mr. Redjo  male  25.0   \n",
       "1101         1102         0       3  Andersen, Mr. Albert Karvin  male  32.0   \n",
       "1102         1103         1       3            Finoli, Mr. Luigi  male   NaN   \n",
       "\n",
       "      SibSp  Parch              Ticket     Fare Cabin Embarked  \n",
       "1100      0      0              349250   7.8958   NaN        S  \n",
       "1101      0      0              C 4001  22.5250   NaN        S  \n",
       "1102      0      0  SOTON/O.Q. 3101308   7.0500   NaN        S  "
      ]
     },
     "execution_count": 36,
     "metadata": {},
     "output_type": "execute_result"
    }
   ],
   "source": [
    "'''Before we can apply this on the test set, we need to pre-process the test set in exactly the same way we did the\n",
    "train_valid set !!!'''\n",
    "\n",
    "print(mydf_test.shape)\n",
    "mydf_test.head(3)\n"
   ]
  },
  {
   "cell_type": "code",
   "execution_count": 37,
   "metadata": {},
   "outputs": [
    {
     "name": "stdout",
     "output_type": "stream",
     "text": [
      "(209, 11)\n"
     ]
    },
    {
     "data": {
      "text/html": [
       "<div>\n",
       "<style scoped>\n",
       "    .dataframe tbody tr th:only-of-type {\n",
       "        vertical-align: middle;\n",
       "    }\n",
       "\n",
       "    .dataframe tbody tr th {\n",
       "        vertical-align: top;\n",
       "    }\n",
       "\n",
       "    .dataframe thead th {\n",
       "        text-align: right;\n",
       "    }\n",
       "</style>\n",
       "<table border=\"1\" class=\"dataframe\">\n",
       "  <thead>\n",
       "    <tr style=\"text-align: right;\">\n",
       "      <th></th>\n",
       "      <th>PassengerId</th>\n",
       "      <th>Survived</th>\n",
       "      <th>Pclass</th>\n",
       "      <th>Name</th>\n",
       "      <th>Sex</th>\n",
       "      <th>Age</th>\n",
       "      <th>SibSp</th>\n",
       "      <th>Parch</th>\n",
       "      <th>Ticket</th>\n",
       "      <th>Fare</th>\n",
       "      <th>Embarked</th>\n",
       "    </tr>\n",
       "  </thead>\n",
       "  <tbody>\n",
       "    <tr>\n",
       "      <td>1100</td>\n",
       "      <td>1101</td>\n",
       "      <td>1</td>\n",
       "      <td>3</td>\n",
       "      <td>Delalic, Mr. Redjo</td>\n",
       "      <td>male</td>\n",
       "      <td>25.0</td>\n",
       "      <td>0</td>\n",
       "      <td>0</td>\n",
       "      <td>349250</td>\n",
       "      <td>7.8958</td>\n",
       "      <td>S</td>\n",
       "    </tr>\n",
       "    <tr>\n",
       "      <td>1101</td>\n",
       "      <td>1102</td>\n",
       "      <td>0</td>\n",
       "      <td>3</td>\n",
       "      <td>Andersen, Mr. Albert Karvin</td>\n",
       "      <td>male</td>\n",
       "      <td>32.0</td>\n",
       "      <td>0</td>\n",
       "      <td>0</td>\n",
       "      <td>C 4001</td>\n",
       "      <td>22.5250</td>\n",
       "      <td>S</td>\n",
       "    </tr>\n",
       "    <tr>\n",
       "      <td>1102</td>\n",
       "      <td>1103</td>\n",
       "      <td>1</td>\n",
       "      <td>3</td>\n",
       "      <td>Finoli, Mr. Luigi</td>\n",
       "      <td>male</td>\n",
       "      <td>NaN</td>\n",
       "      <td>0</td>\n",
       "      <td>0</td>\n",
       "      <td>SOTON/O.Q. 3101308</td>\n",
       "      <td>7.0500</td>\n",
       "      <td>S</td>\n",
       "    </tr>\n",
       "  </tbody>\n",
       "</table>\n",
       "</div>"
      ],
      "text/plain": [
       "      PassengerId  Survived  Pclass                         Name   Sex   Age  \\\n",
       "1100         1101         1       3           Delalic, Mr. Redjo  male  25.0   \n",
       "1101         1102         0       3  Andersen, Mr. Albert Karvin  male  32.0   \n",
       "1102         1103         1       3            Finoli, Mr. Luigi  male   NaN   \n",
       "\n",
       "      SibSp  Parch              Ticket     Fare Embarked  \n",
       "1100      0      0              349250   7.8958        S  \n",
       "1101      0      0              C 4001  22.5250        S  \n",
       "1102      0      0  SOTON/O.Q. 3101308   7.0500        S  "
      ]
     },
     "execution_count": 37,
     "metadata": {},
     "output_type": "execute_result"
    }
   ],
   "source": [
    "#get rid of the \"cabin\" column as we did before with the train_valid set\n",
    "mydf_test1 = mydf_test.drop(\"Cabin\",axis = 1)\n",
    "print(mydf_test1.shape)\n",
    "mydf_test1.head(3)"
   ]
  },
  {
   "cell_type": "code",
   "execution_count": 38,
   "metadata": {},
   "outputs": [
    {
     "data": {
      "text/plain": [
       "Index(['female', 'male'], dtype='object')"
      ]
     },
     "execution_count": 38,
     "metadata": {},
     "output_type": "execute_result"
    }
   ],
   "source": [
    "'''Make sure the category codes for train and test sets are the same as \n",
    "the ones we used previously! Here, we have coded, Name, Sex, Ticket and \n",
    "embarked. Because Name and Ticket ids will not be repeated, \n",
    "we will check Sex and embarked. Checking category codes for the test set...'''\n",
    "\n",
    "mydf_test2 = str_to_cat(mydf_test1)\n",
    "mydf_test2.Sex.cat.categories"
   ]
  },
  {
   "cell_type": "code",
   "execution_count": 39,
   "metadata": {},
   "outputs": [
    {
     "data": {
      "text/plain": [
       "Index(['C', 'Q', 'S'], dtype='object')"
      ]
     },
     "execution_count": 39,
     "metadata": {},
     "output_type": "execute_result"
    }
   ],
   "source": [
    "#Check for the Embarked column\n",
    "mydf_test2.Embarked.cat.categories"
   ]
  },
  {
   "cell_type": "code",
   "execution_count": 40,
   "metadata": {},
   "outputs": [
    {
     "name": "stdout",
     "output_type": "stream",
     "text": [
      "(209, 13)\n"
     ]
    },
    {
     "data": {
      "text/html": [
       "<div>\n",
       "<style scoped>\n",
       "    .dataframe tbody tr th:only-of-type {\n",
       "        vertical-align: middle;\n",
       "    }\n",
       "\n",
       "    .dataframe tbody tr th {\n",
       "        vertical-align: top;\n",
       "    }\n",
       "\n",
       "    .dataframe thead th {\n",
       "        text-align: right;\n",
       "    }\n",
       "</style>\n",
       "<table border=\"1\" class=\"dataframe\">\n",
       "  <thead>\n",
       "    <tr style=\"text-align: right;\">\n",
       "      <th></th>\n",
       "      <th>PassengerId</th>\n",
       "      <th>Survived</th>\n",
       "      <th>Pclass</th>\n",
       "      <th>Name</th>\n",
       "      <th>Sex</th>\n",
       "      <th>Age</th>\n",
       "      <th>SibSp</th>\n",
       "      <th>Parch</th>\n",
       "      <th>Ticket</th>\n",
       "      <th>Fare</th>\n",
       "      <th>Embarked</th>\n",
       "      <th>Age_na</th>\n",
       "      <th>Fare_na</th>\n",
       "    </tr>\n",
       "  </thead>\n",
       "  <tbody>\n",
       "    <tr>\n",
       "      <td>1100</td>\n",
       "      <td>1101</td>\n",
       "      <td>1</td>\n",
       "      <td>3</td>\n",
       "      <td>47</td>\n",
       "      <td>2</td>\n",
       "      <td>25.0</td>\n",
       "      <td>0</td>\n",
       "      <td>0</td>\n",
       "      <td>106</td>\n",
       "      <td>7.8958</td>\n",
       "      <td>3</td>\n",
       "      <td>False</td>\n",
       "      <td>False</td>\n",
       "    </tr>\n",
       "    <tr>\n",
       "      <td>1101</td>\n",
       "      <td>1102</td>\n",
       "      <td>0</td>\n",
       "      <td>3</td>\n",
       "      <td>6</td>\n",
       "      <td>2</td>\n",
       "      <td>32.0</td>\n",
       "      <td>0</td>\n",
       "      <td>0</td>\n",
       "      <td>146</td>\n",
       "      <td>22.5250</td>\n",
       "      <td>3</td>\n",
       "      <td>False</td>\n",
       "      <td>False</td>\n",
       "    </tr>\n",
       "    <tr>\n",
       "      <td>1102</td>\n",
       "      <td>1103</td>\n",
       "      <td>1</td>\n",
       "      <td>3</td>\n",
       "      <td>62</td>\n",
       "      <td>2</td>\n",
       "      <td>28.0</td>\n",
       "      <td>0</td>\n",
       "      <td>0</td>\n",
       "      <td>187</td>\n",
       "      <td>7.0500</td>\n",
       "      <td>3</td>\n",
       "      <td>True</td>\n",
       "      <td>False</td>\n",
       "    </tr>\n",
       "  </tbody>\n",
       "</table>\n",
       "</div>"
      ],
      "text/plain": [
       "      PassengerId  Survived  Pclass  Name  Sex   Age  SibSp  Parch  Ticket  \\\n",
       "1100         1101         1       3    47    2  25.0      0      0     106   \n",
       "1101         1102         0       3     6    2  32.0      0      0     146   \n",
       "1102         1103         1       3    62    2  28.0      0      0     187   \n",
       "\n",
       "         Fare  Embarked  Age_na  Fare_na  \n",
       "1100   7.8958         3   False    False  \n",
       "1101  22.5250         3   False    False  \n",
       "1102   7.0500         3    True    False  "
      ]
     },
     "execution_count": 40,
     "metadata": {},
     "output_type": "execute_result"
    }
   ],
   "source": [
    "#Cool, this means the category codes are the same. We can proceed.\n",
    "#Make sure you use the same impute values of median.\n",
    "mydf_test3,my_table1 = mydf_preprocessor(mydf_test2,\n",
    "                                         null_table = my_table)\n",
    "print(mydf_test3.shape)\n",
    "mydf_test3.head(3)"
   ]
  },
  {
   "cell_type": "code",
   "execution_count": 41,
   "metadata": {},
   "outputs": [
    {
     "data": {
      "text/plain": [
       "{'Age': 28.0, 'Fare': 14.4583}"
      ]
     },
     "execution_count": 41,
     "metadata": {},
     "output_type": "execute_result"
    }
   ],
   "source": [
    "my_table1"
   ]
  },
  {
   "cell_type": "code",
   "execution_count": 42,
   "metadata": {},
   "outputs": [
    {
     "name": "stdout",
     "output_type": "stream",
     "text": [
      "(209, 12) (209,)\n"
     ]
    }
   ],
   "source": [
    "# Now, let's split out the X and Y variables (vertical split of the dataframe)\n",
    "#Remember we did this previously!\n",
    "\n",
    "\n",
    "Y_t = mydf_test3[\"Survived\"]\n",
    "X_t = mydf_test3.drop([\"Survived\"],axis = 1)\n",
    "\n",
    "print(X_t.shape,Y_t.shape)"
   ]
  },
  {
   "cell_type": "code",
   "execution_count": 43,
   "metadata": {},
   "outputs": [
    {
     "name": "stdout",
     "output_type": "stream",
     "text": [
      "(209, 10) (209, 2)\n"
     ]
    }
   ],
   "source": [
    "#Separate continuous and categorical variables/columns for scaling\n",
    "\n",
    "X_cat_t = X_t[['PassengerId', 'Pclass', 'Name', 'Sex', 'SibSp', 'Parch',\n",
    "       'Ticket', 'Embarked', 'Age_na', 'Fare_na']]\n",
    "X_con_t = X_t.drop(X_cat_t,axis = 1)\n",
    "print(X_cat_t.shape,X_con_t.shape)"
   ]
  },
  {
   "cell_type": "code",
   "execution_count": 44,
   "metadata": {},
   "outputs": [
    {
     "name": "stdout",
     "output_type": "stream",
     "text": [
      "(209, 2)\n"
     ]
    },
    {
     "data": {
      "text/html": [
       "<div>\n",
       "<style scoped>\n",
       "    .dataframe tbody tr th:only-of-type {\n",
       "        vertical-align: middle;\n",
       "    }\n",
       "\n",
       "    .dataframe tbody tr th {\n",
       "        vertical-align: top;\n",
       "    }\n",
       "\n",
       "    .dataframe thead th {\n",
       "        text-align: right;\n",
       "    }\n",
       "</style>\n",
       "<table border=\"1\" class=\"dataframe\">\n",
       "  <thead>\n",
       "    <tr style=\"text-align: right;\">\n",
       "      <th></th>\n",
       "      <th>Age</th>\n",
       "      <th>Fare</th>\n",
       "    </tr>\n",
       "  </thead>\n",
       "  <tbody>\n",
       "    <tr>\n",
       "      <td>0</td>\n",
       "      <td>-0.343408</td>\n",
       "      <td>-0.489547</td>\n",
       "    </tr>\n",
       "    <tr>\n",
       "      <td>1</td>\n",
       "      <td>0.196729</td>\n",
       "      <td>-0.203944</td>\n",
       "    </tr>\n",
       "  </tbody>\n",
       "</table>\n",
       "</div>"
      ],
      "text/plain": [
       "        Age      Fare\n",
       "0 -0.343408 -0.489547\n",
       "1  0.196729 -0.203944"
      ]
     },
     "execution_count": 44,
     "metadata": {},
     "output_type": "execute_result"
    }
   ],
   "source": [
    "'''Scale using the training set mean and SD. This is already captured in\n",
    "the scaler object we made. Else, save that in a joblib dump too to reload'''\n",
    "\n",
    "X_con_sct = pd.DataFrame(scaler.transform(X_con_t))\n",
    "X_con_sct.columns = [\"Age\",\"Fare\"]\n",
    "print(X_con_sct.shape)\n",
    "X_con_sct.head(2)\n"
   ]
  },
  {
   "cell_type": "code",
   "execution_count": 45,
   "metadata": {},
   "outputs": [
    {
     "name": "stdout",
     "output_type": "stream",
     "text": [
      "(209, 10) (209, 2)\n"
     ]
    }
   ],
   "source": [
    "print(X_cat_t.shape,X_con_sct.shape)"
   ]
  },
  {
   "cell_type": "code",
   "execution_count": 46,
   "metadata": {},
   "outputs": [],
   "source": [
    "#Re-index before merging\n",
    "X_cat_t.reset_index(inplace = True,drop = False)"
   ]
  },
  {
   "cell_type": "code",
   "execution_count": 47,
   "metadata": {},
   "outputs": [
    {
     "data": {
      "text/html": [
       "<div>\n",
       "<style scoped>\n",
       "    .dataframe tbody tr th:only-of-type {\n",
       "        vertical-align: middle;\n",
       "    }\n",
       "\n",
       "    .dataframe tbody tr th {\n",
       "        vertical-align: top;\n",
       "    }\n",
       "\n",
       "    .dataframe thead th {\n",
       "        text-align: right;\n",
       "    }\n",
       "</style>\n",
       "<table border=\"1\" class=\"dataframe\">\n",
       "  <thead>\n",
       "    <tr style=\"text-align: right;\">\n",
       "      <th></th>\n",
       "      <th>index</th>\n",
       "      <th>PassengerId</th>\n",
       "      <th>Pclass</th>\n",
       "      <th>Name</th>\n",
       "      <th>Sex</th>\n",
       "      <th>SibSp</th>\n",
       "      <th>Parch</th>\n",
       "      <th>Ticket</th>\n",
       "      <th>Embarked</th>\n",
       "      <th>Age_na</th>\n",
       "      <th>Fare_na</th>\n",
       "    </tr>\n",
       "  </thead>\n",
       "  <tbody>\n",
       "    <tr>\n",
       "      <td>0</td>\n",
       "      <td>1100</td>\n",
       "      <td>1101</td>\n",
       "      <td>3</td>\n",
       "      <td>47</td>\n",
       "      <td>2</td>\n",
       "      <td>0</td>\n",
       "      <td>0</td>\n",
       "      <td>106</td>\n",
       "      <td>3</td>\n",
       "      <td>False</td>\n",
       "      <td>False</td>\n",
       "    </tr>\n",
       "    <tr>\n",
       "      <td>1</td>\n",
       "      <td>1101</td>\n",
       "      <td>1102</td>\n",
       "      <td>3</td>\n",
       "      <td>6</td>\n",
       "      <td>2</td>\n",
       "      <td>0</td>\n",
       "      <td>0</td>\n",
       "      <td>146</td>\n",
       "      <td>3</td>\n",
       "      <td>False</td>\n",
       "      <td>False</td>\n",
       "    </tr>\n",
       "    <tr>\n",
       "      <td>2</td>\n",
       "      <td>1102</td>\n",
       "      <td>1103</td>\n",
       "      <td>3</td>\n",
       "      <td>62</td>\n",
       "      <td>2</td>\n",
       "      <td>0</td>\n",
       "      <td>0</td>\n",
       "      <td>187</td>\n",
       "      <td>3</td>\n",
       "      <td>True</td>\n",
       "      <td>False</td>\n",
       "    </tr>\n",
       "    <tr>\n",
       "      <td>3</td>\n",
       "      <td>1103</td>\n",
       "      <td>1104</td>\n",
       "      <td>2</td>\n",
       "      <td>45</td>\n",
       "      <td>2</td>\n",
       "      <td>0</td>\n",
       "      <td>0</td>\n",
       "      <td>179</td>\n",
       "      <td>3</td>\n",
       "      <td>False</td>\n",
       "      <td>False</td>\n",
       "    </tr>\n",
       "    <tr>\n",
       "      <td>4</td>\n",
       "      <td>1104</td>\n",
       "      <td>1105</td>\n",
       "      <td>2</td>\n",
       "      <td>91</td>\n",
       "      <td>1</td>\n",
       "      <td>1</td>\n",
       "      <td>0</td>\n",
       "      <td>38</td>\n",
       "      <td>3</td>\n",
       "      <td>False</td>\n",
       "      <td>False</td>\n",
       "    </tr>\n",
       "  </tbody>\n",
       "</table>\n",
       "</div>"
      ],
      "text/plain": [
       "   index  PassengerId  Pclass  Name  Sex  SibSp  Parch  Ticket  Embarked  \\\n",
       "0   1100         1101       3    47    2      0      0     106         3   \n",
       "1   1101         1102       3     6    2      0      0     146         3   \n",
       "2   1102         1103       3    62    2      0      0     187         3   \n",
       "3   1103         1104       2    45    2      0      0     179         3   \n",
       "4   1104         1105       2    91    1      1      0      38         3   \n",
       "\n",
       "   Age_na  Fare_na  \n",
       "0   False    False  \n",
       "1   False    False  \n",
       "2    True    False  \n",
       "3   False    False  \n",
       "4   False    False  "
      ]
     },
     "execution_count": 47,
     "metadata": {},
     "output_type": "execute_result"
    }
   ],
   "source": [
    "X_cat_t.head()"
   ]
  },
  {
   "cell_type": "code",
   "execution_count": 48,
   "metadata": {},
   "outputs": [
    {
     "name": "stderr",
     "output_type": "stream",
     "text": [
      "C:\\Users\\srush\\Anaconda3\\lib\\site-packages\\pandas\\core\\frame.py:4102: SettingWithCopyWarning: \n",
      "A value is trying to be set on a copy of a slice from a DataFrame\n",
      "\n",
      "See the caveats in the documentation: http://pandas.pydata.org/pandas-docs/stable/user_guide/indexing.html#returning-a-view-versus-a-copy\n",
      "  errors=errors,\n"
     ]
    },
    {
     "data": {
      "text/html": [
       "<div>\n",
       "<style scoped>\n",
       "    .dataframe tbody tr th:only-of-type {\n",
       "        vertical-align: middle;\n",
       "    }\n",
       "\n",
       "    .dataframe tbody tr th {\n",
       "        vertical-align: top;\n",
       "    }\n",
       "\n",
       "    .dataframe thead th {\n",
       "        text-align: right;\n",
       "    }\n",
       "</style>\n",
       "<table border=\"1\" class=\"dataframe\">\n",
       "  <thead>\n",
       "    <tr style=\"text-align: right;\">\n",
       "      <th></th>\n",
       "      <th>PassengerId</th>\n",
       "      <th>Pclass</th>\n",
       "      <th>Name</th>\n",
       "      <th>Sex</th>\n",
       "      <th>SibSp</th>\n",
       "      <th>Parch</th>\n",
       "      <th>Ticket</th>\n",
       "      <th>Embarked</th>\n",
       "      <th>Age_na</th>\n",
       "      <th>Fare_na</th>\n",
       "    </tr>\n",
       "  </thead>\n",
       "  <tbody>\n",
       "    <tr>\n",
       "      <td>0</td>\n",
       "      <td>1101</td>\n",
       "      <td>3</td>\n",
       "      <td>47</td>\n",
       "      <td>2</td>\n",
       "      <td>0</td>\n",
       "      <td>0</td>\n",
       "      <td>106</td>\n",
       "      <td>3</td>\n",
       "      <td>False</td>\n",
       "      <td>False</td>\n",
       "    </tr>\n",
       "    <tr>\n",
       "      <td>1</td>\n",
       "      <td>1102</td>\n",
       "      <td>3</td>\n",
       "      <td>6</td>\n",
       "      <td>2</td>\n",
       "      <td>0</td>\n",
       "      <td>0</td>\n",
       "      <td>146</td>\n",
       "      <td>3</td>\n",
       "      <td>False</td>\n",
       "      <td>False</td>\n",
       "    </tr>\n",
       "  </tbody>\n",
       "</table>\n",
       "</div>"
      ],
      "text/plain": [
       "   PassengerId  Pclass  Name  Sex  SibSp  Parch  Ticket  Embarked  Age_na  \\\n",
       "0         1101       3    47    2      0      0     106         3   False   \n",
       "1         1102       3     6    2      0      0     146         3   False   \n",
       "\n",
       "   Fare_na  \n",
       "0    False  \n",
       "1    False  "
      ]
     },
     "execution_count": 48,
     "metadata": {},
     "output_type": "execute_result"
    }
   ],
   "source": [
    "X_cat_t.drop(\"index\",inplace = True,axis = 1)\n",
    "X_cat_t.head(2)"
   ]
  },
  {
   "cell_type": "code",
   "execution_count": 49,
   "metadata": {},
   "outputs": [
    {
     "name": "stdout",
     "output_type": "stream",
     "text": [
      "(209, 12)\n"
     ]
    },
    {
     "data": {
      "text/html": [
       "<div>\n",
       "<style scoped>\n",
       "    .dataframe tbody tr th:only-of-type {\n",
       "        vertical-align: middle;\n",
       "    }\n",
       "\n",
       "    .dataframe tbody tr th {\n",
       "        vertical-align: top;\n",
       "    }\n",
       "\n",
       "    .dataframe thead th {\n",
       "        text-align: right;\n",
       "    }\n",
       "</style>\n",
       "<table border=\"1\" class=\"dataframe\">\n",
       "  <thead>\n",
       "    <tr style=\"text-align: right;\">\n",
       "      <th></th>\n",
       "      <th>PassengerId</th>\n",
       "      <th>Pclass</th>\n",
       "      <th>Name</th>\n",
       "      <th>Sex</th>\n",
       "      <th>SibSp</th>\n",
       "      <th>Parch</th>\n",
       "      <th>Ticket</th>\n",
       "      <th>Embarked</th>\n",
       "      <th>Age_na</th>\n",
       "      <th>Fare_na</th>\n",
       "      <th>Age</th>\n",
       "      <th>Fare</th>\n",
       "    </tr>\n",
       "  </thead>\n",
       "  <tbody>\n",
       "    <tr>\n",
       "      <td>0</td>\n",
       "      <td>1101</td>\n",
       "      <td>3</td>\n",
       "      <td>47</td>\n",
       "      <td>2</td>\n",
       "      <td>0</td>\n",
       "      <td>0</td>\n",
       "      <td>106</td>\n",
       "      <td>3</td>\n",
       "      <td>False</td>\n",
       "      <td>False</td>\n",
       "      <td>-0.343408</td>\n",
       "      <td>-0.489547</td>\n",
       "    </tr>\n",
       "    <tr>\n",
       "      <td>1</td>\n",
       "      <td>1102</td>\n",
       "      <td>3</td>\n",
       "      <td>6</td>\n",
       "      <td>2</td>\n",
       "      <td>0</td>\n",
       "      <td>0</td>\n",
       "      <td>146</td>\n",
       "      <td>3</td>\n",
       "      <td>False</td>\n",
       "      <td>False</td>\n",
       "      <td>0.196729</td>\n",
       "      <td>-0.203944</td>\n",
       "    </tr>\n",
       "  </tbody>\n",
       "</table>\n",
       "</div>"
      ],
      "text/plain": [
       "   PassengerId  Pclass  Name  Sex  SibSp  Parch  Ticket  Embarked  Age_na  \\\n",
       "0         1101       3    47    2      0      0     106         3   False   \n",
       "1         1102       3     6    2      0      0     146         3   False   \n",
       "\n",
       "   Fare_na       Age      Fare  \n",
       "0    False -0.343408 -0.489547  \n",
       "1    False  0.196729 -0.203944  "
      ]
     },
     "execution_count": 49,
     "metadata": {},
     "output_type": "execute_result"
    }
   ],
   "source": [
    "#Merge the two sets of columns\n",
    "df_list_I = [X_cat_t,X_con_sct]\n",
    "X_test_I = pd.concat(df_list_I,axis = 1)\n",
    "print(X_test_I.shape)\n",
    "X_test_I.head(2)"
   ]
  },
  {
   "cell_type": "code",
   "execution_count": 50,
   "metadata": {},
   "outputs": [],
   "source": [
    "#Now we are ready to test it out. Let's load the saved model first.\n",
    "kNN_loaded = joblib.load(f'{my_path}/knn_model/knn_model_final.sav')"
   ]
  },
  {
   "cell_type": "code",
   "execution_count": 51,
   "metadata": {},
   "outputs": [],
   "source": [
    "#Testing...\n",
    "Y_test_pred = kNN_loaded.predict(X_test_I)"
   ]
  },
  {
   "cell_type": "code",
   "execution_count": 52,
   "metadata": {},
   "outputs": [
    {
     "name": "stdout",
     "output_type": "stream",
     "text": [
      "0.5550239234449761 -0.08631961956314592 0.0\n"
     ]
    }
   ],
   "source": [
    "print(accuracy_score(Y_t,Y_test_pred),\n",
    "      matthews_corrcoef(Y_t,Y_test_pred),f1_score(Y_t,Y_test_pred))"
   ]
  },
  {
   "cell_type": "code",
   "execution_count": 53,
   "metadata": {},
   "outputs": [
    {
     "name": "stdout",
     "output_type": "stream",
     "text": [
      "              precision    recall  f1-score   support\n",
      "\n",
      "           0       0.56      0.98      0.71       118\n",
      "           1       0.00      0.00      0.00        91\n",
      "\n",
      "    accuracy                           0.56       209\n",
      "   macro avg       0.28      0.49      0.36       209\n",
      "weighted avg       0.32      0.56      0.40       209\n",
      "\n"
     ]
    }
   ],
   "source": [
    "scores = classification_report(Y_t,Y_test_pred)\n",
    "print(scores)"
   ]
  },
  {
   "cell_type": "markdown",
   "metadata": {},
   "source": [
    "<a href=\"#Table-of-contents\"><h5 class=\"text-center\">Go to top</h5></a>"
   ]
  },
  {
   "cell_type": "markdown",
   "metadata": {},
   "source": [
    "___"
   ]
  },
  {
   "cell_type": "markdown",
   "metadata": {},
   "source": [
    "# Receiver Operating Characteristic (ROC) and Area Under the Curve (AUC)"
   ]
  },
  {
   "cell_type": "code",
   "execution_count": 54,
   "metadata": {},
   "outputs": [],
   "source": [
    "rec, fall_out, thresholds = roc_curve(Y_t,Y_test_pred)"
   ]
  },
  {
   "cell_type": "code",
   "execution_count": 55,
   "metadata": {},
   "outputs": [
    {
     "data": {
      "image/png": "[encoded data removed]",
      "text/plain": [
       "<Figure size 432x288 with 1 Axes>"
      ]
     },
     "metadata": {
      "needs_background": "light"
     },
     "output_type": "display_data"
    }
   ],
   "source": [
    "plt.plot([0,1],[0,1],'k--')\n",
    "plt.plot(rec,fall_out, label='Knn')\n",
    "plt.xlabel('Fall out')\n",
    "plt.ylabel('Recall/Sensitivity')\n",
    "plt.title('Knn(n_neighbors=39) ROC curve')\n",
    "plt.show()"
   ]
  },
  {
   "cell_type": "code",
   "execution_count": 56,
   "metadata": {},
   "outputs": [
    {
     "data": {
      "text/plain": [
       "0.4915254237288136"
      ]
     },
     "execution_count": 56,
     "metadata": {},
     "output_type": "execute_result"
    }
   ],
   "source": [
    "#Area under ROC curve\n",
    "roc_auc_score(Y_t,Y_test_pred)"
   ]
  },
  {
   "cell_type": "code",
   "execution_count": 57,
   "metadata": {},
   "outputs": [
    {
     "name": "stdout",
     "output_type": "stream",
     "text": [
      "(1100, 13)\n",
      "(209, 13)\n"
     ]
    }
   ],
   "source": [
    "'''Write out full train_valid and test dataframes for later use in module.'''\n",
    "X_full[\"Survived\"] = Y\n",
    "X_test_I[\"Survived\"] = Y_t\n",
    "\n",
    "print(X_full.shape)\n",
    "print(X_test_I.shape)"
   ]
  },
  {
   "cell_type": "markdown",
   "metadata": {},
   "source": [
    "<a href=\"#Table-of-contents\"><h5 class=\"text-center\">Go to top</h5></a>"
   ]
  },
  {
   "cell_type": "markdown",
   "metadata": {},
   "source": [
    "___"
   ]
  },
  {
   "cell_type": "markdown",
   "metadata": {},
   "source": [
    "# Question 2: \n",
    "#### What do you think some of the disadvantages of k-NN algorithm are?"
   ]
  },
  {
   "cell_type": "markdown",
   "metadata": {},
   "source": [
    "  **1. K-NN slow algorithm:** K-NN might be very easy to implement but as dataset grows efficiency or speed of algorithm declines very fast. In large datasets, the cost of calculating the distance between the new point and each existing points is huge which degrades the performance of the algorithm.\n",
    "  \n",
    "  **2. Curse of Dimensionality:** KNN works well with small number of input variables but as the numbers of variables grow K-NN algorithm struggles to predict the output of new data point.\n",
    "    \n",
    "   **3. K-NN needs homogeneous features:** If you decide to build k-NN using a common distance, like Euclidean or Manhattan distances, it is completely necessary that features have the same scale, since absolute differences in features weight the same, i.e., a given distance in feature 1 must means the same for feature 2.\n",
    "    \n",
    "   **4. Optimal number of neighbors:** One of the biggest issues with K-NN is to choose the optimal number of neighbors to be consider while classifying the new data entry.\n",
    "    \n",
    "   **5. Imbalanced data causes problems:** k-NN doesn’t perform well on imbalanced data. If we consider two classes, A and B, and the majority of the training data is labeled as A, then the model will ultimately give a lot of preference to A. This might result in getting the less common class B wrongly classified.\n",
    "    \n",
    "   **6. Outlier sensitivity:** K-NN algorithm is very sensitive to outliers as it simply chose the neighbors based on distance criteria.  We need to manually impute missing values and remove outliers.\n",
    "   \n",
    "   **7. Missing Value treatment:** K-NN inherently has no capability of dealing with missing value problem.\n",
    "   \n",
    "   **8.Need feature scaling:** We need to do feature scaling (standardization and normalization) before applying KNN algorithm to any dataset. If we don't do so, KNN may generate wrong prediction."
   ]
  },
  {
   "cell_type": "markdown",
   "metadata": {},
   "source": [
    "<a href=\"#Table-of-contents\"><h5 class=\"text-center\">Go to top</h5></a>"
   ]
  },
  {
   "cell_type": "markdown",
   "metadata": {},
   "source": [
    "___"
   ]
  }
 ],
 "metadata": {
  "kernelspec": {
   "display_name": "Python 3",
   "language": "python",
   "name": "python3"
  },
  "language_info": {
   "codemirror_mode": {
    "name": "ipython",
    "version": 3
   },
   "file_extension": ".py",
   "mimetype": "text/x-python",
   "name": "python",
   "nbconvert_exporter": "python",
   "pygments_lexer": "ipython3",
   "version": "3.7.4"
  }
 },
 "nbformat": 4,
 "nbformat_minor": 2
}
