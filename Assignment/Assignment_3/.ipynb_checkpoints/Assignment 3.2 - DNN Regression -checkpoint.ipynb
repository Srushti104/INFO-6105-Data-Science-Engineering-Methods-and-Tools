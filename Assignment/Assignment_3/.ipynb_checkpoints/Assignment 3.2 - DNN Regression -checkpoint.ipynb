{
 "cells": [
  {
   "cell_type": "markdown",
   "metadata": {
    "cell_style": "center"
   },
   "source": [
    "<h1 style=\"text-align:center;\">Assignment 3.2</h1><br>\n",
    "<div class=\"alert alert-block alert-info\" style=\"text-align:left;\">\n",
    "    <h3 style=\"text-align:left;\"> Part 2: Expand the basic code for building a DNN on the Black Friday Dataset to include:</h3>\n",
    "        <ol style=\"list-style: lower-latin;\">\n",
    "            <li>Pre-process the data by scaling/standardizing the 8 columns.</li>\n",
    "            <br>\n",
    "            <li>Split the entire dataset into three parts instead of two as we currently do. One is train, two is validation, and then a test set. Build DNN model with train data, tune hyper-parameters with validation data, and finally evaluate performance on the test data.</li>\n",
    "            <br>\n",
    "            <li>Make Epoch versus train set RMSE, and validation set RMSE</li> \n",
    "            <br>\n",
    "            <li>It’s a regression problem and we need only one neuron in the final layer! Implementing all the above steps.\n",
    "            <br>\n",
    "            <br>\n",
    "            <li>Source: \n",
    "                <a href=\"https://www.kaggle.com/sdolezel/black-friday\"> https://www.kaggle.com/sdolezel/black-friday</a>\n",
    "            </li>\n",
    "    </ol>\n",
    "</div>"
   ]
  },
  {
   "cell_type": "markdown",
   "metadata": {},
   "source": [
    "## Table of Contents:"
   ]
  },
  {
   "cell_type": "markdown",
   "metadata": {},
   "source": [
    "1. [Imports and Configuration](#1.-Imports-and-Configuration)\n",
    "2. [Reading Data into Notebook](#2.-Reading-Data-into-Notebook)\n",
    "3. [Visualise the Dataset](#3.-Visualise-the-Dataset)\n",
    "4. [Data Correlation Matrix](#4.-Data-Correlation-Matrix)\n",
    "5. [Data Cleaning and Transformation](#5.-Data-Cleaning-and-Transformation)\n",
    "6. [Train - Valid - Test Split](#6.-Train---Valid---Test-Split) \n",
    "7. [Scaling - Standardization](#7.-Scaling---Standardization)\n",
    "8. [Building a DNN Model](#8.-Building-a-DNN-Model)\n",
    "9. [Epoch Vs Training Accuracy, Validation Accuracy](#9.-Epoch-Vs-Training-Accuracy,-Validation-Accuracy)\n",
    "10. [Conclusion](#10.-Conclusion)"
   ]
  },
  {
   "cell_type": "markdown",
   "metadata": {},
   "source": [
    "---"
   ]
  },
  {
   "cell_type": "markdown",
   "metadata": {},
   "source": [
    "<h4>Description: Predicting Prices for the products to be sold on Black Friday in US using Regression Analysis, Feature Engineering, Feature Selection, Feature Extraction and Data analysis - Data Visualizations. </h4>\n",
    "<ul>\n",
    "    <li>The dataset has 550,069 rows and 12 columns.</li>\n",
    "    <li>The dataset here is a sample of the transactions made in a retail store.</li>\n",
    "    <li>The store wants to know better the customer purchase behaviour against different products.</li>\n",
    "    <li>Specifically, here the problem is a regression problem where we are trying to predict the dependent variable (the amount of purchase) with the help of the information contained in the other variables.\n"
   ]
  },
  {
   "cell_type": "markdown",
   "metadata": {},
   "source": [
    "![alt text](DataSet/Black_Friday_Column_details.png \"Analytics Vidya Dataset\")"
   ]
  },
  {
   "cell_type": "markdown",
   "metadata": {},
   "source": [
    "---"
   ]
  },
  {
   "cell_type": "code",
   "execution_count": 1,
   "metadata": {},
   "outputs": [
    {
     "data": {
      "text/html": [
       "\n",
       "<style>\n",
       ".output_png {\n",
       "    display: table-cell;\n",
       "    text-align: center;\n",
       "    vertical-align: middle;\n",
       "}\n",
       "</style>\n"
      ],
      "text/plain": [
       "<IPython.core.display.HTML object>"
      ]
     },
     "execution_count": 1,
     "metadata": {},
     "output_type": "execute_result"
    }
   ],
   "source": [
    "'''Below code is used to cente the output plots to center. \n",
    "Refrerence: https://stackoverflow.com/questions/18380168/center-output-plots-in-the-notebook'''\n",
    "\n",
    "from IPython.core.display import HTML\n",
    "HTML(\"\"\"\n",
    "<style>\n",
    ".output_png {\n",
    "    display: table-cell;\n",
    "    text-align: center;\n",
    "    vertical-align: middle;\n",
    "}\n",
    "</style>\n",
    "\"\"\")"
   ]
  },
  {
   "cell_type": "markdown",
   "metadata": {},
   "source": [
    "[Scroll Top](#Assignment-3.2)"
   ]
  },
  {
   "cell_type": "markdown",
   "metadata": {},
   "source": [
    "---"
   ]
  },
  {
   "cell_type": "markdown",
   "metadata": {},
   "source": [
    "## 1. Imports and Configuration"
   ]
  },
  {
   "cell_type": "code",
   "execution_count": 2,
   "metadata": {},
   "outputs": [],
   "source": [
    "import seaborn as sns\n",
    "import numpy as np\n",
    "import pandas as pd\n",
    "import tensorflow as tf\n",
    "import seaborn as sns\n",
    "import matplotlib.pyplot as plt\n",
    "from sklearn.model_selection import train_test_split\n",
    "from sklearn.preprocessing import StandardScaler\n",
    "from sklearn.metrics import confusion_matrix,classification_report\n",
    "from sklearn import preprocessing\n",
    "import keras\n",
    "from keras.datasets import mnist\n",
    "from keras.models import Sequential\n",
    "from keras.optimizers import SGD\n",
    "from keras.layers import Dense, Dropout, Activation, Embedding, Flatten, LeakyReLU, BatchNormalization\n",
    "from keras.callbacks import ModelCheckpoint\n",
    "from keras.utils import plot_model\n",
    "from keras.wrappers.scikit_learn import KerasRegressor\n",
    "from sklearn.model_selection import GridSearchCV\n",
    "from keras.activations import relu, sigmoid\n",
    "from keras import callbacks \n",
    "\n",
    "%matplotlib inline"
   ]
  },
  {
   "cell_type": "code",
   "execution_count": 3,
   "metadata": {},
   "outputs": [
    {
     "data": {
      "text/plain": [
       "'C:\\\\Users\\\\srush\\\\Documents\\\\Srushti NEU\\\\Full Summer 2020\\\\INFO 6105 Data Science Engineering Methods and Tools\\\\Assignment\\\\Assignment 3'"
      ]
     },
     "execution_count": 3,
     "metadata": {},
     "output_type": "execute_result"
    }
   ],
   "source": [
    "%pwd"
   ]
  },
  {
   "cell_type": "code",
   "execution_count": 4,
   "metadata": {},
   "outputs": [
    {
     "name": "stdout",
     "output_type": "stream",
     "text": [
      "Assignment 3.1 - DNN Classification.ipynb\n",
      "Assignment 3.2 - DNN Regression .ipynb\n",
      "DataSet\n"
     ]
    }
   ],
   "source": [
    "!ls"
   ]
  },
  {
   "cell_type": "code",
   "execution_count": 5,
   "metadata": {},
   "outputs": [],
   "source": [
    "#Define a variable that points to this. This will let you avoid typing the long path everytime you need to use it\n",
    "my_path = 'C:\\\\Users\\\\srush\\\\Documents\\\\Srushti NEU\\\\Full Summer 2020\\\\INFO 6105 Data Science Engineering Methods and Tools\\\\Assignment\\\\Assignment 3'"
   ]
  },
  {
   "cell_type": "markdown",
   "metadata": {},
   "source": [
    "[Scroll Top](#Assignment-3.2)"
   ]
  },
  {
   "cell_type": "markdown",
   "metadata": {},
   "source": [
    "---"
   ]
  },
  {
   "cell_type": "markdown",
   "metadata": {},
   "source": [
    "## 2. Reading Data into Notebook"
   ]
  },
  {
   "cell_type": "code",
   "execution_count": 6,
   "metadata": {},
   "outputs": [
    {
     "name": "stdout",
     "output_type": "stream",
     "text": [
      "(550068, 12)\n"
     ]
    },
    {
     "data": {
      "text/html": [
       "<div>\n",
       "<style scoped>\n",
       "    .dataframe tbody tr th:only-of-type {\n",
       "        vertical-align: middle;\n",
       "    }\n",
       "\n",
       "    .dataframe tbody tr th {\n",
       "        vertical-align: top;\n",
       "    }\n",
       "\n",
       "    .dataframe thead th {\n",
       "        text-align: right;\n",
       "    }\n",
       "</style>\n",
       "<table border=\"1\" class=\"dataframe\">\n",
       "  <thead>\n",
       "    <tr style=\"text-align: right;\">\n",
       "      <th></th>\n",
       "      <th>User_ID</th>\n",
       "      <th>Product_ID</th>\n",
       "      <th>Gender</th>\n",
       "      <th>Age</th>\n",
       "      <th>Occupation</th>\n",
       "      <th>City_Category</th>\n",
       "      <th>Stay_In_Current_City_Years</th>\n",
       "      <th>Marital_Status</th>\n",
       "      <th>Product_Category_1</th>\n",
       "      <th>Product_Category_2</th>\n",
       "      <th>Product_Category_3</th>\n",
       "      <th>Purchase</th>\n",
       "    </tr>\n",
       "  </thead>\n",
       "  <tbody>\n",
       "    <tr>\n",
       "      <td>0</td>\n",
       "      <td>1000001</td>\n",
       "      <td>P00069042</td>\n",
       "      <td>F</td>\n",
       "      <td>0-17</td>\n",
       "      <td>10</td>\n",
       "      <td>A</td>\n",
       "      <td>2</td>\n",
       "      <td>0</td>\n",
       "      <td>3</td>\n",
       "      <td>NaN</td>\n",
       "      <td>NaN</td>\n",
       "      <td>8370</td>\n",
       "    </tr>\n",
       "    <tr>\n",
       "      <td>1</td>\n",
       "      <td>1000001</td>\n",
       "      <td>P00248942</td>\n",
       "      <td>F</td>\n",
       "      <td>0-17</td>\n",
       "      <td>10</td>\n",
       "      <td>A</td>\n",
       "      <td>2</td>\n",
       "      <td>0</td>\n",
       "      <td>1</td>\n",
       "      <td>6.0</td>\n",
       "      <td>14.0</td>\n",
       "      <td>15200</td>\n",
       "    </tr>\n",
       "    <tr>\n",
       "      <td>2</td>\n",
       "      <td>1000001</td>\n",
       "      <td>P00087842</td>\n",
       "      <td>F</td>\n",
       "      <td>0-17</td>\n",
       "      <td>10</td>\n",
       "      <td>A</td>\n",
       "      <td>2</td>\n",
       "      <td>0</td>\n",
       "      <td>12</td>\n",
       "      <td>NaN</td>\n",
       "      <td>NaN</td>\n",
       "      <td>1422</td>\n",
       "    </tr>\n",
       "    <tr>\n",
       "      <td>3</td>\n",
       "      <td>1000001</td>\n",
       "      <td>P00085442</td>\n",
       "      <td>F</td>\n",
       "      <td>0-17</td>\n",
       "      <td>10</td>\n",
       "      <td>A</td>\n",
       "      <td>2</td>\n",
       "      <td>0</td>\n",
       "      <td>12</td>\n",
       "      <td>14.0</td>\n",
       "      <td>NaN</td>\n",
       "      <td>1057</td>\n",
       "    </tr>\n",
       "    <tr>\n",
       "      <td>4</td>\n",
       "      <td>1000002</td>\n",
       "      <td>P00285442</td>\n",
       "      <td>M</td>\n",
       "      <td>55+</td>\n",
       "      <td>16</td>\n",
       "      <td>C</td>\n",
       "      <td>4+</td>\n",
       "      <td>0</td>\n",
       "      <td>8</td>\n",
       "      <td>NaN</td>\n",
       "      <td>NaN</td>\n",
       "      <td>7969</td>\n",
       "    </tr>\n",
       "    <tr>\n",
       "      <td>5</td>\n",
       "      <td>1000003</td>\n",
       "      <td>P00193542</td>\n",
       "      <td>M</td>\n",
       "      <td>26-35</td>\n",
       "      <td>15</td>\n",
       "      <td>A</td>\n",
       "      <td>3</td>\n",
       "      <td>0</td>\n",
       "      <td>1</td>\n",
       "      <td>2.0</td>\n",
       "      <td>NaN</td>\n",
       "      <td>15227</td>\n",
       "    </tr>\n",
       "    <tr>\n",
       "      <td>6</td>\n",
       "      <td>1000004</td>\n",
       "      <td>P00184942</td>\n",
       "      <td>M</td>\n",
       "      <td>46-50</td>\n",
       "      <td>7</td>\n",
       "      <td>B</td>\n",
       "      <td>2</td>\n",
       "      <td>1</td>\n",
       "      <td>1</td>\n",
       "      <td>8.0</td>\n",
       "      <td>17.0</td>\n",
       "      <td>19215</td>\n",
       "    </tr>\n",
       "    <tr>\n",
       "      <td>7</td>\n",
       "      <td>1000004</td>\n",
       "      <td>P00346142</td>\n",
       "      <td>M</td>\n",
       "      <td>46-50</td>\n",
       "      <td>7</td>\n",
       "      <td>B</td>\n",
       "      <td>2</td>\n",
       "      <td>1</td>\n",
       "      <td>1</td>\n",
       "      <td>15.0</td>\n",
       "      <td>NaN</td>\n",
       "      <td>15854</td>\n",
       "    </tr>\n",
       "    <tr>\n",
       "      <td>8</td>\n",
       "      <td>1000004</td>\n",
       "      <td>P0097242</td>\n",
       "      <td>M</td>\n",
       "      <td>46-50</td>\n",
       "      <td>7</td>\n",
       "      <td>B</td>\n",
       "      <td>2</td>\n",
       "      <td>1</td>\n",
       "      <td>1</td>\n",
       "      <td>16.0</td>\n",
       "      <td>NaN</td>\n",
       "      <td>15686</td>\n",
       "    </tr>\n",
       "    <tr>\n",
       "      <td>9</td>\n",
       "      <td>1000005</td>\n",
       "      <td>P00274942</td>\n",
       "      <td>M</td>\n",
       "      <td>26-35</td>\n",
       "      <td>20</td>\n",
       "      <td>A</td>\n",
       "      <td>1</td>\n",
       "      <td>1</td>\n",
       "      <td>8</td>\n",
       "      <td>NaN</td>\n",
       "      <td>NaN</td>\n",
       "      <td>7871</td>\n",
       "    </tr>\n",
       "  </tbody>\n",
       "</table>\n",
       "</div>"
      ],
      "text/plain": [
       "   User_ID Product_ID Gender    Age  Occupation City_Category  \\\n",
       "0  1000001  P00069042      F   0-17          10             A   \n",
       "1  1000001  P00248942      F   0-17          10             A   \n",
       "2  1000001  P00087842      F   0-17          10             A   \n",
       "3  1000001  P00085442      F   0-17          10             A   \n",
       "4  1000002  P00285442      M    55+          16             C   \n",
       "5  1000003  P00193542      M  26-35          15             A   \n",
       "6  1000004  P00184942      M  46-50           7             B   \n",
       "7  1000004  P00346142      M  46-50           7             B   \n",
       "8  1000004   P0097242      M  46-50           7             B   \n",
       "9  1000005  P00274942      M  26-35          20             A   \n",
       "\n",
       "  Stay_In_Current_City_Years  Marital_Status  Product_Category_1  \\\n",
       "0                          2               0                   3   \n",
       "1                          2               0                   1   \n",
       "2                          2               0                  12   \n",
       "3                          2               0                  12   \n",
       "4                         4+               0                   8   \n",
       "5                          3               0                   1   \n",
       "6                          2               1                   1   \n",
       "7                          2               1                   1   \n",
       "8                          2               1                   1   \n",
       "9                          1               1                   8   \n",
       "\n",
       "   Product_Category_2  Product_Category_3  Purchase  \n",
       "0                 NaN                 NaN      8370  \n",
       "1                 6.0                14.0     15200  \n",
       "2                 NaN                 NaN      1422  \n",
       "3                14.0                 NaN      1057  \n",
       "4                 NaN                 NaN      7969  \n",
       "5                 2.0                 NaN     15227  \n",
       "6                 8.0                17.0     19215  \n",
       "7                15.0                 NaN     15854  \n",
       "8                16.0                 NaN     15686  \n",
       "9                 NaN                 NaN      7871  "
      ]
     },
     "execution_count": 6,
     "metadata": {},
     "output_type": "execute_result"
    }
   ],
   "source": [
    "# We read the data from the CSV file\n",
    "# We placed the dataset under datasets/ sub folder\n",
    "df_train = pd.read_csv(f'{my_path}/DataSet/Black Friday_train.csv')\n",
    "df_test = pd.read_csv(f'{my_path}/DataSet/Black Friday_test.csv')\n",
    "\n",
    "# Check the shape of the data: we have 768 rows and 9 columns: the first 8 columns are features while the last one\n",
    "# is the supervised label (1 = has diabetes, 0 = no diabetes)\n",
    "print(df_train.shape)\n",
    "\n",
    "# Visualise a table with the first rows of the dataset, to better understand the data format\n",
    "df_train.head(10)"
   ]
  },
  {
   "cell_type": "code",
   "execution_count": 7,
   "metadata": {},
   "outputs": [
    {
     "name": "stdout",
     "output_type": "stream",
     "text": [
      "(233599, 11)\n"
     ]
    }
   ],
   "source": [
    "print(df_test.shape)"
   ]
  },
  {
   "cell_type": "code",
   "execution_count": 8,
   "metadata": {
    "scrolled": true
   },
   "outputs": [
    {
     "name": "stdout",
     "output_type": "stream",
     "text": [
      "<class 'pandas.core.frame.DataFrame'>\n",
      "RangeIndex: 550068 entries, 0 to 550067\n",
      "Data columns (total 12 columns):\n",
      "User_ID                       550068 non-null int64\n",
      "Product_ID                    550068 non-null object\n",
      "Gender                        550068 non-null object\n",
      "Age                           550068 non-null object\n",
      "Occupation                    550068 non-null int64\n",
      "City_Category                 550068 non-null object\n",
      "Stay_In_Current_City_Years    550068 non-null object\n",
      "Marital_Status                550068 non-null int64\n",
      "Product_Category_1            550068 non-null int64\n",
      "Product_Category_2            376430 non-null float64\n",
      "Product_Category_3            166821 non-null float64\n",
      "Purchase                      550068 non-null int64\n",
      "dtypes: float64(2), int64(5), object(5)\n",
      "memory usage: 50.4+ MB\n"
     ]
    }
   ],
   "source": [
    "df_train.info()"
   ]
  },
  {
   "cell_type": "code",
   "execution_count": 9,
   "metadata": {},
   "outputs": [
    {
     "name": "stdout",
     "output_type": "stream",
     "text": [
      "<class 'pandas.core.frame.DataFrame'>\n",
      "RangeIndex: 233599 entries, 0 to 233598\n",
      "Data columns (total 11 columns):\n",
      "User_ID                       233599 non-null int64\n",
      "Product_ID                    233599 non-null object\n",
      "Gender                        233599 non-null object\n",
      "Age                           233599 non-null object\n",
      "Occupation                    233599 non-null int64\n",
      "City_Category                 233599 non-null object\n",
      "Stay_In_Current_City_Years    233599 non-null object\n",
      "Marital_Status                233599 non-null int64\n",
      "Product_Category_1            233599 non-null int64\n",
      "Product_Category_2            161255 non-null float64\n",
      "Product_Category_3            71037 non-null float64\n",
      "dtypes: float64(2), int64(4), object(5)\n",
      "memory usage: 19.6+ MB\n"
     ]
    }
   ],
   "source": [
    "df_test.info()"
   ]
  },
  {
   "cell_type": "code",
   "execution_count": 10,
   "metadata": {},
   "outputs": [
    {
     "data": {
      "text/plain": [
       "True"
      ]
     },
     "execution_count": 10,
     "metadata": {},
     "output_type": "execute_result"
    }
   ],
   "source": [
    "df_train.isnull().values.any()"
   ]
  },
  {
   "cell_type": "code",
   "execution_count": 11,
   "metadata": {},
   "outputs": [
    {
     "data": {
      "text/plain": [
       "User_ID                         0.0 %\n",
       "Product_ID                      0.0 %\n",
       "Gender                          0.0 %\n",
       "Age                             0.0 %\n",
       "Occupation                      0.0 %\n",
       "City_Category                   0.0 %\n",
       "Stay_In_Current_City_Years      0.0 %\n",
       "Marital_Status                  0.0 %\n",
       "Product_Category_1              0.0 %\n",
       "Product_Category_2            31.57 %\n",
       "Product_Category_3            69.67 %\n",
       "Purchase                        0.0 %\n",
       "dtype: object"
      ]
     },
     "execution_count": 11,
     "metadata": {},
     "output_type": "execute_result"
    }
   ],
   "source": [
    "# Checking for Null values\n",
    "round((df_train.isnull().sum() / df_train.shape[0]) * 100, 2).astype(str) + ' %'"
   ]
  },
  {
   "cell_type": "code",
   "execution_count": 12,
   "metadata": {},
   "outputs": [
    {
     "data": {
      "text/plain": [
       "User_ID                         0.0 %\n",
       "Product_ID                      0.0 %\n",
       "Gender                          0.0 %\n",
       "Age                             0.0 %\n",
       "Occupation                      0.0 %\n",
       "City_Category                   0.0 %\n",
       "Stay_In_Current_City_Years      0.0 %\n",
       "Marital_Status                  0.0 %\n",
       "Product_Category_1              0.0 %\n",
       "Product_Category_2            30.97 %\n",
       "Product_Category_3            69.59 %\n",
       "dtype: object"
      ]
     },
     "execution_count": 12,
     "metadata": {},
     "output_type": "execute_result"
    }
   ],
   "source": [
    "# Checking for Null values\n",
    "round((df_test.isnull().sum() / df_test.shape[0]) * 100, 2).astype(str) + ' %'"
   ]
  },
  {
   "cell_type": "markdown",
   "metadata": {},
   "source": [
    "[Scroll Top](#Assignment-3.2)"
   ]
  },
  {
   "cell_type": "markdown",
   "metadata": {},
   "source": [
    "---"
   ]
  },
  {
   "cell_type": "markdown",
   "metadata": {},
   "source": [
    "## 3. Visualise the Dataset"
   ]
  },
  {
   "cell_type": "markdown",
   "metadata": {},
   "source": [
    "### 1. Gender and Age"
   ]
  },
  {
   "cell_type": "code",
   "execution_count": 13,
   "metadata": {
    "cell_style": "center"
   },
   "outputs": [
    {
     "data": {
      "text/plain": [
       "<matplotlib.axes._subplots.AxesSubplot at 0x264433b5088>"
      ]
     },
     "execution_count": 13,
     "metadata": {},
     "output_type": "execute_result"
    },
    {
     "data": {
      "image/png": "[encoded data removed]",
      "text/plain": [
       "<Figure size 720x360 with 1 Axes>"
      ]
     },
     "metadata": {},
     "output_type": "display_data"
    }
   ],
   "source": [
    "plt.figure(figsize=(10, 5))\n",
    "df_train[\"Gender\"].value_counts().plot.pie(explode=(0.03, 0.03), \n",
    "            labels=[\"Male\", \"Female\"], \n",
    "            autopct=\"%1.1f%%\", shadow=True, \n",
    "            colors=[(102/255, 179/255, 1, 1), (255/255, 102/255, 102/255, 1)])"
   ]
  },
  {
   "cell_type": "code",
   "execution_count": 14,
   "metadata": {},
   "outputs": [
    {
     "data": {
      "image/png": "[encoded data removed]",
      "text/plain": [
       "<Figure size 216x432 with 1 Axes>"
      ]
     },
     "metadata": {
      "needs_background": "light"
     },
     "output_type": "display_data"
    }
   ],
   "source": [
    "plt.figure(figsize=(3, 6))\n",
    "gender = df_train[['Gender', 'Purchase']].groupby('Gender', as_index=False).agg('mean')\n",
    "sns.barplot(x='Gender', y='Purchase', data=gender)\n",
    "plt.ylabel('')\n",
    "plt.xlabel('')\n",
    "for spine in plt.gca().spines.values():\n",
    "    spine.set_visible(False)\n",
    "plt.title('Mean purchase amount by gender', size=14)\n",
    "plt.show()"
   ]
  },
  {
   "cell_type": "code",
   "execution_count": 15,
   "metadata": {},
   "outputs": [
    {
     "data": {
      "image/png": "[encoded data removed]",
      "text/plain": [
       "<Figure size 864x432 with 2 Axes>"
      ]
     },
     "metadata": {},
     "output_type": "display_data"
    }
   ],
   "source": [
    "plt.figure(figsize=(12, 6))\n",
    "gender = df_train[['Gender', 'Purchase']].groupby('Gender').agg(['count', 'sum'])\n",
    "params = {\n",
    "    'colors': [ (255/255, 102/255, 102/255, 1), (102/255, 179/255, 1, 1)],\n",
    "    'labels': gender.index.map({'M': 'Male', 'F': 'Female'}),\n",
    "    'autopct': '%1.1f%%',\n",
    "    'startangle': -30, \n",
    "    'textprops': {'fontsize': 15},\n",
    "    'explode': (0.03, 0.03),\n",
    "    'shadow': True\n",
    "}\n",
    "plt.subplot(121)\n",
    "plt.pie(gender['Purchase']['count'], **params)\n",
    "plt.title('Number of transactions', size=17)\n",
    "plt.subplot(122)\n",
    "plt.pie(gender['Purchase']['sum'], **params)\n",
    "plt.title('Sum of purchases', size=17)\n",
    "plt.show()"
   ]
  },
  {
   "cell_type": "code",
   "execution_count": 16,
   "metadata": {},
   "outputs": [
    {
     "data": {
      "image/png": "[encoded data removed]",
      "text/plain": [
       "<Figure size 720x360 with 1 Axes>"
      ]
     },
     "metadata": {
      "needs_background": "light"
     },
     "output_type": "display_data"
    }
   ],
   "source": [
    "plt.figure(figsize=(10, 5))\n",
    "sns.countplot(df_train[\"Age\"], hue=df_train[\"Gender\"])\n",
    "plt.title('Count of different age in dataset grouped by Gender', size=17)\n",
    "plt.xlabel('Age Groups for Gender', size=13)\n",
    "plt.ylabel('Count', size=13)\n",
    "sns.despine()"
   ]
  },
  {
   "cell_type": "code",
   "execution_count": 17,
   "metadata": {},
   "outputs": [
    {
     "data": {
      "text/plain": [
       "Text(0, 0.5, 'Age Group')"
      ]
     },
     "execution_count": 17,
     "metadata": {},
     "output_type": "execute_result"
    },
    {
     "data": {
      "image/png": "[encoded data removed]",
      "text/plain": [
       "<Figure size 864x360 with 1 Axes>"
      ]
     },
     "metadata": {
      "needs_background": "light"
     },
     "output_type": "display_data"
    }
   ],
   "source": [
    "plt.figure(figsize=(12, 5))\n",
    "sns.countplot(y='Age', data=df_train, order=sorted(df_train.Age.unique()))\n",
    "plt.title('Number of transactions by age group', size=14)\n",
    "plt.xlabel('Number of Transactions', size=13)\n",
    "plt.ylabel('Age Group', size=13)"
   ]
  },
  {
   "cell_type": "code",
   "execution_count": 18,
   "metadata": {},
   "outputs": [],
   "source": [
    "# plt.figure(figsize=(12, 5))\n",
    "# df_train.groupby([\"Age\"]).sum()[[\"Purchase\"]].plot.bar(title=\"Age & Purchase\")\n",
    "# plt.xticks(rotation=45)\n",
    "# sns.despine()"
   ]
  },
  {
   "cell_type": "code",
   "execution_count": 19,
   "metadata": {},
   "outputs": [
    {
     "data": {
      "image/png": "[encoded data removed]",
      "text/plain": [
       "<Figure size 864x360 with 1 Axes>"
      ]
     },
     "metadata": {
      "needs_background": "light"
     },
     "output_type": "display_data"
    }
   ],
   "source": [
    "plt.figure(figsize=(12, 5))\n",
    "age_gb = df_train[['Age', 'Purchase']].groupby('Age', as_index=False).agg('mean')\n",
    "sns.barplot(y='Age', x='Purchase', data=age_gb, order=sorted(df_train.Age.unique()))\n",
    "plt.title('Mean purchase amount by age group', size=14)\n",
    "plt.xlabel('Mean purchase' , size=13)\n",
    "plt.ylabel('Age Group' , size=13)\n",
    "plt.show()"
   ]
  },
  {
   "cell_type": "code",
   "execution_count": 20,
   "metadata": {},
   "outputs": [
    {
     "name": "stdout",
     "output_type": "stream",
     "text": [
      "Number of males purchaser =  414259\n",
      "Number of females purchaser =  135809\n"
     ]
    }
   ],
   "source": [
    "malesPurchaserData = df_train.loc[df_train['Gender'] == 'M']\n",
    "print('Number of males purchaser = ',malesPurchaserData.shape[0])\n",
    "\n",
    "femalsPurchaserData = df_train.loc[df_train['Gender'] == 'F']\n",
    "print('Number of females purchaser = ',femalsPurchaserData.shape[0])"
   ]
  },
  {
   "cell_type": "code",
   "execution_count": 21,
   "metadata": {},
   "outputs": [
    {
     "name": "stdout",
     "output_type": "stream",
     "text": [
      "Purchase (mean) for male purchasers =  9437.526040472265\n",
      "Purchase (mean) for female purchasers =  8734.565765155476\n"
     ]
    }
   ],
   "source": [
    "\n",
    "malesPurchaseMean = np.mean(malesPurchaserData['Purchase'])\n",
    "print(\"Purchase (mean) for male purchasers = \",malesPurchaseMean)\n",
    "\n",
    "\n",
    "femalsPurchaseMean = np.mean(femalsPurchaserData['Purchase'])\n",
    "print(\"Purchase (mean) for female purchasers = \",femalsPurchaseMean)"
   ]
  },
  {
   "cell_type": "markdown",
   "metadata": {},
   "source": [
    "[Scroll Top](#Assignment-3.2)"
   ]
  },
  {
   "cell_type": "markdown",
   "metadata": {},
   "source": [
    "---"
   ]
  },
  {
   "cell_type": "markdown",
   "metadata": {},
   "source": [
    "### 2. Occupation"
   ]
  },
  {
   "cell_type": "code",
   "execution_count": 22,
   "metadata": {},
   "outputs": [
    {
     "data": {
      "text/plain": [
       "[0, 1, 2, 3, 4, 5, 6, 7, 8, 9, 10, 11, 12, 13, 14, 15, 16, 17, 18, 19, 20]"
      ]
     },
     "execution_count": 22,
     "metadata": {},
     "output_type": "execute_result"
    }
   ],
   "source": [
    "list(df_train['Occupation'].sort_values().unique())"
   ]
  },
  {
   "cell_type": "code",
   "execution_count": 23,
   "metadata": {},
   "outputs": [
    {
     "name": "stdout",
     "output_type": "stream",
     "text": [
      "Occupation =  0  purchase value (mean) =  9124.428587839973\n",
      "------------------------------------------------------------\n",
      "Occupation =  1  purchase value (mean) =  8953.193269514612\n",
      "------------------------------------------------------------\n",
      "Occupation =  2  purchase value (mean) =  8952.481683466225\n",
      "------------------------------------------------------------\n",
      "Occupation =  3  purchase value (mean) =  9178.593087818697\n",
      "------------------------------------------------------------\n",
      "Occupation =  4  purchase value (mean) =  9213.980251147868\n",
      "------------------------------------------------------------\n",
      "Occupation =  5  purchase value (mean) =  9333.149297856615\n",
      "------------------------------------------------------------\n",
      "Occupation =  6  purchase value (mean) =  9256.535691476296\n",
      "------------------------------------------------------------\n",
      "Occupation =  7  purchase value (mean) =  9425.728222819745\n",
      "------------------------------------------------------------\n",
      "Occupation =  8  purchase value (mean) =  9532.592496765847\n",
      "------------------------------------------------------------\n",
      "Occupation =  9  purchase value (mean) =  8637.74376092831\n",
      "------------------------------------------------------------\n",
      "Occupation =  10  purchase value (mean) =  8959.355375096675\n",
      "------------------------------------------------------------\n",
      "Occupation =  11  purchase value (mean) =  9213.84584843777\n",
      "------------------------------------------------------------\n",
      "Occupation =  12  purchase value (mean) =  9796.640238622149\n",
      "------------------------------------------------------------\n",
      "Occupation =  13  purchase value (mean) =  9306.351061076604\n",
      "------------------------------------------------------------\n",
      "Occupation =  14  purchase value (mean) =  9500.702771979933\n",
      "------------------------------------------------------------\n",
      "Occupation =  15  purchase value (mean) =  9778.891163173037\n",
      "------------------------------------------------------------\n",
      "Occupation =  16  purchase value (mean) =  9394.46434905995\n",
      "------------------------------------------------------------\n",
      "Occupation =  17  purchase value (mean) =  9821.478235896411\n",
      "------------------------------------------------------------\n",
      "Occupation =  18  purchase value (mean) =  9169.655844155845\n",
      "------------------------------------------------------------\n",
      "Occupation =  19  purchase value (mean) =  8710.62723082378\n",
      "------------------------------------------------------------\n",
      "Occupation =  20  purchase value (mean) =  8836.49490495203\n",
      "------------------------------------------------------------\n"
     ]
    }
   ],
   "source": [
    "labels = []\n",
    "values = []\n",
    "\n",
    "for uniqueOccupationValue in df_train['Occupation'].sort_values().unique():\n",
    "    OccPurchaserData = df_train.loc[df_train['Occupation'] == uniqueOccupationValue]\n",
    "    OccPurchaserMean = np.mean(OccPurchaserData['Purchase'])\n",
    "    labels.append(uniqueOccupationValue)\n",
    "    values.append(OccPurchaserMean)\n",
    "    \n",
    "    print(\"Occupation = \",uniqueOccupationValue,\" purchase value (mean) = \",OccPurchaserMean)\n",
    "    print(\"------------------------------------------------------------\")"
   ]
  },
  {
   "cell_type": "code",
   "execution_count": 24,
   "metadata": {},
   "outputs": [
    {
     "data": {
      "image/png": "[encoded data removed]",
      "text/plain": [
       "<Figure size 864x360 with 1 Axes>"
      ]
     },
     "metadata": {
      "needs_background": "light"
     },
     "output_type": "display_data"
    }
   ],
   "source": [
    "plt.figure(figsize=(12, 5))\n",
    "plt.bar(labels, values, width=.9, facecolor='r', edgecolor='w',alpha=.7)\n",
    "plt.title(\"Average purchase vs Occupation\", size=14)\n",
    "plt.xlabel('Average purchase', size=13)\n",
    "plt.ylabel('Occupation', size=13)         \n",
    "plt.show()"
   ]
  },
  {
   "cell_type": "code",
   "execution_count": 25,
   "metadata": {},
   "outputs": [
    {
     "data": {
      "image/png": "[encoded data removed]",
      "text/plain": [
       "<Figure size 1008x360 with 1 Axes>"
      ]
     },
     "metadata": {
      "needs_background": "light"
     },
     "output_type": "display_data"
    }
   ],
   "source": [
    "men = df_train[df_train.Gender == 'M']['Occupation'].value_counts(sort=False)\n",
    "women = df_train[df_train.Gender == 'F']['Occupation'].value_counts(sort=False)\n",
    "pd.DataFrame({'M': men, 'F': women}, index=range(0,21)).plot.bar(stacked=True)\n",
    "plt.gcf().set_size_inches(14, 5)\n",
    "plt.title(\"Count of different occupations in dataset grouped by Gender\", size=14)\n",
    "plt.legend(loc=\"upper right\")\n",
    "plt.xlabel('Occupation label', size=13)\n",
    "plt.ylabel('Count', size=13)\n",
    "plt.show()"
   ]
  },
  {
   "cell_type": "markdown",
   "metadata": {},
   "source": [
    "[Scroll Top](#Assignment-3.2)"
   ]
  },
  {
   "cell_type": "markdown",
   "metadata": {},
   "source": [
    "---"
   ]
  },
  {
   "cell_type": "markdown",
   "metadata": {},
   "source": [
    "### 3. City_Category "
   ]
  },
  {
   "cell_type": "code",
   "execution_count": 26,
   "metadata": {},
   "outputs": [
    {
     "data": {
      "text/plain": [
       "['A', 'B', 'C']"
      ]
     },
     "execution_count": 26,
     "metadata": {},
     "output_type": "execute_result"
    }
   ],
   "source": [
    "list(df_train['City_Category'].sort_values().unique())"
   ]
  },
  {
   "cell_type": "code",
   "execution_count": 27,
   "metadata": {},
   "outputs": [
    {
     "data": {
      "image/png": "[encoded data removed]",
      "text/plain": [
       "<Figure size 864x360 with 2 Axes>"
      ]
     },
     "metadata": {},
     "output_type": "display_data"
    }
   ],
   "source": [
    "plt.figure(figsize=(12, 5))\n",
    "city_cat = df_train[['City_Category', 'Purchase']].groupby('City_Category').agg(['count', 'mean', 'sum'])\n",
    "params = {\n",
    "    'labels': city_cat.index.map({'A': 'A', 'B': 'B', 'C': 'C'}),\n",
    "    'autopct': '%1.1f%%',\n",
    "    'startangle': 90, \n",
    "    'textprops': {'fontsize': 15},\n",
    "    'explode': (0.03, 0.03, 0.03),\n",
    "    'shadow': True\n",
    "}\n",
    "plt.subplot(121)\n",
    "plt.pie(city_cat['Purchase']['mean'], **params)\n",
    "plt.title('Mean of purchases', size=17)\n",
    "plt.subplot(122)\n",
    "plt.pie(city_cat['Purchase']['sum'], **params)\n",
    "plt.title('Sum of purchases', size=17)\n",
    "plt.show()"
   ]
  },
  {
   "cell_type": "code",
   "execution_count": 92,
   "metadata": {},
   "outputs": [
    {
     "name": "stdout",
     "output_type": "stream",
     "text": [
      "Purchasers count who live in city of category  A  =  147720\n",
      "------------------------------------------------------------\n",
      "Purchasers count who live in city of category  B  =  231173\n",
      "------------------------------------------------------------\n",
      "Purchasers count who live in city of category  C  =  171175\n",
      "------------------------------------------------------------\n"
     ]
    }
   ],
   "source": [
    "for uniqueCityCategoryValue in df_train['City_Category'].sort_values().unique():\n",
    "    CityCatPurchaserData = df_train.loc[df_train['City_Category'] == uniqueCityCategoryValue]\n",
    "    print(\"Purchasers count who live in city of category \",uniqueCityCategoryValue,\" = \",CityCatPurchaserData.shape[0])\n",
    "    print(\"------------------------------------------------------------\")\n",
    "    "
   ]
  },
  {
   "cell_type": "code",
   "execution_count": 30,
   "metadata": {},
   "outputs": [
    {
     "data": {
      "image/png": "[encoded data removed]",
      "text/plain": [
       "<Figure size 432x288 with 1 Axes>"
      ]
     },
     "metadata": {
      "needs_background": "light"
     },
     "output_type": "display_data"
    }
   ],
   "source": [
    "sns.countplot(df_train[\"City_Category\"]).set_title(\"City count\")\n",
    "sns.despine()"
   ]
  },
  {
   "cell_type": "markdown",
   "metadata": {},
   "source": [
    "[Scroll Top](#Assignment-3.2)"
   ]
  },
  {
   "cell_type": "markdown",
   "metadata": {},
   "source": [
    "---"
   ]
  },
  {
   "cell_type": "markdown",
   "metadata": {},
   "source": [
    "### 4. Stay_In_Current_City_Years "
   ]
  },
  {
   "cell_type": "code",
   "execution_count": 31,
   "metadata": {},
   "outputs": [
    {
     "data": {
      "text/plain": [
       "['0', '1', '2', '3', '4+']"
      ]
     },
     "execution_count": 31,
     "metadata": {},
     "output_type": "execute_result"
    }
   ],
   "source": [
    "list(df_train['Stay_In_Current_City_Years'].sort_values().unique())"
   ]
  },
  {
   "cell_type": "code",
   "execution_count": 32,
   "metadata": {},
   "outputs": [
    {
     "name": "stdout",
     "output_type": "stream",
     "text": [
      "Number of purchasers who stay  0  years =  74398\n",
      "Number of purchasers who stay  1  years =  193821\n",
      "Number of purchasers who stay  2  years =  101838\n",
      "Number of purchasers who stay  3  years =  95285\n",
      "Number of purchasers who stay  4+  years =  84726\n"
     ]
    }
   ],
   "source": [
    "for uniqueYearsValue in df_train['Stay_In_Current_City_Years'].sort_values().unique():\n",
    "    CityYearsPurchaserData = df_train.loc[df_train['Stay_In_Current_City_Years'] == uniqueYearsValue]\n",
    "    if uniqueYearsValue != 4:\n",
    "        print(\"Number of purchasers who stay \",uniqueYearsValue,\" years = \",CityYearsPurchaserData.shape[0])\n",
    "    elif uniqueYearsValue == 4:\n",
    "        print(\"Number of purchasers who stay more than \",uniqueYearsValue,\" years = \",CityYearsPurchaserData.shape[0])"
   ]
  },
  {
   "cell_type": "code",
   "execution_count": 33,
   "metadata": {},
   "outputs": [
    {
     "data": {
      "image/png": "[encoded data removed]",
      "text/plain": [
       "<Figure size 1296x360 with 2 Axes>"
      ]
     },
     "metadata": {
      "needs_background": "light"
     },
     "output_type": "display_data"
    }
   ],
   "source": [
    "stay_years = [df_train[df_train.Stay_In_Current_City_Years == x]\n",
    "              ['City_Category'].value_counts(sort=False).iloc[::-1] \n",
    "              for x in sorted(df_train.Stay_In_Current_City_Years.unique())]\n",
    "\n",
    "f, (ax1, ax2) = plt.subplots(1,2, gridspec_kw = {'width_ratios':[1, 2]}, sharey=True)\n",
    "\n",
    "years = sorted(df_train.Stay_In_Current_City_Years.unique())\n",
    "pd.DataFrame(stay_years, index=years).T.plot.bar(stacked=True, width=0.3, ax=ax1, rot=0, fontsize=11)\n",
    "ax1.set_xlabel('City Category', size=13)\n",
    "ax1.set_ylabel('# Transactions', size=14)\n",
    "ax1.set_title('# Transactions by city (separated by Stay in Current City)', size=14)\n",
    "\n",
    "sns.countplot(x='Stay_In_Current_City_Years', data=df_train, ax=ax2, order=years)\n",
    "ax2.set_title('# Transactions by Stay in Current City', size=14)\n",
    "ax2.set_ylabel('')\n",
    "ax2.set_xlabel('Years in current city', size=13)\n",
    "\n",
    "plt.gcf().set_size_inches(18, 5)\n",
    "plt.show()"
   ]
  },
  {
   "cell_type": "code",
   "execution_count": 34,
   "metadata": {},
   "outputs": [
    {
     "name": "stdout",
     "output_type": "stream",
     "text": [
      "Mean purchase of people who stay  0  years =  9180.075122987177\n",
      "Mean purchase of people who stay  1  years =  9250.145923300364\n",
      "Mean purchase of people who stay  2  years =  9320.429810090536\n",
      "Mean purchase of people who stay  3  years =  9286.904119221284\n",
      "Mean purchase of people who stay  4+  years =  9275.59887165687\n"
     ]
    }
   ],
   "source": [
    "labels = []\n",
    "values = []\n",
    "yearsCountData = []\n",
    "\n",
    "for uniqueYearsValue in df_train['Stay_In_Current_City_Years'].sort_values().unique():\n",
    "    CityYearsPurchaserData = df_train.loc[df_train['Stay_In_Current_City_Years'] == uniqueYearsValue]\n",
    "    CityYearsPurchaserMean = np.mean(CityYearsPurchaserData['Purchase'])\n",
    "    labels.append(uniqueYearsValue)\n",
    "    values.append(CityYearsPurchaserMean)\n",
    "    yearsCountData.append(CityYearsPurchaserData.shape[0])\n",
    "    \n",
    "    if uniqueYearsValue != 4:\n",
    "        print(\"Mean purchase of people who stay \",uniqueYearsValue,\" years = \",CityYearsPurchaserMean)\n",
    "    elif uniqueYearsValue == 4:\n",
    "        print(\"Mean purchase of people who stay more than \",uniqueYearsValue,\" years = \",CityYearsPurchaserMean)"
   ]
  },
  {
   "cell_type": "markdown",
   "metadata": {},
   "source": [
    "[Scroll Top](#Assignment-3.2)"
   ]
  },
  {
   "cell_type": "markdown",
   "metadata": {},
   "source": [
    "---"
   ]
  },
  {
   "cell_type": "markdown",
   "metadata": {},
   "source": [
    "### 5. Product"
   ]
  },
  {
   "cell_type": "code",
   "execution_count": 36,
   "metadata": {},
   "outputs": [
    {
     "data": {
      "text/plain": [
       "[1, 2, 3, 4, 5, 6, 7, 8, 9, 10, 11, 12, 13, 14, 15, 16, 17, 18, 19, 20]"
      ]
     },
     "execution_count": 36,
     "metadata": {},
     "output_type": "execute_result"
    }
   ],
   "source": [
    "list(df_train['Product_Category_1'].sort_values().unique())"
   ]
  },
  {
   "cell_type": "code",
   "execution_count": 37,
   "metadata": {},
   "outputs": [
    {
     "name": "stdout",
     "output_type": "stream",
     "text": [
      "Profit from Product_Category_1 =  2972716\n",
      "Profit from Product_Category_2 =  3704948.0\n",
      "Profit from Product_Category_3 =  2113329.0\n"
     ]
    }
   ],
   "source": [
    "Product_Category_1_sum = df_train['Product_Category_1'].sum()\n",
    "Product_Category_2_sum = df_train['Product_Category_2'].sum()\n",
    "Product_Category_3_sum = df_train['Product_Category_3'].sum()\n",
    "\n",
    "print(\"Profit from Product_Category_1 = \",Product_Category_1_sum)\n",
    "print(\"Profit from Product_Category_2 = \",Product_Category_2_sum)\n",
    "print(\"Profit from Product_Category_3 = \",Product_Category_3_sum)"
   ]
  },
  {
   "cell_type": "code",
   "execution_count": 38,
   "metadata": {},
   "outputs": [
    {
     "data": {
      "image/png": "[encoded data removed]",
      "text/plain": [
       "<Figure size 432x288 with 1 Axes>"
      ]
     },
     "metadata": {
      "needs_background": "light"
     },
     "output_type": "display_data"
    }
   ],
   "source": [
    "labels = ['Product_Category_1','Product_Category_2','Product_Category_3']\n",
    "values = [Product_Category_1_sum,Product_Category_2_sum, Product_Category_3_sum]\n",
    "\n",
    "plt.bar(labels,values, width=.9, facecolor='r', edgecolor='w', alpha=.7)\n",
    "plt.text(-1,4000000,'Comparison between number of boughts of category_1 ,category_2, category_3 on black friday')\n",
    "         \n",
    "plt.show()"
   ]
  },
  {
   "cell_type": "markdown",
   "metadata": {},
   "source": [
    "Profit from product of category 2 has more than product of category 1."
   ]
  },
  {
   "cell_type": "markdown",
   "metadata": {},
   "source": [
    "[Scroll Top](#Assignment-3.2)"
   ]
  },
  {
   "cell_type": "markdown",
   "metadata": {},
   "source": [
    "---"
   ]
  },
  {
   "cell_type": "markdown",
   "metadata": {},
   "source": [
    "### 6. Marital_Status "
   ]
  },
  {
   "cell_type": "code",
   "execution_count": 39,
   "metadata": {},
   "outputs": [
    {
     "data": {
      "text/plain": [
       "[0, 1]"
      ]
     },
     "execution_count": 39,
     "metadata": {},
     "output_type": "execute_result"
    }
   ],
   "source": [
    "list(df_train['Marital_Status'].sort_values().unique())"
   ]
  },
  {
   "cell_type": "code",
   "execution_count": 40,
   "metadata": {},
   "outputs": [
    {
     "data": {
      "image/png": "[encoded data removed]",
      "text/plain": [
       "<Figure size 504x504 with 1 Axes>"
      ]
     },
     "metadata": {},
     "output_type": "display_data"
    }
   ],
   "source": [
    "out_vals = df_train.Marital_Status.value_counts()\n",
    "in_vals = np.array([df_train[df_train.Marital_Status==x]['Gender'].value_counts() for x in [0,1]]).flatten()\n",
    "\n",
    "fig, ax = plt.subplots(figsize=(7, 7))\n",
    "\n",
    "size = 0.3\n",
    "cmap = plt.get_cmap(\"tab20c\")\n",
    "outer_colors = cmap(np.arange(2)*4)\n",
    "inner_colors = cmap(np.array([1, 2, 5, 6]))\n",
    "\n",
    "ax.pie(out_vals, radius=1, colors=outer_colors,\n",
    "       wedgeprops=dict(width=size, edgecolor='w'), labels=['Single', 'Married'],\n",
    "       textprops={'fontsize': 15}, startangle=50)\n",
    "\n",
    "ax.pie(in_vals, radius=1-size, colors=inner_colors,\n",
    "       wedgeprops=dict(width=size, edgecolor='w'), labels=['M', 'F', 'M', 'F'],\n",
    "       labeldistance=0.75, textprops={'fontsize': 12, 'weight': 'bold'}, startangle=50)\n",
    "\n",
    "ax.set(aspect=\"equal\")\n",
    "plt.title('Marital Status / Gender', fontsize=16)\n",
    "plt.show()"
   ]
  },
  {
   "cell_type": "code",
   "execution_count": 41,
   "metadata": {},
   "outputs": [
    {
     "name": "stdout",
     "output_type": "stream",
     "text": [
      "Number of purchasers who marital status is  0  =  324731\n",
      "Number of purchasers who marital status is  1  =  225337\n"
     ]
    }
   ],
   "source": [
    "for maritalStatusValue in df_train['Marital_Status'].unique():\n",
    "    maritalStatusPurchaserData = df_train.loc[df_train['Marital_Status'] == maritalStatusValue]\n",
    "    print(\"Number of purchasers who marital status is \",maritalStatusValue,\" = \",maritalStatusPurchaserData.shape[0])"
   ]
  },
  {
   "cell_type": "code",
   "execution_count": 42,
   "metadata": {},
   "outputs": [
    {
     "name": "stdout",
     "output_type": "stream",
     "text": [
      "Mean purchase of people who marital Status is  0  =  9265.907618921507\n",
      "Mean purchase of people who marital Status is  1  =  9261.174574082374\n"
     ]
    }
   ],
   "source": [
    "labels = []\n",
    "values = []\n",
    "maritalStatusCount = []\n",
    "\n",
    "for maritalStatusValue in df_train['Marital_Status'].unique():\n",
    "    maritalStatusPurchaserData = df_train.loc[df_train['Marital_Status'] == maritalStatusValue]\n",
    "    maritalStatusPurchaserMean = np.mean(maritalStatusPurchaserData['Purchase'])\n",
    "    labels.append(maritalStatusValue)\n",
    "    values.append(maritalStatusPurchaserMean)\n",
    "    maritalStatusCount.append(maritalStatusPurchaserData.shape[0])\n",
    "    \n",
    "    print(\"Mean purchase of people who marital Status is \",maritalStatusValue,\" = \",maritalStatusPurchaserMean)"
   ]
  },
  {
   "cell_type": "code",
   "execution_count": 43,
   "metadata": {},
   "outputs": [
    {
     "data": {
      "image/png": "[encoded data removed]",
      "text/plain": [
       "<Figure size 864x360 with 2 Axes>"
      ]
     },
     "metadata": {},
     "output_type": "display_data"
    }
   ],
   "source": [
    "plt.figure(figsize=(12, 5))\n",
    "marital_status = df_train[['Marital_Status', 'Purchase']].groupby('Marital_Status').agg(['count', 'mean'])\n",
    "params = {\n",
    "    'autopct': '%1.1f%%',\n",
    "    'startangle': 90,\n",
    "    'labels': {'Single','Married'},\n",
    "    'textprops': {'fontsize': 15},\n",
    "    'explode': (0.05, 0,),\n",
    "    'shadow': True\n",
    "}\n",
    "plt.subplot(121)\n",
    "plt.pie(marital_status['Purchase']['count'], **params)\n",
    "plt.title('Count of purchases', size=17)\n",
    "plt.legend(labels)\n",
    "plt.subplot(122)\n",
    "plt.pie(marital_status['Purchase']['mean'], **params)\n",
    "plt.title('mean purchases', size=17)\n",
    "plt.legend(labels)\n",
    "plt.show()"
   ]
  },
  {
   "cell_type": "markdown",
   "metadata": {},
   "source": [
    "[Scroll Top](#Assignment-3.2)"
   ]
  },
  {
   "cell_type": "markdown",
   "metadata": {},
   "source": [
    "---"
   ]
  },
  {
   "cell_type": "markdown",
   "metadata": {},
   "source": [
    "## 4. Data Correlation Matrix"
   ]
  },
  {
   "cell_type": "markdown",
   "metadata": {},
   "source": [
    "\n",
    "The correlation matrix is an important tool to understand the correlation between the different characteristics. The values range from -1 to 1 and the closer a value is to 1 the bettere correlation there is between two characteristics. Let's calculate the correlation matrix for our dataset."
   ]
  },
  {
   "cell_type": "markdown",
   "metadata": {},
   "source": [
    "###  Feature Encoding"
   ]
  },
  {
   "cell_type": "code",
   "execution_count": 44,
   "metadata": {},
   "outputs": [],
   "source": [
    "df_train_4 = df_train.copy()"
   ]
  },
  {
   "cell_type": "code",
   "execution_count": 45,
   "metadata": {},
   "outputs": [],
   "source": [
    "# label encoding: categorical to numeric (Feature Encoding)\n",
    "#Train Dataset\n",
    "le = preprocessing.LabelEncoder()\n",
    "\n",
    "cat_col = df_train_4.select_dtypes(include=\"object\").columns.tolist()\n",
    "for i in cat_col:\n",
    "    df_train_4.loc[:, i] = le.fit_transform(df_train_4.loc[:, i])"
   ]
  },
  {
   "cell_type": "code",
   "execution_count": 46,
   "metadata": {},
   "outputs": [],
   "source": [
    "# label encoding: categorical to numeric (Feature Encoding)\n",
    "#Test dataset\n",
    "le = preprocessing.LabelEncoder()\n",
    "\n",
    "cat_col = df_test.select_dtypes(include=\"object\").columns.tolist()\n",
    "for i in cat_col:\n",
    "    df_test.loc[:, i] = le.fit_transform(df_test.loc[:, i])"
   ]
  },
  {
   "cell_type": "code",
   "execution_count": 47,
   "metadata": {
    "cell_style": "center"
   },
   "outputs": [
    {
     "data": {
      "text/plain": [
       "Text(0.5, 1.0, 'Correlation between features')"
      ]
     },
     "execution_count": 47,
     "metadata": {},
     "output_type": "execute_result"
    },
    {
     "data": {
      "image/png": "[encoded data removed]",
      "text/plain": [
       "<Figure size 864x720 with 2 Axes>"
      ]
     },
     "metadata": {
      "needs_background": "light"
     },
     "output_type": "display_data"
    }
   ],
   "source": [
    "fig, ax = plt.subplots(figsize=(12, 10))\n",
    "sns.heatmap(df_train_4.drop(\"User_ID\", axis=1).corr(), annot=True, cmap=\"YlGnBu\").set_title(\"Correlation between features\")"
   ]
  },
  {
   "cell_type": "markdown",
   "metadata": {},
   "source": [
    "From the heatmap above we can observe there are strong correlations between different types' products and purchase. There is also some correlation between age and marital status which is in line with common sense. Unfortunately, there is no single feature that shows strong correlation with purchase directly, so we can understand this as that purchase depends on the ensemble of all features."
   ]
  },
  {
   "cell_type": "markdown",
   "metadata": {},
   "source": [
    "[Scroll Top](#Assignment-3.2)"
   ]
  },
  {
   "cell_type": "markdown",
   "metadata": {},
   "source": [
    "---"
   ]
  },
  {
   "cell_type": "markdown",
   "metadata": {},
   "source": [
    "## 5. Data Cleaning and Transformation"
   ]
  },
  {
   "cell_type": "code",
   "execution_count": 48,
   "metadata": {},
   "outputs": [],
   "source": [
    "df_train_5 = df_train_4.copy()"
   ]
  },
  {
   "cell_type": "code",
   "execution_count": 49,
   "metadata": {},
   "outputs": [
    {
     "name": "stdout",
     "output_type": "stream",
     "text": [
      "<class 'pandas.core.frame.DataFrame'>\n",
      "RangeIndex: 550068 entries, 0 to 550067\n",
      "Data columns (total 12 columns):\n",
      "User_ID                       550068 non-null int64\n",
      "Product_ID                    550068 non-null int32\n",
      "Gender                        550068 non-null int32\n",
      "Age                           550068 non-null int32\n",
      "Occupation                    550068 non-null int64\n",
      "City_Category                 550068 non-null int32\n",
      "Stay_In_Current_City_Years    550068 non-null int32\n",
      "Marital_Status                550068 non-null int64\n",
      "Product_Category_1            550068 non-null int64\n",
      "Product_Category_2            376430 non-null float64\n",
      "Product_Category_3            166821 non-null float64\n",
      "Purchase                      550068 non-null int64\n",
      "dtypes: float64(2), int32(5), int64(5)\n",
      "memory usage: 39.9 MB\n"
     ]
    }
   ],
   "source": [
    "df_train_5.info()"
   ]
  },
  {
   "cell_type": "code",
   "execution_count": 50,
   "metadata": {},
   "outputs": [
    {
     "data": {
      "text/plain": [
       "User_ID                         0.0 %\n",
       "Product_ID                      0.0 %\n",
       "Gender                          0.0 %\n",
       "Age                             0.0 %\n",
       "Occupation                      0.0 %\n",
       "City_Category                   0.0 %\n",
       "Stay_In_Current_City_Years      0.0 %\n",
       "Marital_Status                  0.0 %\n",
       "Product_Category_1              0.0 %\n",
       "Product_Category_2            31.57 %\n",
       "Product_Category_3            69.67 %\n",
       "Purchase                        0.0 %\n",
       "dtype: object"
      ]
     },
     "execution_count": 50,
     "metadata": {},
     "output_type": "execute_result"
    }
   ],
   "source": [
    "# Checking for Null values\n",
    "round((df_train_5.isnull().sum() / df_train.shape[0]) * 100, 2).astype(str) + ' %'"
   ]
  },
  {
   "cell_type": "code",
   "execution_count": 51,
   "metadata": {},
   "outputs": [],
   "source": [
    "df_train_5['Product_Category_1'].fillna(df_train['Product_Category_1'].median(), inplace = True)\n",
    "df_train_5['Product_Category_2'].fillna(df_train['Product_Category_2'].median(), inplace = True)\n",
    "\n",
    "df_test['Product_Category_1'].fillna(df_test['Product_Category_1'].median(), inplace = True)\n",
    "df_test['Product_Category_2'].fillna(df_test['Product_Category_2'].median(), inplace = True)"
   ]
  },
  {
   "cell_type": "markdown",
   "metadata": {},
   "source": [
    "[Scroll Top](#Assignment-3.2)"
   ]
  },
  {
   "cell_type": "markdown",
   "metadata": {},
   "source": [
    "---"
   ]
  },
  {
   "cell_type": "markdown",
   "metadata": {},
   "source": [
    "###  1. Dropping Irrelevant Features"
   ]
  },
  {
   "cell_type": "code",
   "execution_count": 52,
   "metadata": {},
   "outputs": [],
   "source": [
    "df_train_5.drop(['Product_ID','Product_Category_3'], axis = 1, inplace = True)"
   ]
  },
  {
   "cell_type": "code",
   "execution_count": 53,
   "metadata": {},
   "outputs": [],
   "source": [
    "df_test_5 = df_test.copy()"
   ]
  },
  {
   "cell_type": "code",
   "execution_count": 54,
   "metadata": {},
   "outputs": [],
   "source": [
    "df_test_5.drop(['Product_ID','Product_Category_3'], axis = 1, inplace = True)"
   ]
  },
  {
   "cell_type": "code",
   "execution_count": 55,
   "metadata": {},
   "outputs": [],
   "source": [
    "#Convert 'Product_Category' into numeric data type - Train\n",
    "df_train_5[[\"Product_Category_1\"]] = df_train_5[[\"Product_Category_1\"]].astype(\"int64\")\n",
    "df_train_5[[\"Product_Category_2\"]] = df_train_5[[\"Product_Category_2\"]].astype(\"int64\")\n",
    "\n",
    "#Convert 'Product_Category' into numeric data type - Test\n",
    "df_test_5[[\"Product_Category_1\"]] = df_test_5[[\"Product_Category_1\"]].astype(\"int64\")\n",
    "df_test_5[[\"Product_Category_2\"]] = df_test_5[[\"Product_Category_2\"]].astype(\"int64\")"
   ]
  },
  {
   "cell_type": "markdown",
   "metadata": {},
   "source": [
    "[Scroll Top](#Assignment-3.2)"
   ]
  },
  {
   "cell_type": "markdown",
   "metadata": {},
   "source": [
    "---"
   ]
  },
  {
   "cell_type": "markdown",
   "metadata": {},
   "source": [
    "### 2. Replacing '+' in 'Age' and 'Stay_In_Current_City_Years'"
   ]
  },
  {
   "cell_type": "code",
   "execution_count": 56,
   "metadata": {},
   "outputs": [],
   "source": [
    "df_train_5['Age'] = df_train_5['Age'].apply(lambda x : str(x).replace('55+', '55'))"
   ]
  },
  {
   "cell_type": "code",
   "execution_count": 57,
   "metadata": {},
   "outputs": [],
   "source": [
    "df_train_5['Age'] = df_train_5['Age'].astype(int)"
   ]
  },
  {
   "cell_type": "code",
   "execution_count": 58,
   "metadata": {},
   "outputs": [],
   "source": [
    "df_train_5['Stay_In_Current_City_Years'] = df_train_5['Stay_In_Current_City_Years'].apply(lambda x : str(x).replace('4+', '4'))"
   ]
  },
  {
   "cell_type": "code",
   "execution_count": 59,
   "metadata": {},
   "outputs": [],
   "source": [
    "df_train_5['Stay_In_Current_City_Years']= df_train_5['Stay_In_Current_City_Years'].astype(int)"
   ]
  },
  {
   "cell_type": "markdown",
   "metadata": {},
   "source": [
    "[Scroll Top](#Assignment-3.2)"
   ]
  },
  {
   "cell_type": "markdown",
   "metadata": {},
   "source": [
    "---"
   ]
  },
  {
   "cell_type": "markdown",
   "metadata": {},
   "source": [
    "### 3. Replacing 'F/M' in 'Gender' as [0/1]"
   ]
  },
  {
   "cell_type": "code",
   "execution_count": 60,
   "metadata": {},
   "outputs": [],
   "source": [
    "#df_train_5['Gender'].replace(['F','M'],[0,1],inplace=True)"
   ]
  },
  {
   "cell_type": "code",
   "execution_count": 61,
   "metadata": {},
   "outputs": [],
   "source": [
    "df_train_5['Gender'] = df_train_5.Gender.astype(str).astype(int)"
   ]
  },
  {
   "cell_type": "code",
   "execution_count": 62,
   "metadata": {},
   "outputs": [],
   "source": [
    "df_test_5['Age'] = df_test_5['Age'].apply(lambda x : str(x).replace('55+', '55'))"
   ]
  },
  {
   "cell_type": "code",
   "execution_count": 63,
   "metadata": {},
   "outputs": [],
   "source": [
    "df_test_5['Age'] = df_test_5['Age'].astype(int)"
   ]
  },
  {
   "cell_type": "code",
   "execution_count": 64,
   "metadata": {},
   "outputs": [],
   "source": [
    "df_test_5['Stay_In_Current_City_Years'] = df_test_5['Stay_In_Current_City_Years'].apply(lambda x : str(x).replace('4+', '4'))"
   ]
  },
  {
   "cell_type": "code",
   "execution_count": 65,
   "metadata": {},
   "outputs": [],
   "source": [
    "df_test_5['Stay_In_Current_City_Years'] = df_test_5['Stay_In_Current_City_Years'].astype(int)"
   ]
  },
  {
   "cell_type": "code",
   "execution_count": 66,
   "metadata": {},
   "outputs": [],
   "source": [
    "#df_test_5['Gender'].replace(['F','M'],[0,1],inplace=True)"
   ]
  },
  {
   "cell_type": "code",
   "execution_count": 67,
   "metadata": {},
   "outputs": [],
   "source": [
    "df_test_5['Gender'] = df_test_5['Gender'].astype(str).astype(int)"
   ]
  },
  {
   "cell_type": "code",
   "execution_count": 68,
   "metadata": {
    "scrolled": true
   },
   "outputs": [
    {
     "name": "stdout",
     "output_type": "stream",
     "text": [
      "<class 'pandas.core.frame.DataFrame'>\n",
      "RangeIndex: 550068 entries, 0 to 550067\n",
      "Data columns (total 10 columns):\n",
      "User_ID                       550068 non-null int64\n",
      "Gender                        550068 non-null int32\n",
      "Age                           550068 non-null int32\n",
      "Occupation                    550068 non-null int64\n",
      "City_Category                 550068 non-null int32\n",
      "Stay_In_Current_City_Years    550068 non-null int32\n",
      "Marital_Status                550068 non-null int64\n",
      "Product_Category_1            550068 non-null int64\n",
      "Product_Category_2            550068 non-null int64\n",
      "Purchase                      550068 non-null int64\n",
      "dtypes: int32(4), int64(6)\n",
      "memory usage: 33.6 MB\n"
     ]
    }
   ],
   "source": [
    "df_train_5.info()"
   ]
  },
  {
   "cell_type": "code",
   "execution_count": 69,
   "metadata": {},
   "outputs": [
    {
     "name": "stdout",
     "output_type": "stream",
     "text": [
      "<class 'pandas.core.frame.DataFrame'>\n",
      "RangeIndex: 233599 entries, 0 to 233598\n",
      "Data columns (total 9 columns):\n",
      "User_ID                       233599 non-null int64\n",
      "Gender                        233599 non-null int32\n",
      "Age                           233599 non-null int32\n",
      "Occupation                    233599 non-null int64\n",
      "City_Category                 233599 non-null int32\n",
      "Stay_In_Current_City_Years    233599 non-null int32\n",
      "Marital_Status                233599 non-null int64\n",
      "Product_Category_1            233599 non-null int64\n",
      "Product_Category_2            233599 non-null int64\n",
      "dtypes: int32(4), int64(5)\n",
      "memory usage: 12.5 MB\n"
     ]
    }
   ],
   "source": [
    "df_test_5.info()"
   ]
  },
  {
   "cell_type": "code",
   "execution_count": 70,
   "metadata": {},
   "outputs": [
    {
     "data": {
      "text/html": [
       "<div>\n",
       "<style scoped>\n",
       "    .dataframe tbody tr th:only-of-type {\n",
       "        vertical-align: middle;\n",
       "    }\n",
       "\n",
       "    .dataframe tbody tr th {\n",
       "        vertical-align: top;\n",
       "    }\n",
       "\n",
       "    .dataframe thead th {\n",
       "        text-align: right;\n",
       "    }\n",
       "</style>\n",
       "<table border=\"1\" class=\"dataframe\">\n",
       "  <thead>\n",
       "    <tr style=\"text-align: right;\">\n",
       "      <th></th>\n",
       "      <th>User_ID</th>\n",
       "      <th>Gender</th>\n",
       "      <th>Age</th>\n",
       "      <th>Occupation</th>\n",
       "      <th>City_Category</th>\n",
       "      <th>Stay_In_Current_City_Years</th>\n",
       "      <th>Marital_Status</th>\n",
       "      <th>Product_Category_1</th>\n",
       "      <th>Product_Category_2</th>\n",
       "      <th>Purchase</th>\n",
       "    </tr>\n",
       "  </thead>\n",
       "  <tbody>\n",
       "    <tr>\n",
       "      <td>550058</td>\n",
       "      <td>1006024</td>\n",
       "      <td>1</td>\n",
       "      <td>2</td>\n",
       "      <td>12</td>\n",
       "      <td>0</td>\n",
       "      <td>0</td>\n",
       "      <td>1</td>\n",
       "      <td>20</td>\n",
       "      <td>9</td>\n",
       "      <td>121</td>\n",
       "    </tr>\n",
       "    <tr>\n",
       "      <td>550059</td>\n",
       "      <td>1006025</td>\n",
       "      <td>0</td>\n",
       "      <td>2</td>\n",
       "      <td>1</td>\n",
       "      <td>1</td>\n",
       "      <td>1</td>\n",
       "      <td>0</td>\n",
       "      <td>19</td>\n",
       "      <td>9</td>\n",
       "      <td>48</td>\n",
       "    </tr>\n",
       "    <tr>\n",
       "      <td>550060</td>\n",
       "      <td>1006026</td>\n",
       "      <td>1</td>\n",
       "      <td>3</td>\n",
       "      <td>6</td>\n",
       "      <td>2</td>\n",
       "      <td>1</td>\n",
       "      <td>1</td>\n",
       "      <td>20</td>\n",
       "      <td>9</td>\n",
       "      <td>494</td>\n",
       "    </tr>\n",
       "    <tr>\n",
       "      <td>550061</td>\n",
       "      <td>1006029</td>\n",
       "      <td>0</td>\n",
       "      <td>2</td>\n",
       "      <td>1</td>\n",
       "      <td>2</td>\n",
       "      <td>1</td>\n",
       "      <td>1</td>\n",
       "      <td>20</td>\n",
       "      <td>9</td>\n",
       "      <td>599</td>\n",
       "    </tr>\n",
       "    <tr>\n",
       "      <td>550062</td>\n",
       "      <td>1006032</td>\n",
       "      <td>1</td>\n",
       "      <td>4</td>\n",
       "      <td>7</td>\n",
       "      <td>0</td>\n",
       "      <td>3</td>\n",
       "      <td>0</td>\n",
       "      <td>20</td>\n",
       "      <td>9</td>\n",
       "      <td>473</td>\n",
       "    </tr>\n",
       "    <tr>\n",
       "      <td>550063</td>\n",
       "      <td>1006033</td>\n",
       "      <td>1</td>\n",
       "      <td>5</td>\n",
       "      <td>13</td>\n",
       "      <td>1</td>\n",
       "      <td>1</td>\n",
       "      <td>1</td>\n",
       "      <td>20</td>\n",
       "      <td>9</td>\n",
       "      <td>368</td>\n",
       "    </tr>\n",
       "    <tr>\n",
       "      <td>550064</td>\n",
       "      <td>1006035</td>\n",
       "      <td>0</td>\n",
       "      <td>2</td>\n",
       "      <td>1</td>\n",
       "      <td>2</td>\n",
       "      <td>3</td>\n",
       "      <td>0</td>\n",
       "      <td>20</td>\n",
       "      <td>9</td>\n",
       "      <td>371</td>\n",
       "    </tr>\n",
       "    <tr>\n",
       "      <td>550065</td>\n",
       "      <td>1006036</td>\n",
       "      <td>0</td>\n",
       "      <td>2</td>\n",
       "      <td>15</td>\n",
       "      <td>1</td>\n",
       "      <td>4</td>\n",
       "      <td>1</td>\n",
       "      <td>20</td>\n",
       "      <td>9</td>\n",
       "      <td>137</td>\n",
       "    </tr>\n",
       "    <tr>\n",
       "      <td>550066</td>\n",
       "      <td>1006038</td>\n",
       "      <td>0</td>\n",
       "      <td>6</td>\n",
       "      <td>1</td>\n",
       "      <td>2</td>\n",
       "      <td>2</td>\n",
       "      <td>0</td>\n",
       "      <td>20</td>\n",
       "      <td>9</td>\n",
       "      <td>365</td>\n",
       "    </tr>\n",
       "    <tr>\n",
       "      <td>550067</td>\n",
       "      <td>1006039</td>\n",
       "      <td>0</td>\n",
       "      <td>4</td>\n",
       "      <td>0</td>\n",
       "      <td>1</td>\n",
       "      <td>4</td>\n",
       "      <td>1</td>\n",
       "      <td>20</td>\n",
       "      <td>9</td>\n",
       "      <td>490</td>\n",
       "    </tr>\n",
       "  </tbody>\n",
       "</table>\n",
       "</div>"
      ],
      "text/plain": [
       "        User_ID  Gender  Age  Occupation  City_Category  \\\n",
       "550058  1006024       1    2          12              0   \n",
       "550059  1006025       0    2           1              1   \n",
       "550060  1006026       1    3           6              2   \n",
       "550061  1006029       0    2           1              2   \n",
       "550062  1006032       1    4           7              0   \n",
       "550063  1006033       1    5          13              1   \n",
       "550064  1006035       0    2           1              2   \n",
       "550065  1006036       0    2          15              1   \n",
       "550066  1006038       0    6           1              2   \n",
       "550067  1006039       0    4           0              1   \n",
       "\n",
       "        Stay_In_Current_City_Years  Marital_Status  Product_Category_1  \\\n",
       "550058                           0               1                  20   \n",
       "550059                           1               0                  19   \n",
       "550060                           1               1                  20   \n",
       "550061                           1               1                  20   \n",
       "550062                           3               0                  20   \n",
       "550063                           1               1                  20   \n",
       "550064                           3               0                  20   \n",
       "550065                           4               1                  20   \n",
       "550066                           2               0                  20   \n",
       "550067                           4               1                  20   \n",
       "\n",
       "        Product_Category_2  Purchase  \n",
       "550058                   9       121  \n",
       "550059                   9        48  \n",
       "550060                   9       494  \n",
       "550061                   9       599  \n",
       "550062                   9       473  \n",
       "550063                   9       368  \n",
       "550064                   9       371  \n",
       "550065                   9       137  \n",
       "550066                   9       365  \n",
       "550067                   9       490  "
      ]
     },
     "execution_count": 70,
     "metadata": {},
     "output_type": "execute_result"
    }
   ],
   "source": [
    "df_train_5.tail(10)"
   ]
  },
  {
   "cell_type": "code",
   "execution_count": 71,
   "metadata": {},
   "outputs": [
    {
     "data": {
      "text/html": [
       "<div>\n",
       "<style scoped>\n",
       "    .dataframe tbody tr th:only-of-type {\n",
       "        vertical-align: middle;\n",
       "    }\n",
       "\n",
       "    .dataframe tbody tr th {\n",
       "        vertical-align: top;\n",
       "    }\n",
       "\n",
       "    .dataframe thead th {\n",
       "        text-align: right;\n",
       "    }\n",
       "</style>\n",
       "<table border=\"1\" class=\"dataframe\">\n",
       "  <thead>\n",
       "    <tr style=\"text-align: right;\">\n",
       "      <th></th>\n",
       "      <th>User_ID</th>\n",
       "      <th>Gender</th>\n",
       "      <th>Age</th>\n",
       "      <th>Occupation</th>\n",
       "      <th>City_Category</th>\n",
       "      <th>Stay_In_Current_City_Years</th>\n",
       "      <th>Marital_Status</th>\n",
       "      <th>Product_Category_1</th>\n",
       "      <th>Product_Category_2</th>\n",
       "    </tr>\n",
       "  </thead>\n",
       "  <tbody>\n",
       "    <tr>\n",
       "      <td>233589</td>\n",
       "      <td>1006030</td>\n",
       "      <td>1</td>\n",
       "      <td>2</td>\n",
       "      <td>17</td>\n",
       "      <td>2</td>\n",
       "      <td>1</td>\n",
       "      <td>1</td>\n",
       "      <td>2</td>\n",
       "      <td>15</td>\n",
       "    </tr>\n",
       "    <tr>\n",
       "      <td>233590</td>\n",
       "      <td>1006032</td>\n",
       "      <td>1</td>\n",
       "      <td>4</td>\n",
       "      <td>7</td>\n",
       "      <td>0</td>\n",
       "      <td>3</td>\n",
       "      <td>0</td>\n",
       "      <td>8</td>\n",
       "      <td>9</td>\n",
       "    </tr>\n",
       "    <tr>\n",
       "      <td>233591</td>\n",
       "      <td>1006033</td>\n",
       "      <td>1</td>\n",
       "      <td>5</td>\n",
       "      <td>13</td>\n",
       "      <td>1</td>\n",
       "      <td>1</td>\n",
       "      <td>1</td>\n",
       "      <td>1</td>\n",
       "      <td>2</td>\n",
       "    </tr>\n",
       "    <tr>\n",
       "      <td>233592</td>\n",
       "      <td>1006035</td>\n",
       "      <td>0</td>\n",
       "      <td>2</td>\n",
       "      <td>1</td>\n",
       "      <td>2</td>\n",
       "      <td>3</td>\n",
       "      <td>0</td>\n",
       "      <td>6</td>\n",
       "      <td>8</td>\n",
       "    </tr>\n",
       "    <tr>\n",
       "      <td>233593</td>\n",
       "      <td>1006036</td>\n",
       "      <td>0</td>\n",
       "      <td>2</td>\n",
       "      <td>15</td>\n",
       "      <td>1</td>\n",
       "      <td>4</td>\n",
       "      <td>1</td>\n",
       "      <td>8</td>\n",
       "      <td>9</td>\n",
       "    </tr>\n",
       "    <tr>\n",
       "      <td>233594</td>\n",
       "      <td>1006036</td>\n",
       "      <td>0</td>\n",
       "      <td>2</td>\n",
       "      <td>15</td>\n",
       "      <td>1</td>\n",
       "      <td>4</td>\n",
       "      <td>1</td>\n",
       "      <td>8</td>\n",
       "      <td>9</td>\n",
       "    </tr>\n",
       "    <tr>\n",
       "      <td>233595</td>\n",
       "      <td>1006036</td>\n",
       "      <td>0</td>\n",
       "      <td>2</td>\n",
       "      <td>15</td>\n",
       "      <td>1</td>\n",
       "      <td>4</td>\n",
       "      <td>1</td>\n",
       "      <td>5</td>\n",
       "      <td>8</td>\n",
       "    </tr>\n",
       "    <tr>\n",
       "      <td>233596</td>\n",
       "      <td>1006036</td>\n",
       "      <td>0</td>\n",
       "      <td>2</td>\n",
       "      <td>15</td>\n",
       "      <td>1</td>\n",
       "      <td>4</td>\n",
       "      <td>1</td>\n",
       "      <td>1</td>\n",
       "      <td>5</td>\n",
       "    </tr>\n",
       "    <tr>\n",
       "      <td>233597</td>\n",
       "      <td>1006037</td>\n",
       "      <td>0</td>\n",
       "      <td>4</td>\n",
       "      <td>1</td>\n",
       "      <td>2</td>\n",
       "      <td>4</td>\n",
       "      <td>0</td>\n",
       "      <td>10</td>\n",
       "      <td>16</td>\n",
       "    </tr>\n",
       "    <tr>\n",
       "      <td>233598</td>\n",
       "      <td>1006039</td>\n",
       "      <td>0</td>\n",
       "      <td>4</td>\n",
       "      <td>0</td>\n",
       "      <td>1</td>\n",
       "      <td>4</td>\n",
       "      <td>1</td>\n",
       "      <td>4</td>\n",
       "      <td>5</td>\n",
       "    </tr>\n",
       "  </tbody>\n",
       "</table>\n",
       "</div>"
      ],
      "text/plain": [
       "        User_ID  Gender  Age  Occupation  City_Category  \\\n",
       "233589  1006030       1    2          17              2   \n",
       "233590  1006032       1    4           7              0   \n",
       "233591  1006033       1    5          13              1   \n",
       "233592  1006035       0    2           1              2   \n",
       "233593  1006036       0    2          15              1   \n",
       "233594  1006036       0    2          15              1   \n",
       "233595  1006036       0    2          15              1   \n",
       "233596  1006036       0    2          15              1   \n",
       "233597  1006037       0    4           1              2   \n",
       "233598  1006039       0    4           0              1   \n",
       "\n",
       "        Stay_In_Current_City_Years  Marital_Status  Product_Category_1  \\\n",
       "233589                           1               1                   2   \n",
       "233590                           3               0                   8   \n",
       "233591                           1               1                   1   \n",
       "233592                           3               0                   6   \n",
       "233593                           4               1                   8   \n",
       "233594                           4               1                   8   \n",
       "233595                           4               1                   5   \n",
       "233596                           4               1                   1   \n",
       "233597                           4               0                  10   \n",
       "233598                           4               1                   4   \n",
       "\n",
       "        Product_Category_2  \n",
       "233589                  15  \n",
       "233590                   9  \n",
       "233591                   2  \n",
       "233592                   8  \n",
       "233593                   9  \n",
       "233594                   9  \n",
       "233595                   8  \n",
       "233596                   5  \n",
       "233597                  16  \n",
       "233598                   5  "
      ]
     },
     "execution_count": 71,
     "metadata": {},
     "output_type": "execute_result"
    }
   ],
   "source": [
    "df_test_5.tail(10)"
   ]
  },
  {
   "cell_type": "markdown",
   "metadata": {},
   "source": [
    "[Scroll Top](#Assignment-3.2)"
   ]
  },
  {
   "cell_type": "markdown",
   "metadata": {},
   "source": [
    "---"
   ]
  },
  {
   "cell_type": "markdown",
   "metadata": {},
   "source": [
    "## 6. Train - Valid - Test Split"
   ]
  },
  {
   "cell_type": "code",
   "execution_count": 72,
   "metadata": {},
   "outputs": [],
   "source": [
    "#Separate out X (independent features) and y (dependent feature)\n",
    "\n",
    "X = df_train_5.drop(\"Purchase\",axis=1)\n",
    "y = df_train_5[\"Purchase\"]\n",
    "\n",
    "X_test = df_test_5.copy()"
   ]
  },
  {
   "cell_type": "code",
   "execution_count": 73,
   "metadata": {
    "scrolled": true
   },
   "outputs": [
    {
     "name": "stdout",
     "output_type": "stream",
     "text": [
      "(412551, 9) (137517, 9) (233599, 9)\n"
     ]
    }
   ],
   "source": [
    "#train-validation split\n",
    "X_train, X_val, y_train, y_val = train_test_split(X, y, test_size=0.25, random_state=1)\n",
    "\n",
    "print(X_train.shape,X_val.shape,X_test.shape)"
   ]
  },
  {
   "cell_type": "code",
   "execution_count": 74,
   "metadata": {},
   "outputs": [
    {
     "name": "stdout",
     "output_type": "stream",
     "text": [
      "<class 'pandas.core.frame.DataFrame'>\n",
      "Int64Index: 412551 entries, 413828 to 128037\n",
      "Data columns (total 9 columns):\n",
      "User_ID                       412551 non-null int64\n",
      "Gender                        412551 non-null int32\n",
      "Age                           412551 non-null int32\n",
      "Occupation                    412551 non-null int64\n",
      "City_Category                 412551 non-null int32\n",
      "Stay_In_Current_City_Years    412551 non-null int32\n",
      "Marital_Status                412551 non-null int64\n",
      "Product_Category_1            412551 non-null int64\n",
      "Product_Category_2            412551 non-null int64\n",
      "dtypes: int32(4), int64(5)\n",
      "memory usage: 25.2 MB\n"
     ]
    }
   ],
   "source": [
    "X_train.info()"
   ]
  },
  {
   "cell_type": "code",
   "execution_count": 75,
   "metadata": {},
   "outputs": [
    {
     "name": "stdout",
     "output_type": "stream",
     "text": [
      "<class 'pandas.core.frame.DataFrame'>\n",
      "Int64Index: 137517 entries, 470060 to 295859\n",
      "Data columns (total 9 columns):\n",
      "User_ID                       137517 non-null int64\n",
      "Gender                        137517 non-null int32\n",
      "Age                           137517 non-null int32\n",
      "Occupation                    137517 non-null int64\n",
      "City_Category                 137517 non-null int32\n",
      "Stay_In_Current_City_Years    137517 non-null int32\n",
      "Marital_Status                137517 non-null int64\n",
      "Product_Category_1            137517 non-null int64\n",
      "Product_Category_2            137517 non-null int64\n",
      "dtypes: int32(4), int64(5)\n",
      "memory usage: 8.4 MB\n"
     ]
    }
   ],
   "source": [
    "X_val.info()"
   ]
  },
  {
   "cell_type": "code",
   "execution_count": 76,
   "metadata": {},
   "outputs": [
    {
     "name": "stdout",
     "output_type": "stream",
     "text": [
      "<class 'pandas.core.frame.DataFrame'>\n",
      "RangeIndex: 233599 entries, 0 to 233598\n",
      "Data columns (total 9 columns):\n",
      "User_ID                       233599 non-null int64\n",
      "Gender                        233599 non-null int32\n",
      "Age                           233599 non-null int32\n",
      "Occupation                    233599 non-null int64\n",
      "City_Category                 233599 non-null int32\n",
      "Stay_In_Current_City_Years    233599 non-null int32\n",
      "Marital_Status                233599 non-null int64\n",
      "Product_Category_1            233599 non-null int64\n",
      "Product_Category_2            233599 non-null int64\n",
      "dtypes: int32(4), int64(5)\n",
      "memory usage: 12.5 MB\n"
     ]
    }
   ],
   "source": [
    "X_test.info()"
   ]
  },
  {
   "cell_type": "markdown",
   "metadata": {},
   "source": [
    "[Scroll Top](#Assignment-3.2)"
   ]
  },
  {
   "cell_type": "markdown",
   "metadata": {},
   "source": [
    "---"
   ]
  },
  {
   "cell_type": "markdown",
   "metadata": {},
   "source": [
    "## 7. Scaling - Standardization"
   ]
  },
  {
   "cell_type": "code",
   "execution_count": 77,
   "metadata": {},
   "outputs": [
    {
     "data": {
      "text/plain": [
       "StandardScaler(copy=True, with_mean=True, with_std=True)"
      ]
     },
     "execution_count": 77,
     "metadata": {},
     "output_type": "execute_result"
    }
   ],
   "source": [
    "#feature Scaling \n",
    "scale = StandardScaler()\n",
    "scale"
   ]
  },
  {
   "cell_type": "code",
   "execution_count": 78,
   "metadata": {},
   "outputs": [
    {
     "name": "stderr",
     "output_type": "stream",
     "text": [
      "C:\\Users\\srush\\Anaconda3\\lib\\site-packages\\ipykernel_launcher.py:2: SettingWithCopyWarning: \n",
      "A value is trying to be set on a copy of a slice from a DataFrame.\n",
      "Try using .loc[row_indexer,col_indexer] = value instead\n",
      "\n",
      "See the caveats in the documentation: http://pandas.pydata.org/pandas-docs/stable/user_guide/indexing.html#returning-a-view-versus-a-copy\n",
      "  \n",
      "C:\\Users\\srush\\Anaconda3\\lib\\site-packages\\ipykernel_launcher.py:2: SettingWithCopyWarning: \n",
      "A value is trying to be set on a copy of a slice from a DataFrame.\n",
      "Try using .loc[row_indexer,col_indexer] = value instead\n",
      "\n",
      "See the caveats in the documentation: http://pandas.pydata.org/pandas-docs/stable/user_guide/indexing.html#returning-a-view-versus-a-copy\n",
      "  \n",
      "C:\\Users\\srush\\Anaconda3\\lib\\site-packages\\ipykernel_launcher.py:2: SettingWithCopyWarning: \n",
      "A value is trying to be set on a copy of a slice from a DataFrame.\n",
      "Try using .loc[row_indexer,col_indexer] = value instead\n",
      "\n",
      "See the caveats in the documentation: http://pandas.pydata.org/pandas-docs/stable/user_guide/indexing.html#returning-a-view-versus-a-copy\n",
      "  \n",
      "C:\\Users\\srush\\Anaconda3\\lib\\site-packages\\ipykernel_launcher.py:2: SettingWithCopyWarning: \n",
      "A value is trying to be set on a copy of a slice from a DataFrame.\n",
      "Try using .loc[row_indexer,col_indexer] = value instead\n",
      "\n",
      "See the caveats in the documentation: http://pandas.pydata.org/pandas-docs/stable/user_guide/indexing.html#returning-a-view-versus-a-copy\n",
      "  \n",
      "C:\\Users\\srush\\Anaconda3\\lib\\site-packages\\ipykernel_launcher.py:2: SettingWithCopyWarning: \n",
      "A value is trying to be set on a copy of a slice from a DataFrame.\n",
      "Try using .loc[row_indexer,col_indexer] = value instead\n",
      "\n",
      "See the caveats in the documentation: http://pandas.pydata.org/pandas-docs/stable/user_guide/indexing.html#returning-a-view-versus-a-copy\n",
      "  \n",
      "C:\\Users\\srush\\Anaconda3\\lib\\site-packages\\ipykernel_launcher.py:2: SettingWithCopyWarning: \n",
      "A value is trying to be set on a copy of a slice from a DataFrame.\n",
      "Try using .loc[row_indexer,col_indexer] = value instead\n",
      "\n",
      "See the caveats in the documentation: http://pandas.pydata.org/pandas-docs/stable/user_guide/indexing.html#returning-a-view-versus-a-copy\n",
      "  \n",
      "C:\\Users\\srush\\Anaconda3\\lib\\site-packages\\ipykernel_launcher.py:2: SettingWithCopyWarning: \n",
      "A value is trying to be set on a copy of a slice from a DataFrame.\n",
      "Try using .loc[row_indexer,col_indexer] = value instead\n",
      "\n",
      "See the caveats in the documentation: http://pandas.pydata.org/pandas-docs/stable/user_guide/indexing.html#returning-a-view-versus-a-copy\n",
      "  \n",
      "C:\\Users\\srush\\Anaconda3\\lib\\site-packages\\ipykernel_launcher.py:2: SettingWithCopyWarning: \n",
      "A value is trying to be set on a copy of a slice from a DataFrame.\n",
      "Try using .loc[row_indexer,col_indexer] = value instead\n",
      "\n",
      "See the caveats in the documentation: http://pandas.pydata.org/pandas-docs/stable/user_guide/indexing.html#returning-a-view-versus-a-copy\n",
      "  \n",
      "C:\\Users\\srush\\Anaconda3\\lib\\site-packages\\ipykernel_launcher.py:2: SettingWithCopyWarning: \n",
      "A value is trying to be set on a copy of a slice from a DataFrame.\n",
      "Try using .loc[row_indexer,col_indexer] = value instead\n",
      "\n",
      "See the caveats in the documentation: http://pandas.pydata.org/pandas-docs/stable/user_guide/indexing.html#returning-a-view-versus-a-copy\n",
      "  \n",
      "C:\\Users\\srush\\Anaconda3\\lib\\site-packages\\ipykernel_launcher.py:5: SettingWithCopyWarning: \n",
      "A value is trying to be set on a copy of a slice from a DataFrame.\n",
      "Try using .loc[row_indexer,col_indexer] = value instead\n",
      "\n",
      "See the caveats in the documentation: http://pandas.pydata.org/pandas-docs/stable/user_guide/indexing.html#returning-a-view-versus-a-copy\n",
      "  \"\"\"\n",
      "C:\\Users\\srush\\Anaconda3\\lib\\site-packages\\ipykernel_launcher.py:5: SettingWithCopyWarning: \n",
      "A value is trying to be set on a copy of a slice from a DataFrame.\n",
      "Try using .loc[row_indexer,col_indexer] = value instead\n",
      "\n",
      "See the caveats in the documentation: http://pandas.pydata.org/pandas-docs/stable/user_guide/indexing.html#returning-a-view-versus-a-copy\n",
      "  \"\"\"\n",
      "C:\\Users\\srush\\Anaconda3\\lib\\site-packages\\ipykernel_launcher.py:5: SettingWithCopyWarning: \n",
      "A value is trying to be set on a copy of a slice from a DataFrame.\n",
      "Try using .loc[row_indexer,col_indexer] = value instead\n",
      "\n",
      "See the caveats in the documentation: http://pandas.pydata.org/pandas-docs/stable/user_guide/indexing.html#returning-a-view-versus-a-copy\n",
      "  \"\"\"\n",
      "C:\\Users\\srush\\Anaconda3\\lib\\site-packages\\ipykernel_launcher.py:5: SettingWithCopyWarning: \n",
      "A value is trying to be set on a copy of a slice from a DataFrame.\n",
      "Try using .loc[row_indexer,col_indexer] = value instead\n",
      "\n",
      "See the caveats in the documentation: http://pandas.pydata.org/pandas-docs/stable/user_guide/indexing.html#returning-a-view-versus-a-copy\n",
      "  \"\"\"\n",
      "C:\\Users\\srush\\Anaconda3\\lib\\site-packages\\ipykernel_launcher.py:5: SettingWithCopyWarning: \n",
      "A value is trying to be set on a copy of a slice from a DataFrame.\n",
      "Try using .loc[row_indexer,col_indexer] = value instead\n",
      "\n",
      "See the caveats in the documentation: http://pandas.pydata.org/pandas-docs/stable/user_guide/indexing.html#returning-a-view-versus-a-copy\n",
      "  \"\"\"\n",
      "C:\\Users\\srush\\Anaconda3\\lib\\site-packages\\ipykernel_launcher.py:5: SettingWithCopyWarning: \n",
      "A value is trying to be set on a copy of a slice from a DataFrame.\n",
      "Try using .loc[row_indexer,col_indexer] = value instead\n",
      "\n",
      "See the caveats in the documentation: http://pandas.pydata.org/pandas-docs/stable/user_guide/indexing.html#returning-a-view-versus-a-copy\n",
      "  \"\"\"\n",
      "C:\\Users\\srush\\Anaconda3\\lib\\site-packages\\ipykernel_launcher.py:5: SettingWithCopyWarning: \n",
      "A value is trying to be set on a copy of a slice from a DataFrame.\n",
      "Try using .loc[row_indexer,col_indexer] = value instead\n",
      "\n",
      "See the caveats in the documentation: http://pandas.pydata.org/pandas-docs/stable/user_guide/indexing.html#returning-a-view-versus-a-copy\n",
      "  \"\"\"\n",
      "C:\\Users\\srush\\Anaconda3\\lib\\site-packages\\ipykernel_launcher.py:5: SettingWithCopyWarning: \n",
      "A value is trying to be set on a copy of a slice from a DataFrame.\n",
      "Try using .loc[row_indexer,col_indexer] = value instead\n",
      "\n",
      "See the caveats in the documentation: http://pandas.pydata.org/pandas-docs/stable/user_guide/indexing.html#returning-a-view-versus-a-copy\n",
      "  \"\"\"\n",
      "C:\\Users\\srush\\Anaconda3\\lib\\site-packages\\ipykernel_launcher.py:5: SettingWithCopyWarning: \n",
      "A value is trying to be set on a copy of a slice from a DataFrame.\n",
      "Try using .loc[row_indexer,col_indexer] = value instead\n",
      "\n",
      "See the caveats in the documentation: http://pandas.pydata.org/pandas-docs/stable/user_guide/indexing.html#returning-a-view-versus-a-copy\n",
      "  \"\"\"\n"
     ]
    }
   ],
   "source": [
    "for col in X_train.columns:\n",
    "      X_train[col] = scale.fit_transform(X_train[col].values.reshape(-1, 1))\n",
    "\n",
    "for col in X_val.columns:\n",
    "      X_val[col] = scale.fit_transform(X_val[col].values.reshape(-1, 1))\n",
    "\n",
    "for col in X_test.columns:\n",
    "      X_test[col] = scale.fit_transform(X_test[col].values.reshape(-1, 1))"
   ]
  },
  {
   "cell_type": "markdown",
   "metadata": {},
   "source": [
    "[Scroll Top](#Assignment-3.2)"
   ]
  },
  {
   "cell_type": "markdown",
   "metadata": {},
   "source": [
    "---"
   ]
  },
  {
   "cell_type": "markdown",
   "metadata": {},
   "source": [
    "## 8. Building a DNN Model"
   ]
  },
  {
   "cell_type": "code",
   "execution_count": 88,
   "metadata": {
    "scrolled": true
   },
   "outputs": [
    {
     "name": "stdout",
     "output_type": "stream",
     "text": [
      "Model: \"sequential_1\"\n",
      "_________________________________________________________________\n",
      "Layer (type)                 Output Shape              Param #   \n",
      "=================================================================\n",
      "dense_4 (Dense)              (None, 512)               5120      \n",
      "_________________________________________________________________\n",
      "activation_4 (Activation)    (None, 512)               0         \n",
      "_________________________________________________________________\n",
      "dense_5 (Dense)              (None, 256)               131328    \n",
      "_________________________________________________________________\n",
      "activation_5 (Activation)    (None, 256)               0         \n",
      "_________________________________________________________________\n",
      "dropout_1 (Dropout)          (None, 256)               0         \n",
      "_________________________________________________________________\n",
      "dense_6 (Dense)              (None, 128)               32896     \n",
      "_________________________________________________________________\n",
      "activation_6 (Activation)    (None, 128)               0         \n",
      "_________________________________________________________________\n",
      "dense_7 (Dense)              (None, 1)                 129       \n",
      "_________________________________________________________________\n",
      "activation_7 (Activation)    (None, 1)                 0         \n",
      "=================================================================\n",
      "Total params: 169,473\n",
      "Trainable params: 169,473\n",
      "Non-trainable params: 0\n",
      "_________________________________________________________________\n"
     ]
    }
   ],
   "source": [
    "# Define model\n",
    "model = Sequential()\n",
    "#Layer 1\n",
    "model.add(Dense(512,input_shape=(X_train.shape[1],)))\n",
    "model.add(Activation(\"relu\"))\n",
    "\n",
    "#Layer 2\n",
    "model.add(Dense(256))\n",
    "model.add(Activation(\"relu\"))\n",
    "model.add(Dropout(0.1))\n",
    "\n",
    "#Layer 3\n",
    "model.add(Dense(128))\n",
    "model.add(Activation(\"relu\"))\n",
    "\n",
    "#Last layer\n",
    "model.add(Dense(1))\n",
    "model.add(Activation(\"linear\"))\n",
    "\n",
    "\n",
    "#Print model Summary\n",
    "model.summary()"
   ]
  },
  {
   "cell_type": "code",
   "execution_count": 80,
   "metadata": {},
   "outputs": [],
   "source": [
    "# Compile model\n",
    "model.compile(loss= \"mean_squared_error\" , optimizer='rmsprop', metrics=[\"mean_squared_error\"])"
   ]
  },
  {
   "cell_type": "code",
   "execution_count": 81,
   "metadata": {},
   "outputs": [
    {
     "name": "stdout",
     "output_type": "stream",
     "text": [
      "Epoch 1/20\n",
      "12893/12893 [==============================] - 55s 4ms/step - loss: 18562600.0000 - mean_squared_error: 18562600.0000 - val_loss: 16546436.0000 - val_mean_squared_error: 16546436.0000\n",
      "Epoch 2/20\n",
      "12893/12893 [==============================] - 53s 4ms/step - loss: 15139599.0000 - mean_squared_error: 15139599.0000 - val_loss: 13400523.0000 - val_mean_squared_error: 13400523.0000\n",
      "Epoch 3/20\n",
      "12893/12893 [==============================] - 54s 4ms/step - loss: 11936861.0000 - mean_squared_error: 11936861.0000 - val_loss: 12244980.0000 - val_mean_squared_error: 12244980.0000\n",
      "Epoch 4/20\n",
      "12893/12893 [==============================] - 55s 4ms/step - loss: 11008630.0000 - mean_squared_error: 11008630.0000 - val_loss: 10395113.0000 - val_mean_squared_error: 10395113.0000\n",
      "Epoch 5/20\n",
      "12893/12893 [==============================] - 55s 4ms/step - loss: 10331119.0000 - mean_squared_error: 10331119.0000 - val_loss: 9862375.0000 - val_mean_squared_error: 9862375.0000\n",
      "Epoch 6/20\n",
      "12893/12893 [==============================] - 55s 4ms/step - loss: 9838342.0000 - mean_squared_error: 9838342.0000 - val_loss: 9300346.0000 - val_mean_squared_error: 9300346.0000\n",
      "Epoch 7/20\n",
      "12893/12893 [==============================] - 53s 4ms/step - loss: 9532905.0000 - mean_squared_error: 9532905.0000 - val_loss: 9962090.0000 - val_mean_squared_error: 9962090.0000\n",
      "Epoch 8/20\n",
      "12893/12893 [==============================] - 53s 4ms/step - loss: 9398466.0000 - mean_squared_error: 9398466.0000 - val_loss: 9074038.0000 - val_mean_squared_error: 9074038.0000\n",
      "Epoch 9/20\n",
      "12893/12893 [==============================] - 52s 4ms/step - loss: 9364874.0000 - mean_squared_error: 9364874.0000 - val_loss: 9102955.0000 - val_mean_squared_error: 9102955.0000\n",
      "Epoch 10/20\n",
      "12893/12893 [==============================] - 52s 4ms/step - loss: 9336318.0000 - mean_squared_error: 9336318.0000 - val_loss: 9624971.0000 - val_mean_squared_error: 9624971.0000\n",
      "Epoch 11/20\n",
      "12893/12893 [==============================] - 52s 4ms/step - loss: 9304493.0000 - mean_squared_error: 9304493.0000 - val_loss: 9105663.0000 - val_mean_squared_error: 9105663.0000\n",
      "Epoch 12/20\n",
      "12893/12893 [==============================] - 52s 4ms/step - loss: 9293941.0000 - mean_squared_error: 9293941.0000 - val_loss: 9287014.0000 - val_mean_squared_error: 9287014.0000\n",
      "Epoch 13/20\n",
      "12893/12893 [==============================] - 50s 4ms/step - loss: 9276850.0000 - mean_squared_error: 9276850.0000 - val_loss: 9121597.0000 - val_mean_squared_error: 9121597.0000\n"
     ]
    }
   ],
   "source": [
    "# # Fit Model\n",
    "# model.fit(X_train, y_train, epochs=20)\n",
    "\n",
    "#Calculating training and validation Accuracy\n",
    "earlystopping = callbacks.EarlyStopping(monitor =\"val_mean_squared_error\", mode =\"min\", patience = 5,  \n",
    "                                        restore_best_weights = True) \n",
    "\n",
    "\n",
    "history = model.fit(X_train, y_train, epochs =20, validation_data =(X_val, y_val), callbacks =[earlystopping]) "
   ]
  },
  {
   "cell_type": "markdown",
   "metadata": {},
   "source": [
    "**Training stopped at 13th epoch i.e., the model will start overfitting from 14th epoch.**"
   ]
  },
  {
   "cell_type": "code",
   "execution_count": 82,
   "metadata": {},
   "outputs": [
    {
     "name": "stdout",
     "output_type": "stream",
     "text": [
      "3012.315542012783\n",
      "0.8007678546000414\n"
     ]
    }
   ],
   "source": [
    "from sklearn.metrics import mean_squared_error,r2_score\n",
    "\n",
    "pred= model.predict(X_val)\n",
    "score = np.sqrt(mean_squared_error(y_val,pred))\n",
    "r2 = np.sqrt(r2_score(y_val,pred))\n",
    "\n",
    "print (score)\n",
    "print (r2)"
   ]
  },
  {
   "cell_type": "code",
   "execution_count": 83,
   "metadata": {},
   "outputs": [],
   "source": [
    "#Select the independent variables for test dataset\n",
    "#X_test = test[features].values\n",
    "\n",
    "#Prediction using Neural Network\n",
    "y_test_nn = model.predict(X_test)"
   ]
  },
  {
   "cell_type": "code",
   "execution_count": 84,
   "metadata": {},
   "outputs": [
    {
     "data": {
      "text/plain": [
       "array([[14389.542 ],\n",
       "       [10150.917 ],\n",
       "       [ 6472.591 ],\n",
       "       ...,\n",
       "       [13319.556 ],\n",
       "       [11241.272 ],\n",
       "       [ 3168.3694]], dtype=float32)"
      ]
     },
     "execution_count": 84,
     "metadata": {},
     "output_type": "execute_result"
    }
   ],
   "source": [
    "#Predicted values\n",
    "y_test_nn"
   ]
  },
  {
   "cell_type": "markdown",
   "metadata": {},
   "source": [
    "[Scroll Top](#Assignment-3.2)"
   ]
  },
  {
   "cell_type": "markdown",
   "metadata": {},
   "source": [
    "---"
   ]
  },
  {
   "cell_type": "markdown",
   "metadata": {},
   "source": [
    "## 9. Epoch Vs RMSE"
   ]
  },
  {
   "cell_type": "code",
   "execution_count": 85,
   "metadata": {
    "scrolled": true
   },
   "outputs": [
    {
     "data": {
      "image/png": "[encoded data removed]",
      "text/plain": [
       "<Figure size 864x360 with 1 Axes>"
      ]
     },
     "metadata": {
      "needs_background": "light"
     },
     "output_type": "display_data"
    }
   ],
   "source": [
    "# summarize history for loss\n",
    "plt.figure(figsize=(12, 5))\n",
    "plt.plot(history.history['loss'])\n",
    "plt.plot(history.history['val_loss'])\n",
    "plt.title('Model loss vs Epoch', size=16)\n",
    "plt.ylabel('Loss', size=13)\n",
    "plt.xlabel('Epoch', size=13)\n",
    "plt.legend(['Train', 'Validation'], loc='upper left')\n",
    "plt.show()"
   ]
  },
  {
   "cell_type": "code",
   "execution_count": 86,
   "metadata": {},
   "outputs": [
    {
     "data": {
      "image/png": "[encoded data removed]",
      "text/plain": [
       "<Figure size 864x360 with 1 Axes>"
      ]
     },
     "metadata": {
      "needs_background": "light"
     },
     "output_type": "display_data"
    }
   ],
   "source": [
    "# summarize history for RMSE\n",
    "plt.figure(figsize=(12, 5))\n",
    "plt.plot(history.history['mean_squared_error'])\n",
    "plt.plot(history.history['val_mean_squared_error'])\n",
    "plt.title('Model RMSE', size=16)\n",
    "plt.ylabel('RMSE', size=13)\n",
    "plt.xlabel('epoch', size=13)\n",
    "plt.legend(['train', 'validation'])\n",
    "plt.show()"
   ]
  },
  {
   "cell_type": "markdown",
   "metadata": {},
   "source": [
    "[Scroll Top](#Assignment-3.2)"
   ]
  },
  {
   "cell_type": "markdown",
   "metadata": {},
   "source": [
    "---"
   ]
  },
  {
   "cell_type": "markdown",
   "metadata": {},
   "source": [
    "## 10. Conclusion"
   ]
  },
  {
   "cell_type": "markdown",
   "metadata": {},
   "source": [
    "We predicted the purchase for Black Friday using DNN model and also calculated the RMSE on validation set."
   ]
  },
  {
   "cell_type": "markdown",
   "metadata": {},
   "source": [
    "[Scroll Top](#Assignment-3.2)"
   ]
  },
  {
   "cell_type": "markdown",
   "metadata": {},
   "source": [
    "---"
   ]
  },
  {
   "cell_type": "markdown",
   "metadata": {},
   "source": [
    "<div class=\"alert alert-block alert-info\">\n",
    "    <b>Copyright</b> 2020 Srushti Dhamangaonkar<br>\n",
    "    <br>Permission is hereby granted, free of charge, to any person obtaining a copy of this software and associated documentation files (the \"Software\"), to deal in the Software without restriction, including without limitation the rights to use, copy, modify, merge, publish, distribute, sublicense, and/or sell copies of the Software, and to permit persons to whom the Software is furnished to do so, subject to the following conditions:<br>\n",
    "    <br>The above copyright notice and this permission notice shall be included in all copies or substantial portions of the Software.<br>\n",
    "    <br>THE SOFTWARE IS PROVIDED \"AS IS\", WITHOUT WARRANTY OF ANY KIND, EXPRESS OR IMPLIED, INCLUDING BUT NOT LIMITED TO THE WARRANTIES OF MERCHANTABILITY, FITNESS FOR A PARTICULAR PURPOSE AND NONINFRINGEMENT. IN NO EVENT SHALL THE AUTHORS OR COPYRIGHT HOLDERS BE LIABLE FOR ANY CLAIM, DAMAGES OR OTHER LIABILITY, WHETHER IN AN ACTION OF CONTRACT, TORT OR OTHERWISE, ARISING FROM, OUT OF OR IN CONNECTION WITH THE SOFTWARE OR THE USE OR OTHER DEALINGS IN THE SOFTWARE.\n",
    "    <br><br>\n",
    "    \n",
    "<div class=\"text-center\">\n",
    "    <a rel=\"license\" href=\"http://creativecommons.org/licenses/by/3.0/us/\"><img alt=\"Creative Commons License\" style=\"border-width:0\" src=\"https://i.creativecommons.org/l/by/3.0/us/88x31.png\" /></a><br />This work is licensed under a <a rel=\"license\" href=\"http://creativecommons.org/licenses/by/3.0/us/\">Creative Commons Attribution 3.0 United States License</a>.<br>\n",
    "</div></div>"
   ]
  }
 ],
 "metadata": {
  "kernelspec": {
   "display_name": "Python 3",
   "language": "python",
   "name": "python3"
  },
  "language_info": {
   "codemirror_mode": {
    "name": "ipython",
    "version": 3
   },
   "file_extension": ".py",
   "mimetype": "text/x-python",
   "name": "python",
   "nbconvert_exporter": "python",
   "pygments_lexer": "ipython3",
   "version": "3.7.4"
  }
 },
 "nbformat": 4,
 "nbformat_minor": 2
}
