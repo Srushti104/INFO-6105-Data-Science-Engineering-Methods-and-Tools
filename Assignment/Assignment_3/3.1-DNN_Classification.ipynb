{
 "cells": [
  {
   "cell_type": "markdown",
   "metadata": {
    "cell_style": "center"
   },
   "source": [
    "<h1 style=\"text-align:center;\">Assignment 3.1</h1><br>\n",
    "<div class=\"alert alert-block alert-info\" style=\"text-align:left;\">\n",
    "    <h3 style=\"text-align:left;\"> Part 1: Expand the basic code for building a DNN on the Pima Indian Diabetic Dataset to include:</h3>\n",
    "        <ol style=\"list-style: lower-latin;\">\n",
    "            <li>Pre-process the data by scaling/standardizing the 8 columns.</li>\n",
    "            <br>\n",
    "            <li>Split the entire dataset into three parts instead of two as we currently do. One is train, two is validation, and then a test set. Build DNN model with train data, tune hyper-parameters with validation data, and finally evaluate performance on the test data.</li>\n",
    "            <br>\n",
    "            <li>Make Epoch versus train set accuracy, and validation set accuracy </li> \n",
    "            <br>\n",
    "            <li>Report results using nice ROC curves, report AUC values. </li>\n",
    "    </ol>\n",
    "</div>   "
   ]
  },
  {
   "cell_type": "markdown",
   "metadata": {},
   "source": [
    "## Table of Contents:"
   ]
  },
  {
   "cell_type": "markdown",
   "metadata": {},
   "source": [
    "1. [Imports and Configuration](#1.-Imports-and-Configuration)\n",
    "2. [Reading Data into Notebook](#2.-Reading-Data-into-Notebook)\n",
    "3. [Data Correlation Matrix](#3.-Data-Correlation-Matrix)\n",
    "4. [Visualise the Dataset](#4.-Visualise-the-Dataset)\n",
    "5. [Data Cleaning and Transformation](#5.-Data-Cleaning-and-Transformation)\n",
    "6. [Train - Valid - Test Split](#6.-Train---Valid---Test-Split) \n",
    "7. [Scaling - Standardization](#7.-Scaling---Standardization)\n",
    "8. [Building a DNN Model](#8.-Building-a-DNN-Model)\n",
    "9. [Epoch Vs Training Accuracy, Validation Accuracy](#9.-Epoch-Vs-Training-Accuracy,-Validation-Accuracy)\n",
    "10. [Confusion Matrix](#10.-Confusion-Matrix)\n",
    "11. [ROC Curve](#11.-ROC-Curve)\n",
    "12. [Area Under Curve (AUC)](#12.-Area-Under-Curve-(AUC))\n",
    "13. [Conclusion](#13.-Conclusion)"
   ]
  },
  {
   "cell_type": "markdown",
   "metadata": {},
   "source": [
    "---"
   ]
  },
  {
   "cell_type": "markdown",
   "metadata": {},
   "source": [
    ">This Kaggle challenge is about predicting the onset of diabetes in 5 years or less. \n",
    "Target variable is Outcome. 1 = yes, the person became diabetic in 5 years, and 0 = No, \n",
    "the person did not. This is a binary classification problem. Please check out the Kaggle\n",
    "link here to see feature \n",
    "details - https://www.kaggle.com/uciml/pima-indians-diabetes-database/data  \n",
    ">\n",
    ">   **Pregnancies**: Number of times pregnant  \n",
    "   **Glucose**: Plasma glucose concentration over 2 hours in an oral glucose tolerance test  \n",
    "   **BloodPressure**: Diastolic blood pressure (mm Hg)  \n",
    "   **SkinThickness**: Triceps skin fold thickness (mm)  \n",
    "   **Insulin**: 2-Hour serum insulin (mu U/ml)  \n",
    "   **BMI**: Body mass index (weight in kg/(height in m)2)  \n",
    "   **DiabetesPedigreeFunction**: Diabetes pedigree function (a function which scores likelihood of diabetes based on family history)  \n",
    "   **Age**: Age (years)  \n",
    "   **Outcome**: Class variable (0 if non-diabetic, 1 if diabetic)  "
   ]
  },
  {
   "cell_type": "markdown",
   "metadata": {},
   "source": [
    "---"
   ]
  },
  {
   "cell_type": "code",
   "execution_count": 1,
   "metadata": {},
   "outputs": [
    {
     "data": {
      "text/html": [
       "\n",
       "<style>\n",
       ".output_png {\n",
       "    display: table-cell;\n",
       "    text-align: center;\n",
       "    vertical-align: middle;\n",
       "}\n",
       "</style>\n"
      ],
      "text/plain": [
       "<IPython.core.display.HTML object>"
      ]
     },
     "execution_count": 1,
     "metadata": {},
     "output_type": "execute_result"
    }
   ],
   "source": [
    "'''Below code is used to cente the output plots to center. \n",
    "Refrerence: https://stackoverflow.com/questions/18380168/center-output-plots-in-the-notebook'''\n",
    "\n",
    "from IPython.core.display import HTML\n",
    "HTML(\"\"\"\n",
    "<style>\n",
    ".output_png {\n",
    "    display: table-cell;\n",
    "    text-align: center;\n",
    "    vertical-align: middle;\n",
    "}\n",
    "</style>\n",
    "\"\"\")"
   ]
  },
  {
   "cell_type": "markdown",
   "metadata": {},
   "source": [
    "---"
   ]
  },
  {
   "cell_type": "markdown",
   "metadata": {},
   "source": [
    "## 1. Imports and Configuration"
   ]
  },
  {
   "cell_type": "code",
   "execution_count": 2,
   "metadata": {},
   "outputs": [],
   "source": [
    "import seaborn as sns\n",
    "import numpy as np\n",
    "import pandas as pd\n",
    "import tensorflow as tf\n",
    "import matplotlib.pyplot as plt\n",
    "from sklearn.model_selection import train_test_split\n",
    "from sklearn.preprocessing import StandardScaler\n",
    "from sklearn.metrics import confusion_matrix,classification_report\n",
    "import keras\n",
    "from keras.datasets import mnist\n",
    "from keras.models import Sequential\n",
    "from keras.layers import Dense, Dropout\n",
    "from keras.callbacks import ModelCheckpoint\n",
    "from keras.utils import plot_model\n",
    "from keras import callbacks \n",
    "\n",
    "%matplotlib inline"
   ]
  },
  {
   "cell_type": "code",
   "execution_count": 3,
   "metadata": {},
   "outputs": [
    {
     "data": {
      "text/plain": [
       "'C:\\\\Users\\\\srush\\\\Documents\\\\Srushti NEU\\\\Full Summer 2020\\\\INFO 6105 Data Science Engineering Methods and Tools\\\\Assignment\\\\Assignment 3'"
      ]
     },
     "execution_count": 3,
     "metadata": {},
     "output_type": "execute_result"
    }
   ],
   "source": [
    "%pwd"
   ]
  },
  {
   "cell_type": "code",
   "execution_count": 4,
   "metadata": {},
   "outputs": [
    {
     "name": "stdout",
     "output_type": "stream",
     "text": [
      "Assignment 3.1 - DNN Classification.ipynb\n",
      "Assignment 3.2 - DNN Regression .ipynb\n",
      "DataSet\n"
     ]
    }
   ],
   "source": [
    "!ls"
   ]
  },
  {
   "cell_type": "code",
   "execution_count": 5,
   "metadata": {},
   "outputs": [],
   "source": [
    "#Define a variable that points to this. This will let you avoid typing the long path everytime you need to use it\n",
    "my_path = 'C:\\\\Users\\\\srush\\\\Documents\\\\Srushti NEU\\\\Full Summer 2020\\\\INFO 6105 Data Science Engineering Methods and Tools\\\\Assignment\\\\Assignment 3'"
   ]
  },
  {
   "cell_type": "markdown",
   "metadata": {},
   "source": [
    "[Scroll Top](#Assignment-3.1)"
   ]
  },
  {
   "cell_type": "markdown",
   "metadata": {},
   "source": [
    "---"
   ]
  },
  {
   "cell_type": "markdown",
   "metadata": {},
   "source": [
    "## 2. Reading Data into Notebook"
   ]
  },
  {
   "cell_type": "code",
   "execution_count": 6,
   "metadata": {},
   "outputs": [
    {
     "data": {
      "text/html": [
       "<div>\n",
       "<style scoped>\n",
       "    .dataframe tbody tr th:only-of-type {\n",
       "        vertical-align: middle;\n",
       "    }\n",
       "\n",
       "    .dataframe tbody tr th {\n",
       "        vertical-align: top;\n",
       "    }\n",
       "\n",
       "    .dataframe thead th {\n",
       "        text-align: right;\n",
       "    }\n",
       "</style>\n",
       "<table border=\"1\" class=\"dataframe\">\n",
       "  <thead>\n",
       "    <tr style=\"text-align: right;\">\n",
       "      <th></th>\n",
       "      <th>Pregnancies</th>\n",
       "      <th>Glucose</th>\n",
       "      <th>BloodPressure</th>\n",
       "      <th>SkinThickness</th>\n",
       "      <th>Insulin</th>\n",
       "      <th>BMI</th>\n",
       "      <th>DiabetesPedigreeFunction</th>\n",
       "      <th>Age</th>\n",
       "      <th>HasDiabetes</th>\n",
       "    </tr>\n",
       "  </thead>\n",
       "  <tbody>\n",
       "    <tr>\n",
       "      <td>0</td>\n",
       "      <td>6</td>\n",
       "      <td>148</td>\n",
       "      <td>72</td>\n",
       "      <td>35</td>\n",
       "      <td>0</td>\n",
       "      <td>33.6</td>\n",
       "      <td>0.627</td>\n",
       "      <td>50</td>\n",
       "      <td>1</td>\n",
       "    </tr>\n",
       "    <tr>\n",
       "      <td>1</td>\n",
       "      <td>1</td>\n",
       "      <td>85</td>\n",
       "      <td>66</td>\n",
       "      <td>29</td>\n",
       "      <td>0</td>\n",
       "      <td>26.6</td>\n",
       "      <td>0.351</td>\n",
       "      <td>31</td>\n",
       "      <td>0</td>\n",
       "    </tr>\n",
       "    <tr>\n",
       "      <td>2</td>\n",
       "      <td>8</td>\n",
       "      <td>183</td>\n",
       "      <td>64</td>\n",
       "      <td>0</td>\n",
       "      <td>0</td>\n",
       "      <td>23.3</td>\n",
       "      <td>0.672</td>\n",
       "      <td>32</td>\n",
       "      <td>1</td>\n",
       "    </tr>\n",
       "    <tr>\n",
       "      <td>3</td>\n",
       "      <td>1</td>\n",
       "      <td>89</td>\n",
       "      <td>66</td>\n",
       "      <td>23</td>\n",
       "      <td>94</td>\n",
       "      <td>28.1</td>\n",
       "      <td>0.167</td>\n",
       "      <td>21</td>\n",
       "      <td>0</td>\n",
       "    </tr>\n",
       "    <tr>\n",
       "      <td>4</td>\n",
       "      <td>0</td>\n",
       "      <td>137</td>\n",
       "      <td>40</td>\n",
       "      <td>35</td>\n",
       "      <td>168</td>\n",
       "      <td>43.1</td>\n",
       "      <td>2.288</td>\n",
       "      <td>33</td>\n",
       "      <td>1</td>\n",
       "    </tr>\n",
       "  </tbody>\n",
       "</table>\n",
       "</div>"
      ],
      "text/plain": [
       "   Pregnancies  Glucose  BloodPressure  SkinThickness  Insulin   BMI  \\\n",
       "0            6      148             72             35        0  33.6   \n",
       "1            1       85             66             29        0  26.6   \n",
       "2            8      183             64              0        0  23.3   \n",
       "3            1       89             66             23       94  28.1   \n",
       "4            0      137             40             35      168  43.1   \n",
       "\n",
       "   DiabetesPedigreeFunction  Age  HasDiabetes  \n",
       "0                     0.627   50            1  \n",
       "1                     0.351   31            0  \n",
       "2                     0.672   32            1  \n",
       "3                     0.167   21            0  \n",
       "4                     2.288   33            1  "
      ]
     },
     "execution_count": 6,
     "metadata": {},
     "output_type": "execute_result"
    }
   ],
   "source": [
    "# We read the data from the CSV file\n",
    "# We placed the dataset under datasets/ sub folder\n",
    "df = pd.read_csv(f'{my_path}/DataSet/pima-indians-diabetes.data',header = None)\n",
    "\n",
    "\n",
    "# As the CSV doesn't contain any header, we add column names using the description from the original dataset website(kaggle)\n",
    "df.columns = [\"Pregnancies\", \"Glucose\", \"BloodPressure\", \"SkinThickness\", \"Insulin\", \"BMI\", \n",
    "            \"DiabetesPedigreeFunction\", \"Age\", \"HasDiabetes\"]\n",
    "\n",
    "# Check the shape of the data: we have 768 rows and 9 columns: the first 8 columns are features while the last one\n",
    "# is the supervised label (1 = has diabetes, 0 = no diabetes)\n",
    "df.shape\n",
    "\n",
    "# Visualise a table with the first rows of the dataset, to better understand the data format\n",
    "df.head()"
   ]
  },
  {
   "cell_type": "code",
   "execution_count": 7,
   "metadata": {},
   "outputs": [
    {
     "name": "stdout",
     "output_type": "stream",
     "text": [
      "<class 'pandas.core.frame.DataFrame'>\n",
      "RangeIndex: 768 entries, 0 to 767\n",
      "Data columns (total 9 columns):\n",
      "Pregnancies                 768 non-null int64\n",
      "Glucose                     768 non-null int64\n",
      "BloodPressure               768 non-null int64\n",
      "SkinThickness               768 non-null int64\n",
      "Insulin                     768 non-null int64\n",
      "BMI                         768 non-null float64\n",
      "DiabetesPedigreeFunction    768 non-null float64\n",
      "Age                         768 non-null int64\n",
      "HasDiabetes                 768 non-null int64\n",
      "dtypes: float64(2), int64(7)\n",
      "memory usage: 54.1 KB\n"
     ]
    }
   ],
   "source": [
    "df.info()"
   ]
  },
  {
   "cell_type": "code",
   "execution_count": 8,
   "metadata": {},
   "outputs": [
    {
     "data": {
      "text/plain": [
       "False"
      ]
     },
     "execution_count": 8,
     "metadata": {},
     "output_type": "execute_result"
    }
   ],
   "source": [
    "df.isnull().values.any()"
   ]
  },
  {
   "cell_type": "markdown",
   "metadata": {},
   "source": [
    "[Scroll Top](#Assignment-3.1)"
   ]
  },
  {
   "cell_type": "markdown",
   "metadata": {},
   "source": [
    "---"
   ]
  },
  {
   "cell_type": "markdown",
   "metadata": {},
   "source": [
    "## 3. Data Correlation Matrix"
   ]
  },
  {
   "cell_type": "markdown",
   "metadata": {},
   "source": [
    ">The correlation matrix is an important tool to understand the correlation between the different characteristics. The values range from -1 to 1 and the closer a value is to 1 the bettere correlation there is between two characteristics. Let's calculate the correlation matrix for our dataset."
   ]
  },
  {
   "cell_type": "code",
   "execution_count": 9,
   "metadata": {},
   "outputs": [
    {
     "data": {
      "text/html": [
       "<div>\n",
       "<style scoped>\n",
       "    .dataframe tbody tr th:only-of-type {\n",
       "        vertical-align: middle;\n",
       "    }\n",
       "\n",
       "    .dataframe tbody tr th {\n",
       "        vertical-align: top;\n",
       "    }\n",
       "\n",
       "    .dataframe thead th {\n",
       "        text-align: right;\n",
       "    }\n",
       "</style>\n",
       "<table border=\"1\" class=\"dataframe\">\n",
       "  <thead>\n",
       "    <tr style=\"text-align: right;\">\n",
       "      <th></th>\n",
       "      <th>Pregnancies</th>\n",
       "      <th>Glucose</th>\n",
       "      <th>BloodPressure</th>\n",
       "      <th>SkinThickness</th>\n",
       "      <th>Insulin</th>\n",
       "      <th>BMI</th>\n",
       "      <th>DiabetesPedigreeFunction</th>\n",
       "      <th>Age</th>\n",
       "      <th>HasDiabetes</th>\n",
       "    </tr>\n",
       "  </thead>\n",
       "  <tbody>\n",
       "    <tr>\n",
       "      <td>Pregnancies</td>\n",
       "      <td>1.000000</td>\n",
       "      <td>0.129459</td>\n",
       "      <td>0.141282</td>\n",
       "      <td>-0.081672</td>\n",
       "      <td>-0.073535</td>\n",
       "      <td>0.017683</td>\n",
       "      <td>-0.033523</td>\n",
       "      <td>0.544341</td>\n",
       "      <td>0.221898</td>\n",
       "    </tr>\n",
       "    <tr>\n",
       "      <td>Glucose</td>\n",
       "      <td>0.129459</td>\n",
       "      <td>1.000000</td>\n",
       "      <td>0.152590</td>\n",
       "      <td>0.057328</td>\n",
       "      <td>0.331357</td>\n",
       "      <td>0.221071</td>\n",
       "      <td>0.137337</td>\n",
       "      <td>0.263514</td>\n",
       "      <td>0.466581</td>\n",
       "    </tr>\n",
       "    <tr>\n",
       "      <td>BloodPressure</td>\n",
       "      <td>0.141282</td>\n",
       "      <td>0.152590</td>\n",
       "      <td>1.000000</td>\n",
       "      <td>0.207371</td>\n",
       "      <td>0.088933</td>\n",
       "      <td>0.281805</td>\n",
       "      <td>0.041265</td>\n",
       "      <td>0.239528</td>\n",
       "      <td>0.065068</td>\n",
       "    </tr>\n",
       "    <tr>\n",
       "      <td>SkinThickness</td>\n",
       "      <td>-0.081672</td>\n",
       "      <td>0.057328</td>\n",
       "      <td>0.207371</td>\n",
       "      <td>1.000000</td>\n",
       "      <td>0.436783</td>\n",
       "      <td>0.392573</td>\n",
       "      <td>0.183928</td>\n",
       "      <td>-0.113970</td>\n",
       "      <td>0.074752</td>\n",
       "    </tr>\n",
       "    <tr>\n",
       "      <td>Insulin</td>\n",
       "      <td>-0.073535</td>\n",
       "      <td>0.331357</td>\n",
       "      <td>0.088933</td>\n",
       "      <td>0.436783</td>\n",
       "      <td>1.000000</td>\n",
       "      <td>0.197859</td>\n",
       "      <td>0.185071</td>\n",
       "      <td>-0.042163</td>\n",
       "      <td>0.130548</td>\n",
       "    </tr>\n",
       "    <tr>\n",
       "      <td>BMI</td>\n",
       "      <td>0.017683</td>\n",
       "      <td>0.221071</td>\n",
       "      <td>0.281805</td>\n",
       "      <td>0.392573</td>\n",
       "      <td>0.197859</td>\n",
       "      <td>1.000000</td>\n",
       "      <td>0.140647</td>\n",
       "      <td>0.036242</td>\n",
       "      <td>0.292695</td>\n",
       "    </tr>\n",
       "    <tr>\n",
       "      <td>DiabetesPedigreeFunction</td>\n",
       "      <td>-0.033523</td>\n",
       "      <td>0.137337</td>\n",
       "      <td>0.041265</td>\n",
       "      <td>0.183928</td>\n",
       "      <td>0.185071</td>\n",
       "      <td>0.140647</td>\n",
       "      <td>1.000000</td>\n",
       "      <td>0.033561</td>\n",
       "      <td>0.173844</td>\n",
       "    </tr>\n",
       "    <tr>\n",
       "      <td>Age</td>\n",
       "      <td>0.544341</td>\n",
       "      <td>0.263514</td>\n",
       "      <td>0.239528</td>\n",
       "      <td>-0.113970</td>\n",
       "      <td>-0.042163</td>\n",
       "      <td>0.036242</td>\n",
       "      <td>0.033561</td>\n",
       "      <td>1.000000</td>\n",
       "      <td>0.238356</td>\n",
       "    </tr>\n",
       "    <tr>\n",
       "      <td>HasDiabetes</td>\n",
       "      <td>0.221898</td>\n",
       "      <td>0.466581</td>\n",
       "      <td>0.065068</td>\n",
       "      <td>0.074752</td>\n",
       "      <td>0.130548</td>\n",
       "      <td>0.292695</td>\n",
       "      <td>0.173844</td>\n",
       "      <td>0.238356</td>\n",
       "      <td>1.000000</td>\n",
       "    </tr>\n",
       "  </tbody>\n",
       "</table>\n",
       "</div>"
      ],
      "text/plain": [
       "                          Pregnancies   Glucose  BloodPressure  SkinThickness  \\\n",
       "Pregnancies                  1.000000  0.129459       0.141282      -0.081672   \n",
       "Glucose                      0.129459  1.000000       0.152590       0.057328   \n",
       "BloodPressure                0.141282  0.152590       1.000000       0.207371   \n",
       "SkinThickness               -0.081672  0.057328       0.207371       1.000000   \n",
       "Insulin                     -0.073535  0.331357       0.088933       0.436783   \n",
       "BMI                          0.017683  0.221071       0.281805       0.392573   \n",
       "DiabetesPedigreeFunction    -0.033523  0.137337       0.041265       0.183928   \n",
       "Age                          0.544341  0.263514       0.239528      -0.113970   \n",
       "HasDiabetes                  0.221898  0.466581       0.065068       0.074752   \n",
       "\n",
       "                           Insulin       BMI  DiabetesPedigreeFunction  \\\n",
       "Pregnancies              -0.073535  0.017683                 -0.033523   \n",
       "Glucose                   0.331357  0.221071                  0.137337   \n",
       "BloodPressure             0.088933  0.281805                  0.041265   \n",
       "SkinThickness             0.436783  0.392573                  0.183928   \n",
       "Insulin                   1.000000  0.197859                  0.185071   \n",
       "BMI                       0.197859  1.000000                  0.140647   \n",
       "DiabetesPedigreeFunction  0.185071  0.140647                  1.000000   \n",
       "Age                      -0.042163  0.036242                  0.033561   \n",
       "HasDiabetes               0.130548  0.292695                  0.173844   \n",
       "\n",
       "                               Age  HasDiabetes  \n",
       "Pregnancies               0.544341     0.221898  \n",
       "Glucose                   0.263514     0.466581  \n",
       "BloodPressure             0.239528     0.065068  \n",
       "SkinThickness            -0.113970     0.074752  \n",
       "Insulin                  -0.042163     0.130548  \n",
       "BMI                       0.036242     0.292695  \n",
       "DiabetesPedigreeFunction  0.033561     0.173844  \n",
       "Age                       1.000000     0.238356  \n",
       "HasDiabetes               0.238356     1.000000  "
      ]
     },
     "execution_count": 9,
     "metadata": {},
     "output_type": "execute_result"
    }
   ],
   "source": [
    "corr = df.corr()\n",
    "corr"
   ]
  },
  {
   "cell_type": "code",
   "execution_count": 10,
   "metadata": {
    "cell_style": "center"
   },
   "outputs": [
    {
     "data": {
      "text/plain": [
       "<matplotlib.axes._subplots.AxesSubplot at 0x26bcc999b88>"
      ]
     },
     "execution_count": 10,
     "metadata": {},
     "output_type": "execute_result"
    },
    {
     "data": {
      "image/png": "[encoded data removed]",
      "text/plain": [
       "<Figure size 720x576 with 2 Axes>"
      ]
     },
     "metadata": {
      "needs_background": "light"
     },
     "output_type": "display_data"
    }
   ],
   "source": [
    "%matplotlib inline\n",
    "import seaborn as sns\n",
    "fig, ax = plt.subplots(figsize=(10, 8))\n",
    "sns.heatmap(corr, annot = True)"
   ]
  },
  {
   "cell_type": "markdown",
   "metadata": {},
   "source": [
    "[Scroll Top](#Assignment-3.1)"
   ]
  },
  {
   "cell_type": "markdown",
   "metadata": {},
   "source": [
    "---"
   ]
  },
  {
   "cell_type": "markdown",
   "metadata": {},
   "source": [
    "## 4. Visualise the Dataset"
   ]
  },
  {
   "cell_type": "code",
   "execution_count": 11,
   "metadata": {
    "cell_style": "center"
   },
   "outputs": [
    {
     "name": "stderr",
     "output_type": "stream",
     "text": [
      "C:\\Users\\srush\\Anaconda3\\lib\\site-packages\\pandas\\plotting\\_matplotlib\\tools.py:307: MatplotlibDeprecationWarning: \n",
      "The rowNum attribute was deprecated in Matplotlib 3.2 and will be removed two minor releases later. Use ax.get_subplotspec().rowspan.start instead.\n",
      "  layout[ax.rowNum, ax.colNum] = ax.get_visible()\n",
      "C:\\Users\\srush\\Anaconda3\\lib\\site-packages\\pandas\\plotting\\_matplotlib\\tools.py:307: MatplotlibDeprecationWarning: \n",
      "The colNum attribute was deprecated in Matplotlib 3.2 and will be removed two minor releases later. Use ax.get_subplotspec().colspan.start instead.\n",
      "  layout[ax.rowNum, ax.colNum] = ax.get_visible()\n",
      "C:\\Users\\srush\\Anaconda3\\lib\\site-packages\\pandas\\plotting\\_matplotlib\\tools.py:313: MatplotlibDeprecationWarning: \n",
      "The rowNum attribute was deprecated in Matplotlib 3.2 and will be removed two minor releases later. Use ax.get_subplotspec().rowspan.start instead.\n",
      "  if not layout[ax.rowNum + 1, ax.colNum]:\n",
      "C:\\Users\\srush\\Anaconda3\\lib\\site-packages\\pandas\\plotting\\_matplotlib\\tools.py:313: MatplotlibDeprecationWarning: \n",
      "The colNum attribute was deprecated in Matplotlib 3.2 and will be removed two minor releases later. Use ax.get_subplotspec().colspan.start instead.\n",
      "  if not layout[ax.rowNum + 1, ax.colNum]:\n"
     ]
    },
    {
     "data": {
      "image/png": "[encoded data removed]",
      "text/plain": [
       "<Figure size 1440x1080 with 9 Axes>"
      ]
     },
     "metadata": {
      "needs_background": "light"
     },
     "output_type": "display_data"
    }
   ],
   "source": [
    "import matplotlib.pyplot as plt\n",
    "df.hist(bins=50, figsize=(20, 15))\n",
    "plt.show()"
   ]
  },
  {
   "cell_type": "markdown",
   "metadata": {},
   "source": [
    "[Scroll Top](#Assignment-3.1)"
   ]
  },
  {
   "cell_type": "markdown",
   "metadata": {},
   "source": [
    "---"
   ]
  },
  {
   "cell_type": "markdown",
   "metadata": {},
   "source": [
    "## 5. Data Cleaning and Transformation"
   ]
  },
  {
   "cell_type": "markdown",
   "metadata": {},
   "source": [
    ">An important thing I notice in the dataset (and that wasn't obvious at the beginning) is the fact that some people have null (zero) values for some of the features: it's not quite possible to have 0 as BMI or for the blood pressure.\n",
    ">We will calculate the median value for a specific column and substitute that value everywhere (in the same column) we have zero."
   ]
  },
  {
   "cell_type": "code",
   "execution_count": 12,
   "metadata": {},
   "outputs": [],
   "source": [
    "# Calculate the median value for BMI\n",
    "median_bmi = df['BMI'].median()\n",
    "\n",
    "# Substitute it in the BMI column of the dataset where values are 0\n",
    "df['BMI'] = df['BMI'].replace(to_replace=0, value=median_bmi)"
   ]
  },
  {
   "cell_type": "code",
   "execution_count": 13,
   "metadata": {},
   "outputs": [],
   "source": [
    "# Calculate the median value for Blood Pressure\n",
    "median_bloodp = df['BloodPressure'].median()\n",
    "\n",
    "# Substitute it in the BloodP column of the dataset where values are 0\n",
    "df['BloodPressure'] = df['BloodPressure'].replace(to_replace=0, value=median_bloodp)"
   ]
  },
  {
   "cell_type": "code",
   "execution_count": 14,
   "metadata": {},
   "outputs": [],
   "source": [
    "# Calculate the median value for Glucose\n",
    "median_Glucose = df['Glucose'].median()\n",
    "\n",
    "# Substitute it in the PlGlcConc column of the dataset where values are 0\n",
    "df['Glucose'] = df['Glucose'].replace(to_replace=0, value=median_Glucose)"
   ]
  },
  {
   "cell_type": "code",
   "execution_count": 15,
   "metadata": {},
   "outputs": [],
   "source": [
    "# Calculate the median value for SkinThickness\n",
    "median_SkinThickness = df['SkinThickness'].median()\n",
    "\n",
    "# Substitute it in the SkinThick column of the dataset where values are 0\n",
    "df['SkinThickness'] = df['SkinThickness'].replace(to_replace=0, value=median_SkinThickness)"
   ]
  },
  {
   "cell_type": "code",
   "execution_count": 16,
   "metadata": {},
   "outputs": [],
   "source": [
    "# Calculate the median value for Insulin\n",
    "median_Insulin = df['Insulin'].median()\n",
    "\n",
    "# Substitute it in the Insulin column of the dataset where values are 0\n",
    "df['Insulin'] = df['Insulin'].replace(to_replace=0, value=median_Insulin)"
   ]
  },
  {
   "cell_type": "markdown",
   "metadata": {},
   "source": [
    "[Scroll Top](#Assignment-3.1)"
   ]
  },
  {
   "cell_type": "markdown",
   "metadata": {},
   "source": [
    "---"
   ]
  },
  {
   "cell_type": "markdown",
   "metadata": {},
   "source": [
    "## 6. Train - Valid - Test Split"
   ]
  },
  {
   "cell_type": "code",
   "execution_count": 17,
   "metadata": {},
   "outputs": [],
   "source": [
    "#Separate out X (independent features) and y (dependent feature)\n",
    "\n",
    "X = df.iloc[:, :8]\n",
    "y = df.iloc[:, 8:9]"
   ]
  },
  {
   "cell_type": "code",
   "execution_count": 19,
   "metadata": {},
   "outputs": [
    {
     "name": "stdout",
     "output_type": "stream",
     "text": [
      "(460, 8) (154, 8) (154, 8)\n"
     ]
    }
   ],
   "source": [
    "\n",
    "#train-test split\n",
    "X_train, X_test, y_train, y_test = train_test_split(X, y, test_size=0.2, random_state=1)\n",
    "\n",
    "#train-validation split\n",
    "X_train, X_val, y_train, y_val = train_test_split(X_train, y_train, test_size=0.25, random_state=1)\n",
    "\n",
    "print(X_train.shape,X_val.shape,X_test.shape)"
   ]
  },
  {
   "cell_type": "markdown",
   "metadata": {},
   "source": [
    "[Scroll Top](#Assignment-3.1)"
   ]
  },
  {
   "cell_type": "markdown",
   "metadata": {},
   "source": [
    "---"
   ]
  },
  {
   "cell_type": "markdown",
   "metadata": {},
   "source": [
    "## 7. Scaling - Standardization"
   ]
  },
  {
   "cell_type": "code",
   "execution_count": 20,
   "metadata": {},
   "outputs": [
    {
     "data": {
      "text/plain": [
       "StandardScaler(copy=True, with_mean=True, with_std=True)"
      ]
     },
     "execution_count": 20,
     "metadata": {},
     "output_type": "execute_result"
    }
   ],
   "source": [
    "#feature Scaling \n",
    "scale = StandardScaler()\n",
    "scale"
   ]
  },
  {
   "cell_type": "code",
   "execution_count": 21,
   "metadata": {},
   "outputs": [],
   "source": [
    "X_train_scaled = scale.fit_transform(X_train)\n",
    "X_test_scaled = scale.fit_transform(X_test)\n",
    "X_val_scaled = scale.fit_transform(X_val)"
   ]
  },
  {
   "cell_type": "code",
   "execution_count": 22,
   "metadata": {},
   "outputs": [],
   "source": [
    "# copy of datasets\n",
    "X_train_stand = X_train_scaled.copy()\n",
    "X_test_stand = X_test_scaled.copy()\n",
    "X_val_stand = X_val_scaled.copy()"
   ]
  },
  {
   "cell_type": "markdown",
   "metadata": {},
   "source": [
    "[Scroll Top](#Assignment-3.1)"
   ]
  },
  {
   "cell_type": "markdown",
   "metadata": {},
   "source": [
    "---"
   ]
  },
  {
   "cell_type": "markdown",
   "metadata": {},
   "source": [
    "## 8. Building a DNN Model"
   ]
  },
  {
   "cell_type": "code",
   "execution_count": 24,
   "metadata": {},
   "outputs": [],
   "source": [
    "#initializing model\n",
    "model = Sequential()\n",
    "\n",
    "# first hidden layer consists of 32 nodes. The input dimensions are 8 due to there being 8 columns in the training data\n",
    "model.add(Dense(32, activation='relu', input_dim=8))\n",
    "\n",
    "# the second hidden layer consists of 16 nodes\n",
    "model.add(Dense(16, activation='relu'))\n",
    "\n",
    "# the output layer consists of a single node as we are dealing with binary classification\n",
    "# the sigmoid activation function 'squashes' the output between 0 and 1\n",
    "model.add(Dense(1, activation='sigmoid'))"
   ]
  },
  {
   "cell_type": "code",
   "execution_count": 25,
   "metadata": {},
   "outputs": [
    {
     "name": "stdout",
     "output_type": "stream",
     "text": [
      "Compiling and training model...\n"
     ]
    },
    {
     "data": {
      "text/plain": [
       "<tensorflow.python.keras.callbacks.History at 0x26bd0cb8348>"
      ]
     },
     "execution_count": 25,
     "metadata": {},
     "output_type": "execute_result"
    }
   ],
   "source": [
    "# compile and train the model\n",
    "print(\"Compiling and training model...\")\n",
    "model.compile(optimizer='adam', loss='binary_crossentropy', metrics=['accuracy'])\n",
    "model.fit(X_train_stand, y_train, epochs=20, verbose=False)"
   ]
  },
  {
   "cell_type": "code",
   "execution_count": 26,
   "metadata": {},
   "outputs": [
    {
     "name": "stdout",
     "output_type": "stream",
     "text": [
      "Results:\n",
      "--------\n",
      "Training Accuracy: 79.13%\n",
      "\n",
      "Validation Accuracy: 75.97%\n",
      "\n"
     ]
    }
   ],
   "source": [
    "# accuracy results (training and validation)\n",
    "print(\"Results:\")\n",
    "print(\"--------\")\n",
    "scores = model.evaluate(X_train_stand, y_train, verbose=False)\n",
    "print(\"Training Accuracy: %.2f%%\\n\" % (scores[1] * 100))\n",
    "scores = model.evaluate(X_val_stand, y_val, verbose=False)\n",
    "print(\"Validation Accuracy: %.2f%%\\n\" % (scores[1] * 100))"
   ]
  },
  {
   "cell_type": "markdown",
   "metadata": {},
   "source": [
    "[Scroll Top](#Assignment-3.1)"
   ]
  },
  {
   "cell_type": "markdown",
   "metadata": {},
   "source": [
    "---"
   ]
  },
  {
   "cell_type": "markdown",
   "metadata": {},
   "source": [
    "## 9. Epoch Vs Training Accuracy, Validation Accuracy"
   ]
  },
  {
   "cell_type": "code",
   "execution_count": 27,
   "metadata": {
    "cell_style": "center"
   },
   "outputs": [
    {
     "name": "stdout",
     "output_type": "stream",
     "text": [
      "Epoch 1/50\n",
      "115/115 [==============================] - 0s 1ms/step - loss: 0.4479 - accuracy: 0.7804 - val_loss: 0.4907 - val_accuracy: 0.7597\n",
      "Epoch 2/50\n",
      "115/115 [==============================] - 0s 1ms/step - loss: 0.4374 - accuracy: 0.7804 - val_loss: 0.4847 - val_accuracy: 0.7468\n",
      "Epoch 3/50\n",
      "115/115 [==============================] - 0s 1ms/step - loss: 0.4303 - accuracy: 0.7978 - val_loss: 0.4877 - val_accuracy: 0.7532\n",
      "Epoch 4/50\n",
      "115/115 [==============================] - 0s 1ms/step - loss: 0.4251 - accuracy: 0.7804 - val_loss: 0.4843 - val_accuracy: 0.7403\n",
      "Epoch 5/50\n",
      "115/115 [==============================] - 0s 1ms/step - loss: 0.4220 - accuracy: 0.8022 - val_loss: 0.4865 - val_accuracy: 0.7403\n",
      "Epoch 6/50\n",
      "115/115 [==============================] - 0s 1ms/step - loss: 0.4160 - accuracy: 0.7891 - val_loss: 0.4857 - val_accuracy: 0.7468\n",
      "Epoch 7/50\n",
      "115/115 [==============================] - 0s 1ms/step - loss: 0.4123 - accuracy: 0.8022 - val_loss: 0.4919 - val_accuracy: 0.7338\n",
      "Epoch 8/50\n",
      "115/115 [==============================] - 0s 1ms/step - loss: 0.4138 - accuracy: 0.7935 - val_loss: 0.4941 - val_accuracy: 0.7532\n",
      "Epoch 9/50\n",
      "115/115 [==============================] - 0s 1ms/step - loss: 0.4063 - accuracy: 0.8000 - val_loss: 0.4864 - val_accuracy: 0.7338\n",
      "Epoch 10/50\n",
      "115/115 [==============================] - 0s 1ms/step - loss: 0.4031 - accuracy: 0.8022 - val_loss: 0.4894 - val_accuracy: 0.7403\n",
      "Epoch 11/50\n",
      "115/115 [==============================] - 0s 1ms/step - loss: 0.3994 - accuracy: 0.8065 - val_loss: 0.4972 - val_accuracy: 0.7532\n",
      "Epoch 12/50\n",
      "115/115 [==============================] - 0s 1ms/step - loss: 0.3961 - accuracy: 0.8087 - val_loss: 0.4950 - val_accuracy: 0.7403\n",
      "Epoch 13/50\n",
      "115/115 [==============================] - 0s 1ms/step - loss: 0.3925 - accuracy: 0.8152 - val_loss: 0.4934 - val_accuracy: 0.7468\n",
      "Epoch 14/50\n",
      "115/115 [==============================] - 0s 1ms/step - loss: 0.3898 - accuracy: 0.8217 - val_loss: 0.4979 - val_accuracy: 0.7468\n",
      "Epoch 15/50\n",
      "115/115 [==============================] - 0s 1ms/step - loss: 0.3894 - accuracy: 0.8152 - val_loss: 0.5047 - val_accuracy: 0.7403\n",
      "Epoch 16/50\n",
      "115/115 [==============================] - 0s 1ms/step - loss: 0.3829 - accuracy: 0.8152 - val_loss: 0.5060 - val_accuracy: 0.7403\n",
      "Epoch 17/50\n",
      "115/115 [==============================] - 0s 1ms/step - loss: 0.3794 - accuracy: 0.8130 - val_loss: 0.5045 - val_accuracy: 0.7338\n",
      "Epoch 18/50\n",
      "115/115 [==============================] - 0s 1ms/step - loss: 0.3751 - accuracy: 0.8217 - val_loss: 0.5114 - val_accuracy: 0.7403\n",
      "Epoch 19/50\n",
      "115/115 [==============================] - 0s 1ms/step - loss: 0.3727 - accuracy: 0.8217 - val_loss: 0.5141 - val_accuracy: 0.7532\n",
      "Epoch 20/50\n",
      "115/115 [==============================] - 0s 1ms/step - loss: 0.3686 - accuracy: 0.8261 - val_loss: 0.5154 - val_accuracy: 0.7403\n",
      "Epoch 21/50\n",
      "115/115 [==============================] - 0s 1ms/step - loss: 0.3644 - accuracy: 0.8326 - val_loss: 0.5239 - val_accuracy: 0.7468\n",
      "Epoch 22/50\n",
      "115/115 [==============================] - 0s 1ms/step - loss: 0.3633 - accuracy: 0.8348 - val_loss: 0.5219 - val_accuracy: 0.7468\n",
      "Epoch 23/50\n",
      "115/115 [==============================] - 0s 997us/step - loss: 0.3602 - accuracy: 0.8435 - val_loss: 0.5316 - val_accuracy: 0.7338\n",
      "Epoch 24/50\n",
      "115/115 [==============================] - 0s 1ms/step - loss: 0.3551 - accuracy: 0.8478 - val_loss: 0.5322 - val_accuracy: 0.7338\n",
      "Epoch 25/50\n",
      "115/115 [==============================] - 0s 1ms/step - loss: 0.3490 - accuracy: 0.8348 - val_loss: 0.5393 - val_accuracy: 0.7403\n",
      "Epoch 26/50\n",
      "115/115 [==============================] - 0s 1ms/step - loss: 0.3487 - accuracy: 0.8478 - val_loss: 0.5335 - val_accuracy: 0.7403\n",
      "Epoch 27/50\n",
      "115/115 [==============================] - 0s 1ms/step - loss: 0.3450 - accuracy: 0.8522 - val_loss: 0.5396 - val_accuracy: 0.7273\n",
      "Epoch 28/50\n",
      "115/115 [==============================] - 0s 1ms/step - loss: 0.3418 - accuracy: 0.8435 - val_loss: 0.5488 - val_accuracy: 0.7273\n",
      "Epoch 29/50\n",
      "115/115 [==============================] - 0s 1ms/step - loss: 0.3374 - accuracy: 0.8522 - val_loss: 0.5568 - val_accuracy: 0.7273\n",
      "Epoch 30/50\n",
      "115/115 [==============================] - 0s 1ms/step - loss: 0.3371 - accuracy: 0.8543 - val_loss: 0.5520 - val_accuracy: 0.7273\n",
      "Epoch 31/50\n",
      "115/115 [==============================] - 0s 1ms/step - loss: 0.3311 - accuracy: 0.8587 - val_loss: 0.5563 - val_accuracy: 0.7273\n",
      "Epoch 32/50\n",
      "115/115 [==============================] - 0s 1ms/step - loss: 0.3308 - accuracy: 0.8543 - val_loss: 0.5546 - val_accuracy: 0.7338\n",
      "Epoch 33/50\n",
      "115/115 [==============================] - 0s 2ms/step - loss: 0.3278 - accuracy: 0.8652 - val_loss: 0.5620 - val_accuracy: 0.7078\n",
      "Epoch 34/50\n",
      "115/115 [==============================] - 0s 2ms/step - loss: 0.3235 - accuracy: 0.8674 - val_loss: 0.5667 - val_accuracy: 0.7273\n",
      "Epoch 35/50\n",
      "115/115 [==============================] - 0s 1ms/step - loss: 0.3185 - accuracy: 0.8522 - val_loss: 0.5714 - val_accuracy: 0.7208\n",
      "Epoch 36/50\n",
      "115/115 [==============================] - 0s 1ms/step - loss: 0.3176 - accuracy: 0.8717 - val_loss: 0.5780 - val_accuracy: 0.7143\n",
      "Epoch 37/50\n",
      "115/115 [==============================] - 0s 1ms/step - loss: 0.3134 - accuracy: 0.8696 - val_loss: 0.5781 - val_accuracy: 0.7208\n",
      "Epoch 38/50\n",
      "115/115 [==============================] - 0s 1ms/step - loss: 0.3119 - accuracy: 0.8739 - val_loss: 0.5759 - val_accuracy: 0.7208\n",
      "Epoch 39/50\n",
      "115/115 [==============================] - 0s 1ms/step - loss: 0.3088 - accuracy: 0.8674 - val_loss: 0.5855 - val_accuracy: 0.7078\n",
      "Epoch 40/50\n",
      "115/115 [==============================] - 0s 1ms/step - loss: 0.3068 - accuracy: 0.8630 - val_loss: 0.5792 - val_accuracy: 0.7273\n",
      "Epoch 41/50\n",
      "115/115 [==============================] - 0s 1ms/step - loss: 0.3035 - accuracy: 0.8761 - val_loss: 0.5898 - val_accuracy: 0.7078\n",
      "Epoch 42/50\n",
      "115/115 [==============================] - 0s 1ms/step - loss: 0.3012 - accuracy: 0.8761 - val_loss: 0.5910 - val_accuracy: 0.7208\n",
      "Epoch 43/50\n",
      "115/115 [==============================] - 0s 1ms/step - loss: 0.2969 - accuracy: 0.8761 - val_loss: 0.6013 - val_accuracy: 0.7143\n",
      "Epoch 44/50\n",
      "115/115 [==============================] - 0s 1ms/step - loss: 0.2949 - accuracy: 0.8652 - val_loss: 0.6015 - val_accuracy: 0.6948\n",
      "Epoch 45/50\n",
      "115/115 [==============================] - 0s 1ms/step - loss: 0.2900 - accuracy: 0.8739 - val_loss: 0.6071 - val_accuracy: 0.7143\n",
      "Epoch 46/50\n",
      "115/115 [==============================] - 0s 1ms/step - loss: 0.2879 - accuracy: 0.8761 - val_loss: 0.6012 - val_accuracy: 0.7013\n",
      "Epoch 47/50\n",
      "115/115 [==============================] - 0s 1ms/step - loss: 0.2836 - accuracy: 0.8848 - val_loss: 0.6055 - val_accuracy: 0.7078\n",
      "Epoch 48/50\n",
      "115/115 [==============================] - 0s 1ms/step - loss: 0.2801 - accuracy: 0.8826 - val_loss: 0.6130 - val_accuracy: 0.6948\n",
      "Epoch 49/50\n",
      "115/115 [==============================] - 0s 1ms/step - loss: 0.2766 - accuracy: 0.8891 - val_loss: 0.6152 - val_accuracy: 0.7273\n",
      "Epoch 50/50\n",
      "115/115 [==============================] - 0s 1ms/step - loss: 0.2764 - accuracy: 0.8848 - val_loss: 0.6130 - val_accuracy: 0.7078\n"
     ]
    }
   ],
   "source": [
    "#Calculating training and validation Accuracy\n",
    "earlystopping = callbacks.EarlyStopping(monitor='val_loss', mode='min', verbose=1, patience=200)\n",
    "\n",
    "\n",
    "history = model.fit(X_train_stand, y_train, batch_size = 4,  \n",
    "                    epochs =50, validation_data =(X_val_stand, y_val),\n",
    "                    callbacks =[earlystopping]) "
   ]
  },
  {
   "cell_type": "code",
   "execution_count": 28,
   "metadata": {},
   "outputs": [
    {
     "name": "stdout",
     "output_type": "stream",
     "text": [
      "Train: 0.891, Test: 0.708\n"
     ]
    }
   ],
   "source": [
    "# evaluate the model\n",
    "_, train_acc = model.evaluate(X_train_stand, y_train, verbose=0)\n",
    "_, test_acc = model.evaluate(X_val_stand, y_val, verbose=0)\n",
    "print('Train: %.3f, Test: %.3f' % (train_acc, test_acc))"
   ]
  },
  {
   "cell_type": "code",
   "execution_count": 29,
   "metadata": {
    "cell_style": "center"
   },
   "outputs": [
    {
     "name": "stdout",
     "output_type": "stream",
     "text": [
      "dict_keys(['loss', 'accuracy', 'val_loss', 'val_accuracy'])\n"
     ]
    },
    {
     "data": {
      "image/png": "[encoded data removed]",
      "text/plain": [
       "<Figure size 432x288 with 1 Axes>"
      ]
     },
     "metadata": {
      "needs_background": "light"
     },
     "output_type": "display_data"
    }
   ],
   "source": [
    "# list all data in history\n",
    "print(history.history.keys())\n",
    "\n",
    "# summarize history for accuracy\n",
    "plt.plot(history.history['accuracy'])\n",
    "plt.plot(history.history['val_accuracy'])\n",
    "plt.title('model accuracy')\n",
    "plt.ylabel('accuracy')\n",
    "plt.xlabel('epoch')\n",
    "plt.legend(['train', 'validation'], loc='upper right')\n",
    "plt.show()"
   ]
  },
  {
   "cell_type": "code",
   "execution_count": 30,
   "metadata": {},
   "outputs": [
    {
     "data": {
      "image/png": "[encoded data removed]",
      "text/plain": [
       "<Figure size 432x288 with 1 Axes>"
      ]
     },
     "metadata": {
      "needs_background": "light"
     },
     "output_type": "display_data"
    }
   ],
   "source": [
    "# summarize history for loss\n",
    "plt.plot(history.history['loss'])\n",
    "plt.plot(history.history['val_loss'])\n",
    "plt.title('model loss')\n",
    "plt.ylabel('loss')\n",
    "plt.xlabel('epoch')\n",
    "plt.legend(['train', 'validation'], loc='upper right')\n",
    "plt.show()"
   ]
  },
  {
   "cell_type": "markdown",
   "metadata": {},
   "source": [
    "[Scroll Top](#Assignment-3.1)"
   ]
  },
  {
   "cell_type": "markdown",
   "metadata": {},
   "source": [
    "---"
   ]
  },
  {
   "cell_type": "markdown",
   "metadata": {},
   "source": [
    "## 10. Confusion Matrix"
   ]
  },
  {
   "cell_type": "code",
   "execution_count": 31,
   "metadata": {},
   "outputs": [
    {
     "name": "stdout",
     "output_type": "stream",
     "text": [
      "WARNING:tensorflow:From <ipython-input-31-47757fedb9b3>:2: Sequential.predict_classes (from tensorflow.python.keras.engine.sequential) is deprecated and will be removed after 2021-01-01.\n",
      "Instructions for updating:\n",
      "Please use instead:* `np.argmax(model.predict(x), axis=-1)`,   if your model does multi-class classification   (e.g. if it uses a `softmax` last-layer activation).* `(model.predict(x) > 0.5).astype(\"int32\")`,   if your model does binary classification   (e.g. if it uses a `sigmoid` last-layer activation).\n"
     ]
    },
    {
     "data": {
      "text/plain": [
       "Text(33.0, 0.5, 'Actual Value')"
      ]
     },
     "execution_count": 31,
     "metadata": {},
     "output_type": "execute_result"
    },
    {
     "data": {
      "image/png": "[encoded data removed]",
      "text/plain": [
       "<Figure size 432x288 with 1 Axes>"
      ]
     },
     "metadata": {
      "needs_background": "light"
     },
     "output_type": "display_data"
    }
   ],
   "source": [
    "# confusion matrix\n",
    "yTestPredict = model.predict_classes(X_test_stand)\n",
    "cMatrix = confusion_matrix(y_test, yTestPredict)\n",
    "ax = sns.heatmap(cMatrix, annot=True, xticklabels=['No Diabetes', 'Diabetes'], yticklabels=['NoDiabetes', 'Diabetes'], cbar=False, cmap='Blues')\n",
    "ax.set_xlabel(\"Predicted Value\")\n",
    "ax.set_ylabel(\"Actual Value\")"
   ]
  },
  {
   "cell_type": "markdown",
   "metadata": {},
   "source": [
    "[Scroll Top](#Assignment-3.1)"
   ]
  },
  {
   "cell_type": "markdown",
   "metadata": {},
   "source": [
    "---"
   ]
  },
  {
   "cell_type": "markdown",
   "metadata": {},
   "source": [
    "## 11. ROC Curve"
   ]
  },
  {
   "cell_type": "code",
   "execution_count": 32,
   "metadata": {},
   "outputs": [
    {
     "data": {
      "image/png": "[encoded data removed]",
      "text/plain": [
       "<Figure size 432x288 with 1 Axes>"
      ]
     },
     "metadata": {
      "needs_background": "light"
     },
     "output_type": "display_data"
    },
    {
     "data": {
      "text/plain": [
       "<Figure size 432x288 with 0 Axes>"
      ]
     },
     "metadata": {},
     "output_type": "display_data"
    }
   ],
   "source": [
    "# ROC curve\n",
    "\n",
    "from sklearn.metrics import roc_curve, roc_auc_score\n",
    "yTestPredictProbability = model.predict(X_test_stand)\n",
    "FPR, TPR, _ = roc_curve(y_test, yTestPredictProbability)\n",
    "\n",
    "plt.plot(FPR, TPR)\n",
    "plt.plot([0,1], [0,1], '--', color='black')\n",
    "plt.title('ROC Curve')\n",
    "plt.xlabel('False-Positive Rate')\n",
    "plt.ylabel('True-Positive Rate')\n",
    "\n",
    "plt.show()\n",
    "plt.clf()"
   ]
  },
  {
   "cell_type": "markdown",
   "metadata": {},
   "source": [
    "[Scroll Top](#Assignment-3.1)"
   ]
  },
  {
   "cell_type": "markdown",
   "metadata": {},
   "source": [
    "---"
   ]
  },
  {
   "cell_type": "markdown",
   "metadata": {},
   "source": [
    "## 12. Area Under Curve (AUC)"
   ]
  },
  {
   "cell_type": "code",
   "execution_count": 33,
   "metadata": {},
   "outputs": [
    {
     "data": {
      "text/plain": [
       "0.8685032139577594"
      ]
     },
     "execution_count": 33,
     "metadata": {},
     "output_type": "execute_result"
    }
   ],
   "source": [
    "#Area under ROC curve\n",
    "roc_auc_score(y_test,yTestPredictProbability)"
   ]
  },
  {
   "cell_type": "markdown",
   "metadata": {},
   "source": [
    "[Scroll Top](#Assignment-3.1)"
   ]
  },
  {
   "cell_type": "markdown",
   "metadata": {},
   "source": [
    "---"
   ]
  },
  {
   "cell_type": "markdown",
   "metadata": {},
   "source": [
    "## 13. Conclusion"
   ]
  },
  {
   "cell_type": "markdown",
   "metadata": {},
   "source": [
    "We predicted if a person has diabeties or not by building DNN model on Pima Indian Diabetic Dataset. We also plotted ROC and accuracy vs epoch. We are able to predict with accuracy of ~86%."
   ]
  },
  {
   "cell_type": "markdown",
   "metadata": {},
   "source": [
    "[Scroll Top](#Assignment-3.1)"
   ]
  },
  {
   "cell_type": "markdown",
   "metadata": {},
   "source": [
    "<div class=\"alert alert-block alert-info\">\n",
    "    <b>Copyright</b> 2020 Srushti Dhamangaonkar<br>\n",
    "    <br>Permission is hereby granted, free of charge, to any person obtaining a copy of this software and associated documentation files (the \"Software\"), to deal in the Software without restriction, including without limitation the rights to use, copy, modify, merge, publish, distribute, sublicense, and/or sell copies of the Software, and to permit persons to whom the Software is furnished to do so, subject to the following conditions:<br>\n",
    "    <br>The above copyright notice and this permission notice shall be included in all copies or substantial portions of the Software.<br>\n",
    "    <br>THE SOFTWARE IS PROVIDED \"AS IS\", WITHOUT WARRANTY OF ANY KIND, EXPRESS OR IMPLIED, INCLUDING BUT NOT LIMITED TO THE WARRANTIES OF MERCHANTABILITY, FITNESS FOR A PARTICULAR PURPOSE AND NONINFRINGEMENT. IN NO EVENT SHALL THE AUTHORS OR COPYRIGHT HOLDERS BE LIABLE FOR ANY CLAIM, DAMAGES OR OTHER LIABILITY, WHETHER IN AN ACTION OF CONTRACT, TORT OR OTHERWISE, ARISING FROM, OUT OF OR IN CONNECTION WITH THE SOFTWARE OR THE USE OR OTHER DEALINGS IN THE SOFTWARE.\n",
    "    <br><br>\n",
    "    \n",
    "<div class=\"text-center\">\n",
    "    <a rel=\"license\" href=\"http://creativecommons.org/licenses/by/3.0/us/\"><img alt=\"Creative Commons License\" style=\"border-width:0\" src=\"https://i.creativecommons.org/l/by/3.0/us/88x31.png\" /></a><br />This work is licensed under a <a rel=\"license\" href=\"http://creativecommons.org/licenses/by/3.0/us/\">Creative Commons Attribution 3.0 United States License</a>.<br>\n",
    "</div></div>"
   ]
  }
 ],
 "metadata": {
  "kernelspec": {
   "display_name": "Python 3",
   "language": "python",
   "name": "python3"
  },
  "language_info": {
   "codemirror_mode": {
    "name": "ipython",
    "version": 3
   },
   "file_extension": ".py",
   "mimetype": "text/x-python",
   "name": "python",
   "nbconvert_exporter": "python",
   "pygments_lexer": "ipython3",
   "version": "3.7.4"
  }
 },
 "nbformat": 4,
 "nbformat_minor": 2
}
